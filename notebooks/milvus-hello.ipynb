{
 "cells": [
  {
   "cell_type": "code",
   "execution_count": 2,
   "id": "9b9f2c15-680a-40c6-84f1-98f3f11c5942",
   "metadata": {},
   "outputs": [],
   "source": [
    "from pymilvus_orm import connections, FieldSchema, CollectionSchema, DataType, Collection"
   ]
  },
  {
   "cell_type": "code",
   "execution_count": 3,
   "id": "f128bb9e-0a07-41a9-967f-fa333b9ac4f7",
   "metadata": {},
   "outputs": [
    {
     "data": {
      "text/plain": [
       "<pymilvus.client.stub.Milvus at 0x7f2fd0acf580>"
      ]
     },
     "execution_count": 3,
     "metadata": {},
     "output_type": "execute_result"
    }
   ],
   "source": [
    "connections.connect(host='localhost', port='19530')"
   ]
  },
  {
   "cell_type": "code",
   "execution_count": 4,
   "id": "8f4dff7c-bbe2-472e-ab33-64ced2e7b5ea",
   "metadata": {},
   "outputs": [
    {
     "name": "stdout",
     "output_type": "stream",
     "text": [
      "\n",
      "Create collection...\n"
     ]
    }
   ],
   "source": [
    "dim = 128\n",
    "default_fields = [\n",
    "    FieldSchema(name=\"count\", dtype=DataType.INT64, is_primary=True),\n",
    "    FieldSchema(name=\"random_value\", dtype=DataType.DOUBLE),\n",
    "    FieldSchema(name=\"float_vector\", dtype=DataType.FLOAT_VECTOR, dim=dim)\n",
    "]\n",
    "default_schema = CollectionSchema(fields=default_fields, description=\"test collection\")\n",
    "\n",
    "print(f\"\\nCreate collection...\")\n",
    "collection = Collection(name=\"hello_milvus\", schema=default_schema)"
   ]
  },
  {
   "cell_type": "code",
   "execution_count": 5,
   "id": "573bb5b1-3db2-44ed-afb9-f240fdad3181",
   "metadata": {},
   "outputs": [
    {
     "data": {
      "text/plain": [
       "{\"name\": \"hello_milvus\", \"schema\": {\"auto_id\": false, \"description\": \"test collection\", \"fields\": [{\"name\": \"count\", \"description\": \"\", \"type\": 5, \"is_primary\": true, \"auto_id\": false}, {\"name\": \"random_value\", \"description\": \"\", \"type\": 11}, {\"name\": \"float_vector\", \"description\": \"\", \"type\": 101, \"params\": {\"dim\": 128}}]}, \"partitions\": [{\"name\": \"_default\", \"collection_name\": \"hello_milvus\", \"description\": \"\"}], \"description\": \"test collection\"}"
      ]
     },
     "execution_count": 5,
     "metadata": {},
     "output_type": "execute_result"
    }
   ],
   "source": [
    "collection"
   ]
  },
  {
   "cell_type": "code",
   "execution_count": 6,
   "id": "c64a1724-f41d-414a-a044-f856bce10c3f",
   "metadata": {},
   "outputs": [
    {
     "data": {
      "text/plain": [
       "pymilvus_orm.collection.Collection"
      ]
     },
     "execution_count": 6,
     "metadata": {},
     "output_type": "execute_result"
    }
   ],
   "source": [
    "type(collection)"
   ]
  },
  {
   "cell_type": "code",
   "execution_count": 7,
   "id": "bec2c5ea-c56d-405b-9a6a-8e145e1b40fc",
   "metadata": {},
   "outputs": [
    {
     "data": {
      "text/plain": [
       "(insert count: 3000, delete count: 0, upsert count: 0, timestamp: 427286366892326913)"
      ]
     },
     "execution_count": 7,
     "metadata": {},
     "output_type": "execute_result"
    }
   ],
   "source": [
    "import random\n",
    "nb = 3000\n",
    "vectors = [[random.random() for _ in range(dim)] for _ in range(nb)]\n",
    "collection.insert(\n",
    "    [\n",
    "        [i for i in range(nb)],\n",
    "        [float(random.randrange(-20,-10)) for _ in range(nb)],\n",
    "        vectors\n",
    "    ]\n",
    ")"
   ]
  },
  {
   "cell_type": "code",
   "execution_count": 8,
   "id": "2740b449-1ce5-4ee0-ba5f-0f98c70539f9",
   "metadata": {},
   "outputs": [],
   "source": [
    "default_index = {\"index_type\": \"IVF_FLAT\", \"params\": {\"nlist\": 128}, \"metric_type\": \"L2\"}\n",
    "collection.create_index(field_name=\"float_vector\", index_params=default_index)\n",
    "collection.load()"
   ]
  },
  {
   "cell_type": "code",
   "execution_count": 9,
   "id": "86a2d730-25b5-4ef6-a21e-1d29a567cbdd",
   "metadata": {},
   "outputs": [],
   "source": [
    "topK = 5\n",
    "search_params = {\"metric_type\": \"L2\", \"params\": {\"nprobe\": 10}}\n",
    "# define output_fields of search result\n",
    "res = collection.search(\n",
    "    vectors[-2:], \"float_vector\", search_params, topK,\n",
    "    \"count > 100\", output_fields=[\"count\", \"random_value\"]\n",
    ")"
   ]
  },
  {
   "cell_type": "code",
   "execution_count": 10,
   "id": "64539fbb-013a-4e0e-92ca-0b364a9dc96f",
   "metadata": {},
   "outputs": [
    {
     "data": {
      "text/plain": [
       "<pymilvus_orm.search.SearchResult at 0x7f2fcf27f7c0>"
      ]
     },
     "execution_count": 10,
     "metadata": {},
     "output_type": "execute_result"
    }
   ],
   "source": [
    "res"
   ]
  },
  {
   "cell_type": "code",
   "execution_count": 11,
   "id": "ff4d2366-658b-4d67-94a2-087b99cc1ba0",
   "metadata": {},
   "outputs": [
    {
     "data": {
      "text/plain": [
       "{'_qs': <pymilvus.client.abstract.ChunkedQueryResult at 0x7f2fcf27ffd0>}"
      ]
     },
     "execution_count": 11,
     "metadata": {},
     "output_type": "execute_result"
    }
   ],
   "source": [
    "vars(res)"
   ]
  },
  {
   "cell_type": "code",
   "execution_count": 12,
   "id": "b70106df-e56f-44e4-9511-077c7ffa8573",
   "metadata": {},
   "outputs": [
    {
     "data": {
      "text/plain": [
       "[<pymilvus_orm.search.Hits at 0x7f2fcf27f940>,\n",
       " <pymilvus_orm.search.Hits at 0x7f2fd0acf910>]"
      ]
     },
     "execution_count": 12,
     "metadata": {},
     "output_type": "execute_result"
    }
   ],
   "source": [
    "list(res)"
   ]
  },
  {
   "cell_type": "code",
   "execution_count": 14,
   "id": "6f3c97d7-8b43-4921-a8bc-b5cd59db943e",
   "metadata": {},
   "outputs": [],
   "source": [
    "hit = res[0]"
   ]
  },
  {
   "cell_type": "code",
   "execution_count": 15,
   "id": "f252268b-8a57-4d08-bfb0-bd66f254b378",
   "metadata": {},
   "outputs": [
    {
     "data": {
      "text/plain": [
       "{'_LoopBase__index': 0,\n",
       " '_raw': fields_data {\n",
       "   type: Int64\n",
       "   field_name: \"count\"\n",
       "   scalars {\n",
       "     long_data {\n",
       "       data: 2998\n",
       "       data: 1366\n",
       "       data: 187\n",
       "       data: 2667\n",
       "       data: 2993\n",
       "     }\n",
       "   }\n",
       " }\n",
       " fields_data {\n",
       "   type: Double\n",
       "   field_name: \"random_value\"\n",
       "   scalars {\n",
       "     double_data {\n",
       "       data: -12.0\n",
       "       data: -15.0\n",
       "       data: -17.0\n",
       "       data: -20.0\n",
       "       data: -15.0\n",
       "     }\n",
       "   }\n",
       " }\n",
       " scores: 0.0\n",
       " scores: 14.647258758544922\n",
       " scores: 14.935089111328125\n",
       " scores: 15.197955131530762\n",
       " scores: 15.30621337890625\n",
       " ids {\n",
       "   int_id {\n",
       "     data: 2998\n",
       "     data: 1366\n",
       "     data: 187\n",
       "     data: 2667\n",
       "     data: 2993\n",
       "   }\n",
       " },\n",
       " '_auto_id': False,\n",
       " '_distances': [0.0, 14.647258758544922, 14.935089111328125, 15.197955131530762, 15.30621337890625],\n",
       " '_entities': [<pymilvus.client.abstract.Hit at 0x7f2fcf2968b0>,\n",
       "  <pymilvus.client.abstract.Hit at 0x7f2fcf2966a0>,\n",
       "  <pymilvus.client.abstract.Hit at 0x7f2fcf296a00>,\n",
       "  <pymilvus.client.abstract.Hit at 0x7f2fcf2967c0>,\n",
       "  <pymilvus.client.abstract.Hit at 0x7f2fcf296130>]}"
      ]
     },
     "execution_count": 15,
     "metadata": {},
     "output_type": "execute_result"
    }
   ],
   "source": [
    "vars(hit)"
   ]
  },
  {
   "cell_type": "code",
   "execution_count": null,
   "id": "82a8a1d5-69bf-4a69-aa32-9f7dd94efab0",
   "metadata": {},
   "outputs": [],
   "source": []
  }
 ],
 "metadata": {
  "kernelspec": {
   "display_name": "nlp-service-venv",
   "language": "python",
   "name": "nlp-service-venv"
  },
  "language_info": {
   "codemirror_mode": {
    "name": "ipython",
    "version": 3
   },
   "file_extension": ".py",
   "mimetype": "text/x-python",
   "name": "python",
   "nbconvert_exporter": "python",
   "pygments_lexer": "ipython3",
   "version": "3.8.10"
  }
 },
 "nbformat": 4,
 "nbformat_minor": 5
}
