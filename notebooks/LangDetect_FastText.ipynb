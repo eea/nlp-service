{
 "cells": [
  {
   "cell_type": "code",
   "execution_count": 1,
   "id": "12a1635d-fcaf-4a38-ab44-e457daa7d348",
   "metadata": {},
   "outputs": [],
   "source": [
    "import fasttext\n",
    "from langdetect import detect"
   ]
  },
  {
   "cell_type": "code",
   "execution_count": 2,
   "id": "baa1c7ae-e10d-485c-a3f2-bf4ade430464",
   "metadata": {},
   "outputs": [
    {
     "name": "stdout",
     "output_type": "stream",
     "text": [
      "pred1\n",
      "(('__label__en',), array([0.26326743]))\n",
      "pred2\n",
      "(('__label__it',), array([0.22584032]))\n",
      "pred3\n",
      "(('__label__ru',), array([0.85567343]))\n"
     ]
    },
    {
     "name": "stderr",
     "output_type": "stream",
     "text": [
      "Warning : `load_model` does not return WordVectorModel or SupervisedModel any more, but a `FastText` object which is very similar.\n"
     ]
    },
    {
     "data": {
      "text/plain": [
       "{'____ru': 0.8556734323501587}"
      ]
     },
     "execution_count": 2,
     "metadata": {},
     "output_type": "execute_result"
    }
   ],
   "source": [
    "model = fasttext.load_model('/home/adi/anaconda3/envs/py384/lib/python3.8/site-packages/fasttext/lid.176.bin')\n",
    "\n",
    "text1 = \"how does this get into human est cet mot en francais?\"\n",
    "text2 = \"stie cineva cum se intampla in aceasta situatie?\"\n",
    "text3 = \"как това попада в човека\"\n",
    "\n",
    "pred1 = model.predict(text1)\n",
    "pred2 = model.predict(text2)\n",
    "pred3 = model.predict(text3)\n",
    "\n",
    "print(\"pred1\")\n",
    "print(pred1)\n",
    "\n",
    "print(\"pred2\")\n",
    "print(pred2)\n",
    "\n",
    "print(\"pred3\")\n",
    "print(pred3)\n",
    "\n",
    "dict([(x.replace('label', ''), y) for x, y in zip(*pred3)])"
   ]
  },
  {
   "cell_type": "code",
   "execution_count": 3,
   "id": "b90ade0d-eaa5-488a-9e5d-a3071cdcc835",
   "metadata": {},
   "outputs": [
    {
     "data": {
      "text/plain": [
       "'fr'"
      ]
     },
     "execution_count": 3,
     "metadata": {},
     "output_type": "execute_result"
    }
   ],
   "source": [
    "detect(text1)"
   ]
  },
  {
   "cell_type": "code",
   "execution_count": 4,
   "id": "1f05a95d-8c1d-42a7-add5-357d2a0194c9",
   "metadata": {},
   "outputs": [
    {
     "data": {
      "text/plain": [
       "'it'"
      ]
     },
     "execution_count": 4,
     "metadata": {},
     "output_type": "execute_result"
    }
   ],
   "source": [
    "detect(text2)"
   ]
  },
  {
   "cell_type": "code",
   "execution_count": 5,
   "id": "afea0796-4da2-43fe-a5ea-b4412e01fa25",
   "metadata": {},
   "outputs": [
    {
     "data": {
      "text/plain": [
       "'bg'"
      ]
     },
     "execution_count": 5,
     "metadata": {},
     "output_type": "execute_result"
    }
   ],
   "source": [
    "detect(text3)"
   ]
  },
  {
   "cell_type": "code",
   "execution_count": null,
   "id": "e11e5f0a-6562-4239-9f86-13b335b3b1a2",
   "metadata": {},
   "outputs": [],
   "source": []
  }
 ],
 "metadata": {
  "kernelspec": {
   "display_name": "py384",
   "language": "python",
   "name": "py384"
  },
  "language_info": {
   "codemirror_mode": {
    "name": "ipython",
    "version": 3
   },
   "file_extension": ".py",
   "mimetype": "text/x-python",
   "name": "python",
   "nbconvert_exporter": "python",
   "pygments_lexer": "ipython3",
   "version": "3.8.13"
  }
 },
 "nbformat": 4,
 "nbformat_minor": 5
}
