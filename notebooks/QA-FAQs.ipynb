{
 "cells": [
  {
   "cell_type": "code",
   "execution_count": 1,
   "id": "108a6490-7239-43ee-a081-b933f277a065",
   "metadata": {},
   "outputs": [],
   "source": [
    "embedding_model = \"sentence-transformers/all-MiniLM-L6-v2\"\n",
    "model_dim = 384"
   ]
  },
  {
   "cell_type": "code",
   "execution_count": 2,
   "id": "3a27e1a5-cc25-4230-8462-90c69fbb2af3",
   "metadata": {},
   "outputs": [
    {
     "name": "stderr",
     "output_type": "stream",
     "text": [
      "INFO - haystack.modeling.model.optimization -  apex not found, won't use it. See https://nvidia.github.io/apex/\n",
      "/home/tibi/mambaforge/envs/py38/lib/python3.8/site-packages/ray/autoscaler/_private/cli_logger.py:57: FutureWarning: Not all Ray CLI dependencies were found. In Ray 1.4+, the Ray CLI, autoscaler, and dashboard will only be usable via `pip install 'ray[default]'`. Please update your install command.\n",
      "  warnings.warn(\n"
     ]
    }
   ],
   "source": [
    "from haystack.document_stores import InMemoryDocumentStore\n",
    "from haystack.nodes import EmbeddingRetriever"
   ]
  },
  {
   "cell_type": "code",
   "execution_count": 3,
   "id": "8463a916-6e4d-4df8-8c46-5f85c012d78a",
   "metadata": {
    "tags": []
   },
   "outputs": [],
   "source": [
    "import json\n",
    "\n",
    "def file_to_docstore(name):\n",
    "    document_store = InMemoryDocumentStore(embedding_dim=model_dim, similarity=\"cosine\")\n",
    "    \n",
    "    fpath = f'./data/{name}'\n",
    "    print(f\"Processing {name}\")\n",
    "    \n",
    "    with open(fpath) as f:\n",
    "        faqs = json.load(f)\n",
    "    \n",
    "    docs = []\n",
    "    \n",
    "    for d in faqs:\n",
    "        # print(d)\n",
    "        doc = {\n",
    "            \"content\": d['question'].strip(),\n",
    "            \"id\": d[\"id\"],\n",
    "            \"meta\": {\n",
    "                \"answer\": d['answer'].strip()\n",
    "            }\n",
    "        }\n",
    "        docs.append(doc)\n",
    "        \n",
    "    print(f\"{len(docs)} documents found\")\n",
    "    \n",
    "    retriever = EmbeddingRetriever(document_store=document_store, \n",
    "                                   embedding_model=embedding_model, use_gpu=True)\n",
    "#     embeddings = retriever.embed_queries(texts=[d['content'] for d in docs])\n",
    "    \n",
    "#     for (doc, emb) in zip(docs, embeddings):\n",
    "#         doc['embedding'] = emb.tolist()\n",
    "    document_store.write_documents(docs)\n",
    "    document_store.update_embeddings(retriever)\n",
    "    # print(type(doc['question_emb']))\n",
    "    return document_store, retriever"
   ]
  },
  {
   "cell_type": "code",
   "execution_count": 4,
   "id": "ea198e04-f9f4-41e4-8bec-969b3dadae16",
   "metadata": {},
   "outputs": [
    {
     "name": "stderr",
     "output_type": "stream",
     "text": [
      "INFO - haystack.modeling.utils -  Using devices: CUDA:0\n",
      "INFO - haystack.modeling.utils -  Number of GPUs: 1\n",
      "INFO - haystack.modeling.utils -  Using devices: CUDA:0\n",
      "INFO - haystack.modeling.utils -  Number of GPUs: 1\n",
      "INFO - haystack.nodes.retriever.dense -  Init retriever using embeddings of model sentence-transformers/all-MiniLM-L6-v2\n",
      "INFO - haystack.modeling.utils -  Using devices: CUDA\n",
      "INFO - haystack.modeling.utils -  Number of GPUs: 1\n",
      "INFO - haystack.modeling.model.language_model -  LOADING MODEL\n",
      "INFO - haystack.modeling.model.language_model -  =============\n",
      "INFO - haystack.modeling.model.language_model -  Could not find sentence-transformers/all-MiniLM-L6-v2 locally.\n",
      "INFO - haystack.modeling.model.language_model -  Looking on Transformers Model Hub (in local cache and online)...\n"
     ]
    },
    {
     "name": "stdout",
     "output_type": "stream",
     "text": [
      "Processing faqs.json\n",
      "59 documents found\n"
     ]
    },
    {
     "name": "stderr",
     "output_type": "stream",
     "text": [
      "INFO - haystack.modeling.model.language_model -  Loaded sentence-transformers/all-MiniLM-L6-v2\n",
      "INFO - haystack.modeling.data_handler.processor -  Initialized processor without tasks. Supply `metric` and `label_list` to the constructor for using the default task or add a custom task later via processor.add_task()\n",
      "INFO - haystack.modeling.logger -  ML Logging is turned off. No parameters, metrics or artifacts will be logged to MLFlow.\n",
      "INFO - haystack.modeling.utils -  Using devices: CUDA\n",
      "INFO - haystack.modeling.utils -  Number of GPUs: 1\n",
      "INFO - haystack.document_stores.memory -  Updating embeddings for 59 docs ...\n",
      "Updating Embedding:   0%|                                                                                                                                                                     | 0/59 [00:00<?, ? docs/s]\n",
      "Inferencing Samples:   0%|                                                                                                                                                                  | 0/2 [00:00<?, ? Batches/s]\u001b[A\n",
      "Inferencing Samples:  50%|█████████████████████████████████████████████████████████████████████████████                                                                             | 1/2 [00:00<00:00,  1.61 Batches/s]\u001b[A\n",
      "Inferencing Samples: 100%|██████████████████████████████████████████████████████████████████████████████████████████████████████████████████████████████████████████████████████████| 2/2 [00:00<00:00,  2.69 Batches/s]\u001b[A\n",
      "Documents Processed: 10000 docs [00:00, 11028.69 docs/s]                                                                                                                                                                \n"
     ]
    }
   ],
   "source": [
    "docstore, retriever = file_to_docstore('faqs.json')"
   ]
  },
  {
   "cell_type": "code",
   "execution_count": 5,
   "id": "89c10b28-e9b5-4bae-a789-ff9e05bd5429",
   "metadata": {},
   "outputs": [],
   "source": [
    "from haystack.pipelines import FAQPipeline\n",
    "\n",
    "pipe = FAQPipeline(retriever=retriever)"
   ]
  },
  {
   "cell_type": "code",
   "execution_count": 7,
   "id": "532762f4-dcd5-40e6-8ca9-090c9db26d46",
   "metadata": {},
   "outputs": [
    {
     "name": "stderr",
     "output_type": "stream",
     "text": [
      "Inferencing Samples: 100%|██████████████████████████████████████████████████████████████████████████████████████████████████████████████████████████████████████████████████████████| 1/1 [00:00<00:00, 58.95 Batches/s]"
     ]
    },
    {
     "name": "stdout",
     "output_type": "stream",
     "text": [
      "\n",
      "Query: what are fgas\n",
      "Answers:\n",
      "[   {   'answer': 'Fluorinated gases (F-gases) are man-made gases used in a '\n",
      "                  'range of industrial applications. F-gases are often used as '\n",
      "                  'substitutes for ozone-depleting substances because they do '\n",
      "                  'not damage the atmospheric ozone layer. However, F-gases '\n",
      "                  'are powerful greenhouse gases, with an even higher warming '\n",
      "                  'potential than carbon dioxide (CO2). They thus contribute '\n",
      "                  'greatly to climate change.\\n'\n",
      "                  'To control emissions from F-gases, including '\n",
      "                  'hydrofluorocarbons (HFCs), the European Union has adopted '\n",
      "                  'two legislative acts: the F-gas Regulation and the MAC '\n",
      "                  '(Mobile Air Conditioning systems) Directive. The EEA '\n",
      "                  'contributes by collecting data reported by companies on the '\n",
      "                  'production, import, export, destruction and feedstock use '\n",
      "                  'of F-gases in the EU. These data are published in the '\n",
      "                  'Fluorinated greenhouse gases report on an annual basis.\\n'\n",
      "                  'For references, please go to '\n",
      "                  'https://www.eea.europa.eu/help/faq/what-are-f-gases-and or '\n",
      "                  'scan the QR code.',\n",
      "        'context': 'Fluorinated gases (F-gases) are man-made gases used in a '\n",
      "                   'range of industrial applications. F-gases are often used '\n",
      "                   'as substitutes for ozone-depleting substances because they '\n",
      "                   'do not damage the atmospheric ozone layer. However, '\n",
      "                   'F-gases are powerful greenhouse gases, with an even higher '\n",
      "                   'warming potential than carbon dioxide (CO2). They thus '\n",
      "                   'contribute greatly to climate change.\\n'\n",
      "                   'To control emissions from F-gases, including '\n",
      "                   'hydrofluorocarbons (HFCs), the European Union has adopted '\n",
      "                   'two legislative acts: the F-gas Regulation and the MAC '\n",
      "                   '(Mobile Air Conditioning systems) Directive. The EEA '\n",
      "                   'contributes by collecting data reported by companies on '\n",
      "                   'the production, import, export, destruction and feedstock '\n",
      "                   'use of F-gases in the EU. These data are published in the '\n",
      "                   'Fluorinated greenhouse gases report on an annual basis.\\n'\n",
      "                   'For references, please go to '\n",
      "                   'https://www.eea.europa.eu/help/faq/what-are-f-gases-and or '\n",
      "                   'scan the QR code.',\n",
      "        'score': 0.7761443257331848}]\n",
      "CPU times: user 15.8 ms, sys: 10.5 ms, total: 26.3 ms\n",
      "Wall time: 24.5 ms\n"
     ]
    },
    {
     "name": "stderr",
     "output_type": "stream",
     "text": [
      "\n"
     ]
    }
   ],
   "source": [
    "%%time\n",
    "from haystack.utils import print_answers\n",
    "\n",
    "prediction = pipe.run(query=\"what are fgas\", params={\"Retriever\": {\"top_k\": 1}})\n",
    "print_answers(prediction, details=\"medium\")"
   ]
  },
  {
   "cell_type": "code",
   "execution_count": null,
   "id": "a3134f59-1ed2-45fa-b9fc-d3211313320f",
   "metadata": {},
   "outputs": [],
   "source": [
    "prediction"
   ]
  }
 ],
 "metadata": {
  "kernelspec": {
   "display_name": "conda_py38",
   "language": "python",
   "name": "conda_py38"
  },
  "language_info": {
   "codemirror_mode": {
    "name": "ipython",
    "version": 3
   },
   "file_extension": ".py",
   "mimetype": "text/x-python",
   "name": "python",
   "nbconvert_exporter": "python",
   "pygments_lexer": "ipython3",
   "version": "3.8.10"
  }
 },
 "nbformat": 4,
 "nbformat_minor": 5
}
