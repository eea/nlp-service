{
 "cells": [
  {
   "cell_type": "code",
   "execution_count": 1,
   "id": "225f2b07-4840-4b1a-bfb9-61295cfbbf92",
   "metadata": {},
   "outputs": [],
   "source": [
    "# we define the tests parameters - here is the only cell where we need to give our input\n",
    "\n",
    "input_file_name = \"10.json\"\n",
    "\n",
    "split_length = 100\n",
    "tokenizer_model = None\n",
    "use_gpu = False\n",
    "\n",
    "readers = [\"FARMReader\", \"TransformersReader\"]\n",
    "\n",
    "reference_test = (\"FARMReader\", \"deepset/roberta-base-squad2\", (10, 3))\n",
    "\n",
    "models = [\n",
    "    \"deepset/minilm-uncased-squad2\",\n",
    "    #    \"deepset/roberta-base-squad2-distilled\",\n",
    "    #    \"deepset/roberta-base-squad2\",\n",
    "    #    \"deepset/electra-base-squad2\",\n",
    "    #    \"deepset/tinyroberta-6l-768d\",\n",
    "    #    \"deepset/bert-base-cased-squad2\"\n",
    "    #    ,\"distilbert-base-uncased-distilled-squad\"\n",
    "    #    ,\"distilbert-base-uncased\"\n",
    "    #    ,\"distilbert-base-uncased-finetuned-sst-2-english\"\n",
    "]\n",
    "\n",
    "scenarios = [\n",
    "    (10, 3)\n",
    "    # ,(10,5)\n",
    "]"
   ]
  },
  {
   "cell_type": "code",
   "execution_count": 2,
   "id": "ae2189a8-b1cd-4398-b270-21072ac12182",
   "metadata": {},
   "outputs": [
    {
     "name": "stderr",
     "output_type": "stream",
     "text": [
      "/home/adi/anaconda3/envs/py382/lib/python3.8/site-packages/tqdm/auto.py:22: TqdmWarning: IProgress not found. Please update jupyter and ipywidgets. See https://ipywidgets.readthedocs.io/en/stable/user_install.html\n",
      "  from .autonotebook import tqdm as notebook_tqdm\n",
      "INFO - haystack.document_stores.base -  Numba not found, replacing njit() with no-op implementation. Enable it with 'pip install numba'.\n",
      "INFO - haystack.modeling.model.optimization -  apex not found, won't use it. See https://nvidia.github.io/apex/\n"
     ]
    }
   ],
   "source": [
    "import os\n",
    "import json\n",
    "import itertools\n",
    "import matplotlib.pyplot as plt\n",
    "\n",
    "import pandas as pd\n",
    "from haystack.nodes import TfidfRetriever\n",
    "from haystack.document_stores import InMemoryDocumentStore\n",
    "from haystack.schema import Document\n",
    "from haystack.nodes import PreProcessor"
   ]
  },
  {
   "cell_type": "code",
   "execution_count": 3,
   "id": "c27b0141-984b-460c-aca6-dd81ff69d742",
   "metadata": {
    "tags": []
   },
   "outputs": [],
   "source": [
    "tests = list(itertools.product(readers, models, scenarios))"
   ]
  },
  {
   "cell_type": "code",
   "execution_count": 4,
   "id": "7a139d75-33d1-455c-ba3f-5517d2ad9ba0",
   "metadata": {
    "tags": []
   },
   "outputs": [],
   "source": [
    "preprocessor = PreProcessor(\n",
    "    clean_empty_lines=True,\n",
    "    clean_whitespace=True,\n",
    "    clean_header_footer=False,\n",
    "    split_by=\"word\",\n",
    "    split_length=split_length,\n",
    "    split_respect_sentence_boundary=True,\n",
    ")"
   ]
  },
  {
   "cell_type": "code",
   "execution_count": 5,
   "id": "ccc8dd40-1bc5-43af-9f6b-4bc1b26ff058",
   "metadata": {},
   "outputs": [],
   "source": [
    "def read_file(path):\n",
    "    with open(path) as f:\n",
    "        j = json.load(f)\n",
    "        return j"
   ]
  },
  {
   "cell_type": "code",
   "execution_count": 6,
   "id": "0bd8020d-40f4-46fb-8e8b-fdbc2ee466ed",
   "metadata": {},
   "outputs": [],
   "source": [
    "def file_to_doc(path, preprocessor):\n",
    "    data = read_file(path)\n",
    "    docs = [Document(content=t).to_dict() for t in data[\"texts\"]]\n",
    "\n",
    "    return preprocessor.process(docs)"
   ]
  },
  {
   "cell_type": "code",
   "execution_count": 7,
   "id": "bbe7bcf9-4c14-4fd2-b73d-15d9097c17b5",
   "metadata": {
    "tags": []
   },
   "outputs": [],
   "source": [
    "def file_to_docstore(name):\n",
    "    document_store = InMemoryDocumentStore()\n",
    "\n",
    "    fpath = f\"./data/{name}\"\n",
    "    docs = []\n",
    "\n",
    "    for d in file_to_doc(fpath, preprocessor):\n",
    "\n",
    "        d[\"id\"] = f\"{d['id']}-{d['meta']['_split_id']}\"\n",
    "\n",
    "        docs.append(d)\n",
    "\n",
    "    print(f\"{len(docs)} documents found\")\n",
    "    data = read_file(fpath)\n",
    "\n",
    "    document_store.write_documents(docs)\n",
    "    retriever = TfidfRetriever(document_store=document_store)\n",
    "\n",
    "    return document_store, retriever, data[\"query\"]"
   ]
  },
  {
   "cell_type": "code",
   "execution_count": 8,
   "id": "2522d73c-688e-47c7-a9e2-7a3b5635cd1d",
   "metadata": {},
   "outputs": [],
   "source": [
    "def get_scores(prediction):\n",
    "    scores = [\"{:.3f}\".format(a.score) for a in prediction[\"answers\"]]\n",
    "    answers = [a.answer for a in prediction[\"answers\"]]\n",
    "    df = pd.DataFrame(dict(scores=scores, answers=answers))\n",
    "\n",
    "    return df"
   ]
  },
  {
   "cell_type": "code",
   "execution_count": 9,
   "id": "fca49df0-a5c7-417c-9b96-35fd0d56fd19",
   "metadata": {
    "tags": []
   },
   "outputs": [
    {
     "name": "stderr",
     "output_type": "stream",
     "text": [
      "INFO - haystack.modeling.utils -  Using devices: CPU\n",
      "INFO - haystack.modeling.utils -  Number of GPUs: 0\n",
      "100%|███████████████████████████████████████████████████████████████████████████████████████████████████████████████████████████████████████████████████████████████████████████| 10/10 [00:00<00:00, 421.99docs/s]\n",
      "INFO - haystack.nodes.retriever.sparse -  Found 34 candidate paragraphs from 34 docs in DB\n"
     ]
    },
    {
     "name": "stdout",
     "output_type": "stream",
     "text": [
      "34 documents found\n"
     ]
    }
   ],
   "source": [
    "document_store, retriever, query = file_to_docstore(input_file_name)"
   ]
  },
  {
   "cell_type": "code",
   "execution_count": 10,
   "id": "0f2a9b6a-74e3-485d-9997-2bef43d87ec9",
   "metadata": {
    "tags": []
   },
   "outputs": [],
   "source": [
    "def get_parameters(test_id):\n",
    "    # test_id is a tuple with 3 elements:\n",
    "    # test_id[0] = reader\n",
    "    # test_id[1] = model\n",
    "    # topk_retriever = test_id[2][0]\n",
    "    # topk_reader = test_id[2][1]\n",
    "    # e.g. (\"FARMReader\", \"deepset/minilm-uncased-squad2\", (10,3))\n",
    "\n",
    "    test_reader = test_id[0]\n",
    "    model = test_id[1]\n",
    "    topk_retriever = test_id[2][0]\n",
    "    topk_reader = test_id[2][1]\n",
    "\n",
    "    return test_reader, model, topk_retriever, topk_reader"
   ]
  },
  {
   "cell_type": "code",
   "execution_count": 11,
   "id": "4128a777-3434-47f4-89e2-2ed865a6012e",
   "metadata": {
    "tags": []
   },
   "outputs": [],
   "source": [
    "def get_reader(test_id):\n",
    "    (test_reader, model, topk_retriever, topk_reader) = get_parameters(test_id)\n",
    "\n",
    "    reader = None\n",
    "\n",
    "    if test_reader == \"FARMReader\":\n",
    "        reader = FARMReader(model_name_or_path=model, use_gpu=use_gpu)\n",
    "\n",
    "    if test_reader == \"TransformersReader\":\n",
    "        reader = TransformersReader(\n",
    "            model_name_or_path=model,\n",
    "            tokenizer=tokenizer_model,\n",
    "            use_gpu=use_gpu,\n",
    "        )\n",
    "\n",
    "    return reader"
   ]
  },
  {
   "cell_type": "code",
   "execution_count": 12,
   "id": "60b75f9b-63d3-4ca9-acec-1b0ac0782e7c",
   "metadata": {},
   "outputs": [],
   "source": [
    "def get_comparison_score_same_length(reference_df, compared_df):\n",
    "\n",
    "    score = 0\n",
    "\n",
    "    # create a set out of each data frame elements from the column \"answers\"\n",
    "\n",
    "    reference = set(reference_df[\"answers\"])\n",
    "    compared = set(compared_df[\"answers\"])\n",
    "\n",
    "    # intersect the two sets and start with a score of 0.5 * cardinal(intersection)\n",
    "    # then compare the elements position by position and\n",
    "    # for each coincidence add 0.5 to the prediction_comparison_score\n",
    "\n",
    "    intersection = reference.intersection(compared)\n",
    "\n",
    "    score = 0.5 * len(intersection)\n",
    "\n",
    "    for i in range(len(compared_df)):\n",
    "        compared_string = str(compared_df[\"answers\"][i])\n",
    "        reference_string = str(reference_df[\"answers\"][i])\n",
    "\n",
    "        if compared_string.strip() == reference_string.strip():\n",
    "            score += 0.5\n",
    "\n",
    "    return score"
   ]
  },
  {
   "cell_type": "code",
   "execution_count": 13,
   "id": "07e09950-2d90-434a-8842-e3636315baa0",
   "metadata": {},
   "outputs": [],
   "source": [
    "def get_comparison_score(reference_df, compared_df):\n",
    "\n",
    "    score = 0\n",
    "\n",
    "    reference_elements = reference_df.shape[0]\n",
    "    compared_elements = compared_df.shape[0]\n",
    "\n",
    "    if compared_elements != reference_elements:\n",
    "        min_number_of_df_elements = min(reference_elements, compared_elements)\n",
    "\n",
    "        adjusted_reference_df = reference_df.head(min_number_of_df_elements)\n",
    "        adjusted_compared_df = compared_df.head(min_number_of_df_elements)\n",
    "\n",
    "        score = get_comparison_score_same_length(\n",
    "            adjusted_reference_df, adjusted_compared_df\n",
    "        )\n",
    "    else:\n",
    "        score = get_comparison_score_same_length(reference_df, compared_df)\n",
    "\n",
    "    return score"
   ]
  },
  {
   "cell_type": "code",
   "execution_count": 14,
   "id": "b4bd0b66-0d03-4b6b-be3f-298c9877212e",
   "metadata": {
    "tags": []
   },
   "outputs": [],
   "source": [
    "def execute_test(test_id):\n",
    "    (test_reader, model, topk_retriever, topk_reader) = get_parameters(test_id)\n",
    "\n",
    "    reader = get_reader(test_id)\n",
    "\n",
    "    pipe = ExtractiveQAPipeline(reader, retriever)\n",
    "\n",
    "    prediction = pipe.run(\n",
    "        query=query,\n",
    "        params={\n",
    "            \"Retriever\": {\"top_k\": topk_retriever},\n",
    "            \"Reader\": {\"top_k\": topk_reader},\n",
    "        },\n",
    "    )\n",
    "    end = time.time()\n",
    "\n",
    "    predictions_df = get_scores(prediction)\n",
    "\n",
    "    del pipe\n",
    "    pipe = None\n",
    "\n",
    "    del reader\n",
    "    reader = None\n",
    "\n",
    "    return predictions_df"
   ]
  },
  {
   "cell_type": "code",
   "execution_count": 15,
   "id": "e36f7b44-8d98-4d36-b638-63f5365cda02",
   "metadata": {},
   "outputs": [
    {
     "name": "stderr",
     "output_type": "stream",
     "text": [
      "INFO - haystack.modeling.utils -  Using devices: CPU\n",
      "INFO - haystack.modeling.utils -  Number of GPUs: 0\n",
      "INFO - haystack.modeling.model.language_model -  LOADING MODEL\n",
      "INFO - haystack.modeling.model.language_model -  =============\n",
      "INFO - haystack.modeling.model.language_model -  Could not find deepset/roberta-base-squad2 locally.\n",
      "INFO - haystack.modeling.model.language_model -  Looking on Transformers Model Hub (in local cache and online)...\n",
      "INFO - haystack.modeling.model.language_model -  Loaded deepset/roberta-base-squad2\n",
      "INFO - haystack.modeling.logger -  ML Logging is turned off. No parameters, metrics or artifacts will be logged to MLFlow.\n",
      "INFO - haystack.modeling.utils -  Using devices: CPU\n",
      "INFO - haystack.modeling.utils -  Number of GPUs: 0\n",
      "INFO - haystack.modeling.infer -  Got ya 11 parallel workers to do inference ...\n",
      "INFO - haystack.modeling.infer -   0     0     0     0     0     0     0     0     0     0     0  \n",
      "INFO - haystack.modeling.infer -  /w\\   /w\\   /w\\   /w\\   /w\\   /w\\   /w\\   /|\\  /w\\   /w\\   /w\\ \n",
      "INFO - haystack.modeling.infer -  /'\\   / \\   /'\\   /'\\   / \\   / \\   /'\\   /'\\   /'\\   /'\\   /'\\ \n",
      "Inferencing Samples:   0%|                                                                                                                                                             | 0/1 [00:00<?, ? Batches/s]/home/adi/anaconda3/envs/py382/lib/python3.8/site-packages/haystack/modeling/model/prediction_head.py:485: UserWarning: __floordiv__ is deprecated, and its behavior will change in a future version of pytorch. It currently rounds toward 0 (like the 'trunc' function NOT 'floor'). This results in incorrect rounding for negative values. To keep the current behavior, use torch.div(a, b, rounding_mode='trunc'), or for actual floor division, use torch.div(a, b, rounding_mode='floor').\n",
      "  start_indices = flat_sorted_indices // max_seq_len\n",
      "Inferencing Samples: 100%|█████████████████████████████████████████████████████████████████████████████████████████████████████████████████████████████████████████████████████| 1/1 [00:00<00:00,  4.34 Batches/s]\n",
      "Inferencing Samples: 100%|█████████████████████████████████████████████████████████████████████████████████████████████████████████████████████████████████████████████████████| 1/1 [00:00<00:00,  8.24 Batches/s]\n",
      "Inferencing Samples: 100%|█████████████████████████████████████████████████████████████████████████████████████████████████████████████████████████████████████████████████████| 1/1 [00:00<00:00,  8.43 Batches/s]\n",
      "Inferencing Samples: 100%|█████████████████████████████████████████████████████████████████████████████████████████████████████████████████████████████████████████████████████| 1/1 [00:00<00:00,  8.43 Batches/s]\n",
      "Inferencing Samples: 100%|█████████████████████████████████████████████████████████████████████████████████████████████████████████████████████████████████████████████████████| 1/1 [00:00<00:00,  8.33 Batches/s]\n",
      "Inferencing Samples: 100%|█████████████████████████████████████████████████████████████████████████████████████████████████████████████████████████████████████████████████████| 1/1 [00:00<00:00,  7.80 Batches/s]\n",
      "Inferencing Samples: 100%|█████████████████████████████████████████████████████████████████████████████████████████████████████████████████████████████████████████████████████| 1/1 [00:00<00:00,  7.92 Batches/s]\n",
      "Inferencing Samples: 100%|█████████████████████████████████████████████████████████████████████████████████████████████████████████████████████████████████████████████████████| 1/1 [00:00<00:00,  6.01 Batches/s]\n",
      "Inferencing Samples: 100%|█████████████████████████████████████████████████████████████████████████████████████████████████████████████████████████████████████████████████████| 1/1 [00:00<00:00,  7.92 Batches/s]\n",
      "Inferencing Samples: 100%|█████████████████████████████████████████████████████████████████████████████████████████████████████████████████████████████████████████████████████| 1/1 [00:00<00:00,  7.47 Batches/s]\n",
      "INFO - haystack.modeling.utils -  Using devices: CPU\n",
      "INFO - haystack.modeling.utils -  Number of GPUs: 0\n",
      "INFO - haystack.modeling.model.language_model -  LOADING MODEL\n",
      "INFO - haystack.modeling.model.language_model -  =============\n",
      "INFO - haystack.modeling.model.language_model -  Could not find deepset/minilm-uncased-squad2 locally.\n",
      "INFO - haystack.modeling.model.language_model -  Looking on Transformers Model Hub (in local cache and online)...\n",
      "INFO - haystack.modeling.model.language_model -  Loaded deepset/minilm-uncased-squad2\n",
      "INFO - haystack.modeling.logger -  ML Logging is turned off. No parameters, metrics or artifacts will be logged to MLFlow.\n",
      "INFO - haystack.modeling.utils -  Using devices: CPU\n",
      "INFO - haystack.modeling.utils -  Number of GPUs: 0\n",
      "INFO - haystack.modeling.infer -  Got ya 11 parallel workers to do inference ...\n",
      "INFO - haystack.modeling.infer -   0     0     0     0     0     0     0     0     0     0     0  \n",
      "INFO - haystack.modeling.infer -  /w\\   /w\\   /w\\   /w\\   /w\\   /w\\   /w\\   /|\\  /w\\   /w\\   /w\\ \n",
      "INFO - haystack.modeling.infer -  /'\\   / \\   /'\\   /'\\   / \\   / \\   /'\\   /'\\   /'\\   /'\\   /'\\ \n",
      "Inferencing Samples:   0%|                                                                                                                                                             | 0/1 [00:00<?, ? Batches/s]/home/adi/anaconda3/envs/py382/lib/python3.8/site-packages/haystack/modeling/model/prediction_head.py:485: UserWarning: __floordiv__ is deprecated, and its behavior will change in a future version of pytorch. It currently rounds toward 0 (like the 'trunc' function NOT 'floor'). This results in incorrect rounding for negative values. To keep the current behavior, use torch.div(a, b, rounding_mode='trunc'), or for actual floor division, use torch.div(a, b, rounding_mode='floor').\n",
      "  start_indices = flat_sorted_indices // max_seq_len\n",
      "Inferencing Samples: 100%|█████████████████████████████████████████████████████████████████████████████████████████████████████████████████████████████████████████████████████| 1/1 [00:00<00:00, 10.55 Batches/s]\n",
      "Inferencing Samples: 100%|█████████████████████████████████████████████████████████████████████████████████████████████████████████████████████████████████████████████████████| 1/1 [00:00<00:00, 15.46 Batches/s]\n",
      "Inferencing Samples: 100%|█████████████████████████████████████████████████████████████████████████████████████████████████████████████████████████████████████████████████████| 1/1 [00:00<00:00, 15.69 Batches/s]\n",
      "Inferencing Samples: 100%|█████████████████████████████████████████████████████████████████████████████████████████████████████████████████████████████████████████████████████| 1/1 [00:00<00:00, 15.51 Batches/s]\n",
      "Inferencing Samples: 100%|█████████████████████████████████████████████████████████████████████████████████████████████████████████████████████████████████████████████████████| 1/1 [00:00<00:00, 16.44 Batches/s]\n",
      "Inferencing Samples: 100%|█████████████████████████████████████████████████████████████████████████████████████████████████████████████████████████████████████████████████████| 1/1 [00:00<00:00, 19.57 Batches/s]\n",
      "Inferencing Samples: 100%|█████████████████████████████████████████████████████████████████████████████████████████████████████████████████████████████████████████████████████| 1/1 [00:00<00:00, 19.08 Batches/s]\n",
      "Inferencing Samples: 100%|█████████████████████████████████████████████████████████████████████████████████████████████████████████████████████████████████████████████████████| 1/1 [00:00<00:00, 19.62 Batches/s]\n",
      "Inferencing Samples: 100%|█████████████████████████████████████████████████████████████████████████████████████████████████████████████████████████████████████████████████████| 1/1 [00:00<00:00, 17.60 Batches/s]\n",
      "Inferencing Samples: 100%|█████████████████████████████████████████████████████████████████████████████████████████████████████████████████████████████████████████████████████| 1/1 [00:00<00:00, 17.30 Batches/s]\n",
      "INFO - haystack.modeling.utils -  Using devices: CPU\n",
      "INFO - haystack.modeling.utils -  Number of GPUs: 0\n",
      "/home/adi/anaconda3/envs/py382/lib/python3.8/site-packages/transformers/pipelines/question_answering.py:189: UserWarning: topk parameter is deprecated, use top_k instead\n",
      "  warnings.warn(\"topk parameter is deprecated, use top_k instead\", UserWarning)\n"
     ]
    }
   ],
   "source": [
    "# here we execute all the tests\n",
    "\n",
    "import time\n",
    "from haystack.pipelines import ExtractiveQAPipeline\n",
    "from haystack.nodes import FARMReader, TransformersReader\n",
    "\n",
    "\n",
    "test_prediction = {}\n",
    "test_speed = {}\n",
    "\n",
    "results_df_columns = [\n",
    "    \"speed\",\n",
    "    \"accuracy\",\n",
    "    \"reader\",\n",
    "    \"model\",\n",
    "    \"topk_retriever\",\n",
    "    \"topk_reader\",\n",
    "]\n",
    "\n",
    "results_df_rows = []\n",
    "\n",
    "for test in tests:\n",
    "    results_df_rows.append(test)\n",
    "\n",
    "reference_test_start_time = time.time()\n",
    "reference_answers_df = execute_test(reference_test)\n",
    "reference_test_end_time = time.time()\n",
    "\n",
    "reference_test_time = reference_test_end_time - reference_test_start_time\n",
    "\n",
    "results_df = pd.DataFrame(columns=results_df_columns, index=results_df_rows)\n",
    "\n",
    "for test in tests:\n",
    "    if test != reference_test:\n",
    "        start = time.time()\n",
    "        test_prediction[test] = execute_test(test)\n",
    "        end = time.time()\n",
    "\n",
    "        test_speed[test] = end - start\n",
    "        results_df.at[test, \"speed\"] = end - start\n",
    "    else:\n",
    "        test_prediction[test] = reference_answers_df\n",
    "        test_speed[test] = reference_test_time\n",
    "        results_df.at[test, \"speed\"] = reference_test_time\n",
    "\n",
    "    accuracy_score = get_comparison_score(test_prediction[test], reference_answers_df)\n",
    "\n",
    "    results_df.at[test, \"accuracy\"] = accuracy_score\n",
    "\n",
    "    (\n",
    "        results_df.at[test, \"reader\"],\n",
    "        results_df.at[test, \"model\"],\n",
    "        results_df.at[test, \"topk_retriever\"],\n",
    "        results_df.at[test, \"topk_reader\"],\n",
    "    ) = get_parameters(reference_test)"
   ]
  },
  {
   "cell_type": "code",
   "execution_count": 16,
   "id": "614ba4aa-9efe-4d00-890b-47c65b00da00",
   "metadata": {},
   "outputs": [
    {
     "data": {
      "text/html": [
       "<div>\n",
       "<style scoped>\n",
       "    .dataframe tbody tr th:only-of-type {\n",
       "        vertical-align: middle;\n",
       "    }\n",
       "\n",
       "    .dataframe tbody tr th {\n",
       "        vertical-align: top;\n",
       "    }\n",
       "\n",
       "    .dataframe thead th {\n",
       "        text-align: right;\n",
       "    }\n",
       "</style>\n",
       "<table border=\"1\" class=\"dataframe\">\n",
       "  <thead>\n",
       "    <tr style=\"text-align: right;\">\n",
       "      <th></th>\n",
       "      <th>speed</th>\n",
       "      <th>accuracy</th>\n",
       "      <th>reader</th>\n",
       "      <th>model</th>\n",
       "      <th>topk_retriever</th>\n",
       "      <th>topk_reader</th>\n",
       "    </tr>\n",
       "  </thead>\n",
       "  <tbody>\n",
       "    <tr>\n",
       "      <th>(FARMReader, deepset/minilm-uncased-squad2, (10, 3))</th>\n",
       "      <td>15.159086</td>\n",
       "      <td>1.5</td>\n",
       "      <td>FARMReader</td>\n",
       "      <td>deepset/roberta-base-squad2</td>\n",
       "      <td>10</td>\n",
       "      <td>3</td>\n",
       "    </tr>\n",
       "    <tr>\n",
       "      <th>(TransformersReader, deepset/minilm-uncased-squad2, (10, 3))</th>\n",
       "      <td>12.033616</td>\n",
       "      <td>1.5</td>\n",
       "      <td>FARMReader</td>\n",
       "      <td>deepset/roberta-base-squad2</td>\n",
       "      <td>10</td>\n",
       "      <td>3</td>\n",
       "    </tr>\n",
       "  </tbody>\n",
       "</table>\n",
       "</div>"
      ],
      "text/plain": [
       "                                                                  speed  \\\n",
       "(FARMReader, deepset/minilm-uncased-squad2, (10, 3))          15.159086   \n",
       "(TransformersReader, deepset/minilm-uncased-squad2, (10, 3))  12.033616   \n",
       "\n",
       "                                                             accuracy  \\\n",
       "(FARMReader, deepset/minilm-uncased-squad2, (10, 3))              1.5   \n",
       "(TransformersReader, deepset/minilm-uncased-squad2, (10, 3))      1.5   \n",
       "\n",
       "                                                                  reader  \\\n",
       "(FARMReader, deepset/minilm-uncased-squad2, (10, 3))          FARMReader   \n",
       "(TransformersReader, deepset/minilm-uncased-squad2, (10, 3))  FARMReader   \n",
       "\n",
       "                                                                                    model  \\\n",
       "(FARMReader, deepset/minilm-uncased-squad2, (10, 3))          deepset/roberta-base-squad2   \n",
       "(TransformersReader, deepset/minilm-uncased-squad2, (10, 3))  deepset/roberta-base-squad2   \n",
       "\n",
       "                                                             topk_retriever  \\\n",
       "(FARMReader, deepset/minilm-uncased-squad2, (10, 3))                     10   \n",
       "(TransformersReader, deepset/minilm-uncased-squad2, (10, 3))             10   \n",
       "\n",
       "                                                             topk_reader  \n",
       "(FARMReader, deepset/minilm-uncased-squad2, (10, 3))                   3  \n",
       "(TransformersReader, deepset/minilm-uncased-squad2, (10, 3))           3  "
      ]
     },
     "execution_count": 16,
     "metadata": {},
     "output_type": "execute_result"
    }
   ],
   "source": [
    "results_df"
   ]
  },
  {
   "cell_type": "code",
   "execution_count": 17,
   "id": "e2e8d425-9fdb-4d4d-b7f6-21bfbd1da859",
   "metadata": {},
   "outputs": [
    {
     "name": "stdout",
     "output_type": "stream",
     "text": [
      "Please see below the scatter chart having as points the tests, on X axis the Accuracy and on Y axis the Speed.\n"
     ]
    },
    {
     "data": {
      "image/png": "[encoded data removed]",
      "text/plain": [
       "<Figure size 432x288 with 1 Axes>"
      ]
     },
     "metadata": {
      "needs_background": "light"
     },
     "output_type": "display_data"
    }
   ],
   "source": [
    "print(\n",
    "    \"Please see below the scatter chart having as points the tests, on X axis the Accuracy and on Y axis the Speed.\"\n",
    ")\n",
    "\n",
    "for ticker, row in results_df.iterrows():\n",
    "    plt.scatter(row[\"accuracy\"], row[\"speed\"], label=ticker)\n",
    "\n",
    "plt.xlabel(\"accuracy\")\n",
    "plt.ylabel(\"speed\")\n",
    "plt.legend(bbox_to_anchor=(1, 1))\n",
    "plt.show()"
   ]
  },
  {
   "cell_type": "code",
   "execution_count": 18,
   "id": "492ce032-a7ac-42ff-a571-e8d1f23637b0",
   "metadata": {},
   "outputs": [
    {
     "name": "stdout",
     "output_type": "stream",
     "text": [
      "For reference, please see below the answers and the speed per each test.\n",
      "\n",
      "The reference test answers: \n",
      "  scores                                         answers\n",
      "0  0.452  The Biodiversity Information System for Europe\n",
      "1  0.380                    corine land cover vegetation\n",
      "2  0.265                             external contractor\n",
      "\n",
      "\n",
      "test is: ==> ('FARMReader', 'deepset/minilm-uncased-squad2', (10, 3)) <==\n",
      "answers are:   scores                                              answers\n",
      "0  0.733       The Biodiversity Information System for Europe\n",
      "1  0.579  Personal data collected by the European BISE portal\n",
      "2  0.528                         corine land cover vegetation\n",
      "speed is: 15.159085512161255\n",
      "\n",
      "\n",
      "test is: ==> ('TransformersReader', 'deepset/minilm-uncased-squad2', (10, 3)) <==\n",
      "answers are:   scores                                         answers\n",
      "0  0.509  The Biodiversity Information System for Europe\n",
      "1  0.492                                                \n",
      "2  0.482                    corine land cover vegetation\n",
      "speed is: 12.033616304397583\n",
      "\n",
      "\n",
      "\n",
      "Done\n"
     ]
    }
   ],
   "source": [
    "print(\"For reference, please see below the answers and the speed per each test.\\n\")\n",
    "\n",
    "print(\"The reference test answers: \")\n",
    "print(reference_answers_df)\n",
    "print(\"\\n\")\n",
    "\n",
    "for test in tests:\n",
    "    print(\"test is: ==> \" + str(test) + \" <==\")\n",
    "    print(\"answers are: \" + str(test_prediction[test]))\n",
    "    print(\"speed is: \" + str(test_speed[test]))\n",
    "    print(\"\\n\")\n",
    "\n",
    "\n",
    "print(\"\\nDone\")\n",
    "\n",
    "del test_prediction\n",
    "test_prediction = None\n",
    "\n",
    "del test_speed\n",
    "test_speed = None"
   ]
  }
 ],
 "metadata": {
  "kernelspec": {
   "display_name": "py382",
   "language": "python",
   "name": "py382"
  },
  "language_info": {
   "codemirror_mode": {
    "name": "ipython",
    "version": 3
   },
   "file_extension": ".py",
   "mimetype": "text/x-python",
   "name": "python",
   "nbconvert_exporter": "python",
   "pygments_lexer": "ipython3",
   "version": "3.8.13"
  }
 },
 "nbformat": 4,
 "nbformat_minor": 5
}
