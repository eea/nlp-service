{
 "cells": [
  {
   "cell_type": "code",
   "execution_count": 1,
   "id": "6f145160-04f5-4a52-872f-308ab105406b",
   "metadata": {},
   "outputs": [],
   "source": [
    "#evaluate de QA model by using the tutorial from https://haystack.deepset.ai/docs/latest/tutorial5md"
   ]
  },
  {
   "cell_type": "markdown",
   "id": "50cf7de5-cf8d-4772-829f-27f2bacaec3a",
   "metadata": {
    "jp-MarkdownHeadingCollapsed": true,
    "tags": []
   },
   "source": [
    "# Step1: start ElasticSearch on localhost"
   ]
  },
  {
   "cell_type": "markdown",
   "id": "1513e10c-f021-4536-84f9-f1507925022f",
   "metadata": {
    "tags": []
   },
   "source": [
    "# Step2: Fetch, Store And Preprocess the Evaluation Dataset"
   ]
  },
  {
   "cell_type": "code",
   "execution_count": 2,
   "id": "1725e4ff-29fe-49e8-b9af-47caae6176dd",
   "metadata": {},
   "outputs": [],
   "source": [
    "import os \n",
    "\n",
    "get_feedback_data = True\n",
    "\n",
    "output_path = \"data/tutorial5\"\n",
    "\n",
    "path_exists = os.path.exists(output_path)\n",
    "\n",
    "if not path_exists:\n",
    "    os.makedirs(output_path)"
   ]
  },
  {
   "cell_type": "code",
   "execution_count": 3,
   "id": "eaf57cf9-d927-4631-a244-0ed5dc47aab1",
   "metadata": {},
   "outputs": [
    {
     "name": "stderr",
     "output_type": "stream",
     "text": [
      "  % Total    % Received % Xferd  Average Speed   Time    Time     Time  Current\n",
      "                                 Dload  Upload   Total   Spent    Left  Speed\n",
      "100 35270  100 35270    0     0  75686      0 --:--:-- --:--:-- --:--:-- 75686\n"
     ]
    }
   ],
   "source": [
    "import subprocess\n",
    "import json\n",
    "import os\n",
    "\n",
    "if (get_feedback_data == True):\n",
    "    #url  = 'http://10.120.10.204:50960/api/feedback'\n",
    "    url  = 'http://10.120.10.204:60022/api/feedback'\n",
    "\n",
    "    #p = subprocess.call(['curl', '-X', 'GET', url, '-H', 'accept: application/json'])\n",
    "    p = subprocess.check_output(['curl', '-X', 'GET', url, '-H', 'accept: application/json'])\n",
    "    p = p.decode('UTF-8')\n",
    "\n",
    "    json_res = json.loads(p)\n",
    "\n",
    "    saved_file = output_path + \"/json_res.json\"\n",
    "    with open(saved_file, 'w') as outfile:\n",
    "        json.dump(json_res, outfile)"
   ]
  },
  {
   "cell_type": "code",
   "execution_count": 4,
   "id": "e1614248-663b-4d8c-a7ac-e348a6c9e53a",
   "metadata": {},
   "outputs": [],
   "source": [
    "#json_res"
   ]
  },
  {
   "cell_type": "code",
   "execution_count": 5,
   "id": "515a938f-11b7-4c67-a18d-00d03788cd72",
   "metadata": {},
   "outputs": [],
   "source": [
    "archive_already_fethced = True\n",
    "if (archive_already_fethced == False):\n",
    "\n",
    "    from haystack.utils import fetch_archive_from_http\n",
    "\n",
    "    # Download evaluation data, which is a subset of Natural Questions development set containing 50 documents with one question per document and multiple annotated answers\n",
    "    doc_dir = \"data/tutorial5\"\n",
    "    s3_url = \"https://s3.eu-central-1.amazonaws.com/deepset.ai-farm-qa/datasets/nq_dev_subset_v2.json.zip\"\n",
    "\n",
    "    fetch_archive_from_http(url=s3_url, output_dir=doc_dir)\n"
   ]
  },
  {
   "cell_type": "code",
   "execution_count": 6,
   "id": "4e9cf36e-75b2-4241-9015-587e3a96d0d3",
   "metadata": {
    "tags": []
   },
   "outputs": [],
   "source": [
    "# make sure these indices do not collide with existing ones, the indices will be wiped clean before data is inserted\n",
    "doc_index = \"test_docs\"\n",
    "label_index = \"test_labels\""
   ]
  },
  {
   "cell_type": "code",
   "execution_count": 7,
   "id": "01bc3f3f-effc-48f6-b01e-2042b4987b02",
   "metadata": {},
   "outputs": [
    {
     "name": "stderr",
     "output_type": "stream",
     "text": [
      "INFO - haystack.document_stores.base -  Numba not found, replacing njit() with no-op implementation. Enable it with 'pip install numba'.\n",
      "2022-05-16 12:00:04.109992: W tensorflow/stream_executor/platform/default/dso_loader.cc:64] Could not load dynamic library 'libcudart.so.11.0'; dlerror: libcudart.so.11.0: cannot open shared object file: No such file or directory\n",
      "2022-05-16 12:00:04.110051: I tensorflow/stream_executor/cuda/cudart_stub.cc:29] Ignore above cudart dlerror if you do not have a GPU set up on your machine.\n",
      "INFO - haystack.modeling.model.optimization -  apex not found, won't use it. See https://nvidia.github.io/apex/\n"
     ]
    }
   ],
   "source": [
    "# Connect to Elasticsearch\n",
    "from haystack.document_stores import ElasticsearchDocumentStore\n",
    "\n",
    "# Connect to Elasticsearch\n",
    "document_store = ElasticsearchDocumentStore(\n",
    "    host=\"10.120.10.131\",\n",
    "    port=\"57664\",\n",
    "    #host=\"localhost\",\n",
    "    username=\"\",\n",
    "    password=\"\",\n",
    "    index=doc_index,\n",
    "    label_index=label_index,\n",
    "    embedding_field=\"emb\",\n",
    "    embedding_dim=768,\n",
    "    excluded_meta_data=[\"emb\"],\n",
    ")"
   ]
  },
  {
   "cell_type": "code",
   "execution_count": 8,
   "id": "496480e3-cd6c-4e19-ac38-47b65bb3cf97",
   "metadata": {},
   "outputs": [],
   "source": [
    "output_full_path = output_path + \"/json_squad_res.json\"\n",
    "\n",
    "if (get_feedback_data == True):\n",
    "    with open(saved_file) as f:\n",
    "        dataset = json.load(f)\n",
    "\n",
    "    doc_counter = 1\n",
    "    \n",
    "    json_squad = {}\n",
    "    json_squad[\"data\"] = []\n",
    "    \n",
    "    #print(dataset)\n",
    "\n",
    "    with open(output_full_path, \"w\") as f:\n",
    "\n",
    "        for elem in dataset:\n",
    "            \n",
    "            curr_json_squad_elem = {}\n",
    "            \n",
    "            title = \"title_\" + str(doc_counter)\n",
    "            paragraphs = []\n",
    "            curr_paragraph = {}\n",
    "            curr_paragraph[\"context\"] = elem[\"answer\"][\"context\"]\n",
    "\n",
    "            qas = []\n",
    "\n",
    "            curr_qa = {}\n",
    "            curr_qa[\"answers\"] = []\n",
    "\n",
    "            curr_qa_curr_ans = {}\n",
    "\n",
    "            curr_qa_curr_ans[\"answer_start\"] = elem[\"answer\"][\"offsets_in_document\"][0][\"start\"]\n",
    "            curr_qa_curr_ans[\"text\"] = elem[\"answer\"][\"answer\"]\n",
    "\n",
    "            curr_qa[\"answers\"].append(curr_qa_curr_ans)\n",
    "\n",
    "            curr_qa[\"id\"] = \"id_\" + str(doc_counter)\n",
    "\n",
    "            curr_qa[\"question\"] = elem[\"query\"]\n",
    "            curr_qa[\"is_impossible\"] = False\n",
    "\n",
    "            qas.append(curr_qa)\n",
    "\n",
    "            curr_paragraph[\"qas\"] = qas\n",
    "\n",
    "            paragraphs.append(curr_paragraph)\n",
    "            \n",
    "            curr_json_squad_elem[\"title\"] = title\n",
    "            curr_json_squad_elem[\"paragraphs\"] = paragraphs\n",
    "            \n",
    "            json_squad[\"data\"].append(curr_json_squad_elem)\n",
    "\n",
    "            doc_counter += 1\n",
    "\n",
    "        json.dump(json_squad, f, indent=4)\n"
   ]
  },
  {
   "cell_type": "code",
   "execution_count": 9,
   "id": "cafa0a77-0e65-465b-bd63-9b0d18e17cb6",
   "metadata": {},
   "outputs": [
    {
     "name": "stderr",
     "output_type": "stream",
     "text": [
      "WARNING - haystack.document_stores.utils -  Could not convert an answer for 15 questions.\n",
      "There were conversion errors for question ids: ['id_1', 'id_2', 'id_3', 'id_4', 'id_5', 'id_6', 'id_7', 'id_8', 'id_9', 'id_10', 'id_11', 'id_12', 'id_13', 'id_14', 'id_16']\n"
     ]
    }
   ],
   "source": [
    "from haystack.nodes import PreProcessor\n",
    "from haystack import Document\n",
    "\n",
    "# Add evaluation data to Elasticsearch Document Store\n",
    "# We first delete the custom tutorial indices to not have duplicate elements\n",
    "# and also split our documents into shorter passages using the PreProcessor\n",
    "preprocessor = PreProcessor(\n",
    "    split_length=200,\n",
    "    split_overlap=0,\n",
    "    split_respect_sentence_boundary=False,\n",
    "    clean_empty_lines=False,\n",
    "    clean_whitespace=False,\n",
    ")\n",
    "document_store.delete_documents(index=doc_index)\n",
    "document_store.delete_documents(index=label_index)\n",
    "\n",
    "\n",
    "\n",
    "# The add_eval_data() method converts the given dataset in json format into Haystack document and label objects. Those objects are then indexed in their respective document and label index in the document store. The method can be used with any dataset in SQuAD format.\n",
    "document_store.add_eval_data(\n",
    "    #filename=\"data/tutorial5/nq_dev_subset_v3.json\",\n",
    "    #filename=saved_file,\n",
    "    filename=output_full_path,\n",
    "    doc_index=doc_index,\n",
    "    label_index=label_index,\n",
    "    preprocessor=preprocessor,\n",
    ")"
   ]
  },
  {
   "cell_type": "markdown",
   "id": "12e872e6-5a8d-422b-8695-80cc674c253c",
   "metadata": {
    "tags": []
   },
   "source": [
    "# Step3: Initialize the Two Components of an ExtractiveQAPipeline: Retriever and Reader"
   ]
  },
  {
   "cell_type": "code",
   "execution_count": 10,
   "id": "16170b67-744e-44ce-8e86-d3dcf155fd65",
   "metadata": {
    "tags": []
   },
   "outputs": [],
   "source": [
    "# Initialize Retriever\n",
    "from haystack.nodes import ElasticsearchRetriever\n",
    "\n",
    "retriever = ElasticsearchRetriever(document_store=document_store)\n",
    "\n",
    "# Alternative: Evaluate dense retrievers (EmbeddingRetriever or DensePassageRetriever)\n",
    "# The EmbeddingRetriever uses a single transformer based encoder model for query and document.\n",
    "# In contrast, DensePassageRetriever uses two separate encoders for both.\n",
    "\n",
    "# Please make sure the \"embedding_dim\" parameter in the DocumentStore above matches the output dimension of your models!\n",
    "# Please also take care that the PreProcessor splits your files into chunks that can be completely converted with\n",
    "#        the max_seq_len limitations of Transformers\n",
    "# The SentenceTransformer model \"sentence-transformers/multi-qa-mpnet-base-dot-v1\" generally works well with the EmbeddingRetriever on any kind of English text.\n",
    "# For more information and suggestions on different models check out the documentation at: https://www.sbert.net/docs/pretrained_models.html\n",
    "\n",
    "# from haystack.retriever import EmbeddingRetriever, DensePassageRetriever\n",
    "# retriever = EmbeddingRetriever(document_store=document_store, model_format=\"sentence_transformers\",\n",
    "#                                embedding_model=\"sentence-transformers/multi-qa-mpnet-base-dot-v1\")\n",
    "# retriever = DensePassageRetriever(document_store=document_store,\n",
    "#                                   query_embedding_model=\"facebook/dpr-question_encoder-single-nq-base\",\n",
    "#                                   passage_embedding_model=\"facebook/dpr-ctx_encoder-single-nq-base\",\n",
    "#                                   use_gpu=True,\n",
    "#                                   max_seq_len_passage=256,\n",
    "#                                   embed_title=True)\n",
    "# document_store.update_embeddings(retriever, index=doc_index)"
   ]
  },
  {
   "cell_type": "code",
   "execution_count": 11,
   "id": "f4a7e83c-22d3-418b-b662-e4552173ebf0",
   "metadata": {
    "tags": []
   },
   "outputs": [
    {
     "name": "stderr",
     "output_type": "stream",
     "text": [
      "INFO - haystack.modeling.utils -  Using devices: CPU\n",
      "INFO - haystack.modeling.utils -  Number of GPUs: 0\n",
      "INFO - haystack.modeling.model.language_model -  LOADING MODEL\n",
      "INFO - haystack.modeling.model.language_model -  =============\n",
      "INFO - haystack.modeling.model.language_model -  Could not find deepset/roberta-base-squad2 locally.\n",
      "INFO - haystack.modeling.model.language_model -  Looking on Transformers Model Hub (in local cache and online)...\n",
      "INFO - haystack.modeling.model.language_model -  Loaded deepset/roberta-base-squad2\n",
      "INFO - haystack.modeling.logger -  ML Logging is turned off. No parameters, metrics or artifacts will be logged to MLFlow.\n",
      "INFO - backoff -  Backing off send_request(...) for 0.2s (requests.exceptions.ConnectTimeout: HTTPSConnectionPool(host='tm.hs.deepset.ai', port=443): Max retries exceeded with url: /batch/ (Caused by ConnectTimeoutError(<urllib3.connection.HTTPSConnection object at 0x7f828f0188b0>, 'Connection to tm.hs.deepset.ai timed out. (connect timeout=15)')))\n",
      "INFO - haystack.modeling.utils -  Using devices: CPU\n",
      "INFO - haystack.modeling.utils -  Number of GPUs: 0\n",
      "INFO - haystack.modeling.infer -  Got ya 11 parallel workers to do inference ...\n",
      "INFO - haystack.modeling.infer -   0     0     0     0     0     0     0     0     0     0     0  \n",
      "INFO - haystack.modeling.infer -  /w\\   /w\\   /w\\   /w\\   /w\\   /w\\   /w\\   /|\\  /w\\   /w\\   /w\\ \n",
      "INFO - haystack.modeling.infer -  /'\\   / \\   /'\\   /'\\   / \\   / \\   /'\\   /'\\   /'\\   /'\\   /'\\ \n",
      "WARNING - haystack.nodes.base -  Unnamed __init__ parameters will not be saved to YAML if Pipeline.save_to_yaml() is called!\n"
     ]
    }
   ],
   "source": [
    "# Initialize Reader\n",
    "from haystack.nodes import FARMReader\n",
    "\n",
    "reader = FARMReader(\"deepset/roberta-base-squad2\", top_k=4, return_no_answer=True)\n",
    "\n",
    "# Define a pipeline consisting of the initialized retriever and reader\n",
    "from haystack.pipelines import ExtractiveQAPipeline\n",
    "\n",
    "pipeline = ExtractiveQAPipeline(reader=reader, retriever=retriever)\n",
    "\n",
    "# The evaluation also works with any other pipeline.\n",
    "# For example you could use a DocumentSearchPipeline as an alternative:\n",
    "\n",
    "# from haystack.pipelines import DocumentSearchPipeline\n",
    "# pipeline = DocumentSearchPipeline(retriever=retriever)"
   ]
  },
  {
   "cell_type": "markdown",
   "id": "3ef061ea-8aec-46e0-9299-db15d333b324",
   "metadata": {
    "tags": []
   },
   "source": [
    "# Step4: Evaluation of an ExtractiveQAPipeline"
   ]
  },
  {
   "cell_type": "code",
   "execution_count": 12,
   "id": "8865369b-d7db-4d65-94bf-9959db11f4e8",
   "metadata": {
    "tags": []
   },
   "outputs": [],
   "source": [
    "#Here we evaluate retriever and reader in open domain fashion on the full corpus of documents \n",
    "#i.e. a document is considered correctly retrieved if it contains the gold answer string within it. \n",
    "#The reader is evaluated based purely on the predicted answer string, regardless of which document this came from and the position of the extracted span.\n",
    "#The generation of predictions is seperated from the calculation of metrics. \n",
    "#This allows you to run the computation-heavy model predictions only once and then iterate flexibly on the metrics or reports you want to generate."
   ]
  },
  {
   "cell_type": "code",
   "execution_count": 13,
   "id": "031b6aa6-0a21-4176-bbcc-cf59ff1d5243",
   "metadata": {
    "tags": []
   },
   "outputs": [
    {
     "name": "stderr",
     "output_type": "stream",
     "text": [
      "Inferencing Samples:   0%|                          | 0/1 [00:00<?, ? Batches/s]/home/adi/anaconda3/envs/py384/lib/python3.8/site-packages/haystack/modeling/model/prediction_head.py:478: UserWarning: __floordiv__ is deprecated, and its behavior will change in a future version of pytorch. It currently rounds toward 0 (like the 'trunc' function NOT 'floor'). This results in incorrect rounding for negative values. To keep the current behavior, use torch.div(a, b, rounding_mode='trunc'), or for actual floor division, use torch.div(a, b, rounding_mode='floor').\n",
      "  start_indices = flat_sorted_indices // max_seq_len\n",
      "Inferencing Samples: 100%|██████████████████| 1/1 [00:00<00:00,  1.09 Batches/s]\n",
      "Inferencing Samples: 100%|██████████████████| 1/1 [00:00<00:00,  5.78 Batches/s]\n",
      "Inferencing Samples: 100%|██████████████████| 1/1 [00:00<00:00,  6.36 Batches/s]\n",
      "Inferencing Samples: 100%|██████████████████| 1/1 [00:00<00:00,  8.05 Batches/s]\n"
     ]
    }
   ],
   "source": [
    "from haystack.schema import EvaluationResult, MultiLabel\n",
    "\n",
    "# We can load evaluation labels from the document storedocument_store\n",
    "# We are also opting to filter out no_answer samples\n",
    "eval_labels = document_store.get_all_labels_aggregated(drop_negative_labels=True, drop_no_answers=True)\n",
    "\n",
    "## Alternative: Define queries and labels directly\n",
    "\n",
    "# eval_labels = [\n",
    "#    MultiLabel(\n",
    "#        labels=[\n",
    "#            Label(\n",
    "#                query=\"who is written in the book of life\",\n",
    "#                answer=Answer(\n",
    "#                    answer=\"every person who is destined for Heaven or the World to Come\",\n",
    "#                    offsets_in_context=[Span(374, 434)]\n",
    "#                ),\n",
    "#                document=Document(\n",
    "#                    id='1b090aec7dbd1af6739c4c80f8995877-0',\n",
    "#                    content_type=\"text\",\n",
    "#                    content='Book of Life - wikipedia Book of Life Jump to: navigation, search This article is\n",
    "#                       about the book mentioned in Christian and Jewish religious teachings...'\n",
    "#                ),\n",
    "#                is_correct_answer=True,\n",
    "#                is_correct_document=True,\n",
    "#                origin=\"gold-label\"\n",
    "#            )\n",
    "#        ]\n",
    "#    )\n",
    "# ]\n",
    "\n",
    "# Similar to pipeline.run() we can execute pipeline.eval()\n",
    "eval_result = pipeline.eval(labels=eval_labels, params={\"Retriever\": {\"top_k\": 5}})"
   ]
  },
  {
   "cell_type": "code",
   "execution_count": 14,
   "id": "b1bb2dcd-a430-45e6-aa99-91d97671a2d0",
   "metadata": {
    "tags": []
   },
   "outputs": [
    {
     "data": {
      "text/plain": [
       "[{'labels': [{'id': 'b49accb9-7ec3-4e4d-8599-9ec412711a2d', 'query': 'How to transition to urban environmental sustainability?', 'document': {'content': \"Contents\\n\\nContents\\n\\nAcknowledgements .................................................................................................................... 4\\n\\nCOVID-19 preamble ..................................................................................................................... 5\\n\\nExecutive Summary .................................................................................................................... 7\\n\\n1 Introduction ......................................................................................................................... 10\\n1.1 Background  ...........................................................................................................................10\\n1.2 Methodological approach ....................................................................................................14\\n1.3 Reflections on the research methodology .........................................................................17\\n\\n2 About the cities ................................................................................................................... 19\\n2.1 Survey respondents ..............................................................................................................21\\n2.2 Environmental challenges  ...................................................................................................22\\n2.3 Emergence of environmental sustainability objectives ....................................................23\\n2.4 Triggers for greater environmental sustainability ............................................................24\\n\\n3   Understanding the factors that shape urban environmental\\nsustainability\\xa0transitions ....................................................................................................25\\n\\n3.1 Context ...................................................................................................................................25\\n3.2 Governance  ...........................................................................................................................29\\n3.3 Knowledge  .............................................................................................................................37\\n3.4 Culture  ...................................................................................................................................41\\n3.5 Technology .............................................................................................................................44\\n3.6 Data and information  ..........................................................................................................47\\n3.7 Finance....................................................................................................................................49\\n\\n4 Summary of findings ........................................................................................................... 53\\n4.1 About the cities that participated in the research .............................................................53\\n4.2 Key drivers of and barriers to urban environmental sustainability transitions ............53\\n4.3\\t General\\treflections\\ton\\tthe\\tresearch\\xa0approach ..................................................................57\\n\\n5 Lessons and next steps ....................................................................................................... 58\\n5.1 Lessons emerging from this research ................................................................................58\\n5.2 Future research opportunities.............................................................................................61\\n\\nReferences ................................................................................................................................. 64\\n\\nAppendix A Urban environmental sustainability transitions survey ................................ 66\\n\\nAppendix B Urban environmental sustainability transitions interview questions ......... 79\\n\\nUrban Sustainability in Europe — What is driving cities' environmental change?4\\n\\nAcknowledgements\\n\\nAcknowledgements\\n\\nLead authors\\n\\nCatarina\\tHeeckt\\t(LSE\\tCities)\\tand\\tŠpela\\tKolarič\\t(Collingwood\\tEnvironmental\\tPlanning)\\n\\nContributors\\n\\nBethany Mickleburgh (LSE Cities), Ric Eales (Collingwood Environmental Planning), Owen White (Collingwood\\nEnvironmental Planning), Philipp Rode (LSE Cities)\\n\\nOthers\\n\\nThe EEA would like to acknowledge the essential contribution of the European Topic Centres (ETCs) as well as\\nthe wider urban stakeholder group that contributed to the study design and scrutinised the research findings\\nvia multiple in-person and\", 'content_type': 'text', 'id': 'd9040e49f7351542b59643ad80d4e4a3-0', 'meta': {'name': 'title_15', '_split_id': 0, '_split_offset': 0}, 'score': None, 'embedding': None}, 'is_correct_answer': True, 'is_correct_document': True, 'origin': 'gold-label', 'answer': {'answer': 'the', 'type': 'extractive', 'score': 0.0, 'context': \"Contents\\n\\nContents\\n\\nAcknowledgements .................................................................................................................... 4\\n\\nCOVID-19 preamble ..................................................................................................................... 5\\n\\nExecutive Summary .................................................................................................................... 7\\n\\n1 Introduction ......................................................................................................................... 10\\n1.1 Background  ...........................................................................................................................10\\n1.2 Methodological approach ....................................................................................................14\\n1.3 Reflections on the research methodology .........................................................................17\\n\\n2 About the cities ................................................................................................................... 19\\n2.1 Survey respondents ..............................................................................................................21\\n2.2 Environmental challenges  ...................................................................................................22\\n2.3 Emergence of environmental sustainability objectives ....................................................23\\n2.4 Triggers for greater environmental sustainability ............................................................24\\n\\n3   Understanding the factors that shape urban environmental\\nsustainability\\xa0transitions ....................................................................................................25\\n\\n3.1 Context ...................................................................................................................................25\\n3.2 Governance  ...........................................................................................................................29\\n3.3 Knowledge  .............................................................................................................................37\\n3.4 Culture  ...................................................................................................................................41\\n3.5 Technology .............................................................................................................................44\\n3.6 Data and information  ..........................................................................................................47\\n3.7 Finance....................................................................................................................................49\\n\\n4 Summary of findings ........................................................................................................... 53\\n4.1 About the cities that participated in the research .............................................................53\\n4.2 Key drivers of and barriers to urban environmental sustainability transitions ............53\\n4.3\\t General\\treflections\\ton\\tthe\\tresearch\\xa0approach ..................................................................57\\n\\n5 Lessons and next steps ....................................................................................................... 58\\n5.1 Lessons emerging from this research ................................................................................58\\n5.2 Future research opportunities.............................................................................................61\\n\\nReferences ................................................................................................................................. 64\\n\\nAppendix A Urban environmental sustainability transitions survey ................................ 66\\n\\nAppendix B Urban environmental sustainability transitions interview questions ......... 79\\n\\nUrban Sustainability in Europe — What is driving cities' environmental change?4\\n\\nAcknowledgements\\n\\nAcknowledgements\\n\\nLead authors\\n\\nCatarina\\tHeeckt\\t(LSE\\tCities)\\tand\\tŠpela\\tKolarič\\t(Collingwood\\tEnvironmental\\tPlanning)\\n\\nContributors\\n\\nBethany Mickleburgh (LSE Cities), Ric Eales (Collingwood Environmental Planning), Owen White (Collingwood\\nEnvironmental Planning), Philipp Rode (LSE Cities)\\n\\nOthers\\n\\nThe EEA would like to acknowledge the essential contribution of the European Topic Centres (ETCs) as well as\\nthe wider urban stakeholder group that contributed to the study design and scrutinised the research findings\\nvia multiple in-person and\", 'offsets_in_document': [{'start': 1622, 'end': 1625}], 'offsets_in_context': [{'start': 1622, 'end': 1625}], 'document_id': 'd9040e49f7351542b59643ad80d4e4a3-0', 'meta': {}}, 'no_answer': False, 'pipeline_id': None, 'created_at': '2022-05-16 12:00:34', 'updated_at': '2022-05-16 12:00:34', 'meta': {}, 'filters': None}], 'query': 'How to transition to urban environmental sustainability?', 'answers': ['the'], 'no_answer': False, 'document_ids': ['d9040e49f7351542b59643ad80d4e4a3-0'], 'document_contents': [\"Contents\\n\\nContents\\n\\nAcknowledgements .................................................................................................................... 4\\n\\nCOVID-19 preamble ..................................................................................................................... 5\\n\\nExecutive Summary .................................................................................................................... 7\\n\\n1 Introduction ......................................................................................................................... 10\\n1.1 Background  ...........................................................................................................................10\\n1.2 Methodological approach ....................................................................................................14\\n1.3 Reflections on the research methodology .........................................................................17\\n\\n2 About the cities ................................................................................................................... 19\\n2.1 Survey respondents ..............................................................................................................21\\n2.2 Environmental challenges  ...................................................................................................22\\n2.3 Emergence of environmental sustainability objectives ....................................................23\\n2.4 Triggers for greater environmental sustainability ............................................................24\\n\\n3   Understanding the factors that shape urban environmental\\nsustainability\\xa0transitions ....................................................................................................25\\n\\n3.1 Context ...................................................................................................................................25\\n3.2 Governance  ...........................................................................................................................29\\n3.3 Knowledge  .............................................................................................................................37\\n3.4 Culture  ...................................................................................................................................41\\n3.5 Technology .............................................................................................................................44\\n3.6 Data and information  ..........................................................................................................47\\n3.7 Finance....................................................................................................................................49\\n\\n4 Summary of findings ........................................................................................................... 53\\n4.1 About the cities that participated in the research .............................................................53\\n4.2 Key drivers of and barriers to urban environmental sustainability transitions ............53\\n4.3\\t General\\treflections\\ton\\tthe\\tresearch\\xa0approach ..................................................................57\\n\\n5 Lessons and next steps ....................................................................................................... 58\\n5.1 Lessons emerging from this research ................................................................................58\\n5.2 Future research opportunities.............................................................................................61\\n\\nReferences ................................................................................................................................. 64\\n\\nAppendix A Urban environmental sustainability transitions survey ................................ 66\\n\\nAppendix B Urban environmental sustainability transitions interview questions ......... 79\\n\\nUrban Sustainability in Europe — What is driving cities' environmental change?4\\n\\nAcknowledgements\\n\\nAcknowledgements\\n\\nLead authors\\n\\nCatarina\\tHeeckt\\t(LSE\\tCities)\\tand\\tŠpela\\tKolarič\\t(Collingwood\\tEnvironmental\\tPlanning)\\n\\nContributors\\n\\nBethany Mickleburgh (LSE Cities), Ric Eales (Collingwood Environmental Planning), Owen White (Collingwood\\nEnvironmental Planning), Philipp Rode (LSE Cities)\\n\\nOthers\\n\\nThe EEA would like to acknowledge the essential contribution of the European Topic Centres (ETCs) as well as\\nthe wider urban stakeholder group that contributed to the study design and scrutinised the research findings\\nvia multiple in-person and\"], 'gold_offsets_in_contexts': [{'start': 1622, 'end': 1625}], 'gold_offsets_in_documents': [{'start': 1622, 'end': 1625}]}]"
      ]
     },
     "execution_count": 14,
     "metadata": {},
     "output_type": "execute_result"
    }
   ],
   "source": [
    "eval_labels"
   ]
  },
  {
   "cell_type": "code",
   "execution_count": 15,
   "id": "6e0ad514-5865-4f49-9381-cc9f474f0088",
   "metadata": {
    "tags": []
   },
   "outputs": [
    {
     "data": {
      "text/html": [
       "<div>\n",
       "<style scoped>\n",
       "    .dataframe tbody tr th:only-of-type {\n",
       "        vertical-align: middle;\n",
       "    }\n",
       "\n",
       "    .dataframe tbody tr th {\n",
       "        vertical-align: top;\n",
       "    }\n",
       "\n",
       "    .dataframe thead th {\n",
       "        text-align: right;\n",
       "    }\n",
       "</style>\n",
       "<table border=\"1\" class=\"dataframe\">\n",
       "  <thead>\n",
       "    <tr style=\"text-align: right;\">\n",
       "      <th></th>\n",
       "      <th>multilabel_id</th>\n",
       "      <th>query</th>\n",
       "      <th>filters</th>\n",
       "      <th>gold_document_contents</th>\n",
       "      <th>content</th>\n",
       "      <th>gold_id_match</th>\n",
       "      <th>answer_match</th>\n",
       "      <th>gold_id_or_answer_match</th>\n",
       "      <th>rank</th>\n",
       "      <th>document_id</th>\n",
       "      <th>gold_document_ids</th>\n",
       "      <th>type</th>\n",
       "      <th>node</th>\n",
       "      <th>eval_mode</th>\n",
       "      <th>index</th>\n",
       "    </tr>\n",
       "  </thead>\n",
       "  <tbody>\n",
       "    <tr>\n",
       "      <th>0</th>\n",
       "      <td>-5870905459667590399</td>\n",
       "      <td>How to transition to urban environmental sustainability?</td>\n",
       "      <td>b'null'</td>\n",
       "      <td>[Contents\\n\\nContents\\n\\nAcknowledgements .....................................</td>\n",
       "      <td>Contents\\n\\nContents\\n\\nAcknowledgements ......................................</td>\n",
       "      <td>1.0</td>\n",
       "      <td>1.0</td>\n",
       "      <td>1.0</td>\n",
       "      <td>1.0</td>\n",
       "      <td>d9040e49f7351542b59643ad80d4e4a3-0</td>\n",
       "      <td>[d9040e49f7351542b59643ad80d4e4a3-0]</td>\n",
       "      <td>document</td>\n",
       "      <td>Retriever</td>\n",
       "      <td>integrated</td>\n",
       "      <td>0</td>\n",
       "    </tr>\n",
       "    <tr>\n",
       "      <th>1</th>\n",
       "      <td>-5870905459667590399</td>\n",
       "      <td>How to transition to urban environmental sustainability?</td>\n",
       "      <td>b'null'</td>\n",
       "      <td>[Contents\\n\\nContents\\n\\nAcknowledgements .....................................</td>\n",
       "      <td>Transport. Total transport emissions in 2020 have fallen by 6% compared to 2...</td>\n",
       "      <td>0.0</td>\n",
       "      <td>0.0</td>\n",
       "      <td>0.0</td>\n",
       "      <td>2.0</td>\n",
       "      <td>d2c47d238287e6a293d711d32b5c4d6b-0</td>\n",
       "      <td>[d9040e49f7351542b59643ad80d4e4a3-0]</td>\n",
       "      <td>document</td>\n",
       "      <td>Retriever</td>\n",
       "      <td>integrated</td>\n",
       "      <td>1</td>\n",
       "    </tr>\n",
       "    <tr>\n",
       "      <th>2</th>\n",
       "      <td>-5870905459667590399</td>\n",
       "      <td>How to transition to urban environmental sustainability?</td>\n",
       "      <td>b'null'</td>\n",
       "      <td>[Contents\\n\\nContents\\n\\nAcknowledgements .....................................</td>\n",
       "      <td>Several PFAS are sufficiently volatile to be considered long-range transboun...</td>\n",
       "      <td>0.0</td>\n",
       "      <td>1.0</td>\n",
       "      <td>1.0</td>\n",
       "      <td>3.0</td>\n",
       "      <td>b489faf3b80bae84dc72fb977c4ad17a-0</td>\n",
       "      <td>[d9040e49f7351542b59643ad80d4e4a3-0]</td>\n",
       "      <td>document</td>\n",
       "      <td>Retriever</td>\n",
       "      <td>integrated</td>\n",
       "      <td>2</td>\n",
       "    </tr>\n",
       "    <tr>\n",
       "      <th>3</th>\n",
       "      <td>-5870905459667590399</td>\n",
       "      <td>How to transition to urban environmental sustainability?</td>\n",
       "      <td>b'null'</td>\n",
       "      <td>[Contents\\n\\nContents\\n\\nAcknowledgements .....................................</td>\n",
       "      <td>Figure 14: Concentrations of BaP in 2019\\n\\nConcentrations of Benzo[a]pyrene...</td>\n",
       "      <td>0.0</td>\n",
       "      <td>1.0</td>\n",
       "      <td>1.0</td>\n",
       "      <td>4.0</td>\n",
       "      <td>393630a5645fb7c21d1300a1c97d3d9c-0</td>\n",
       "      <td>[d9040e49f7351542b59643ad80d4e4a3-0]</td>\n",
       "      <td>document</td>\n",
       "      <td>Retriever</td>\n",
       "      <td>integrated</td>\n",
       "      <td>3</td>\n",
       "    </tr>\n",
       "  </tbody>\n",
       "</table>\n",
       "</div>"
      ],
      "text/plain": [
       "         multilabel_id  \\\n",
       "0 -5870905459667590399   \n",
       "1 -5870905459667590399   \n",
       "2 -5870905459667590399   \n",
       "3 -5870905459667590399   \n",
       "\n",
       "                                                      query  filters  \\\n",
       "0  How to transition to urban environmental sustainability?  b'null'   \n",
       "1  How to transition to urban environmental sustainability?  b'null'   \n",
       "2  How to transition to urban environmental sustainability?  b'null'   \n",
       "3  How to transition to urban environmental sustainability?  b'null'   \n",
       "\n",
       "                                                            gold_document_contents  \\\n",
       "0  [Contents\\n\\nContents\\n\\nAcknowledgements .....................................   \n",
       "1  [Contents\\n\\nContents\\n\\nAcknowledgements .....................................   \n",
       "2  [Contents\\n\\nContents\\n\\nAcknowledgements .....................................   \n",
       "3  [Contents\\n\\nContents\\n\\nAcknowledgements .....................................   \n",
       "\n",
       "                                                                           content  \\\n",
       "0  Contents\\n\\nContents\\n\\nAcknowledgements ......................................   \n",
       "1  Transport. Total transport emissions in 2020 have fallen by 6% compared to 2...   \n",
       "2  Several PFAS are sufficiently volatile to be considered long-range transboun...   \n",
       "3  Figure 14: Concentrations of BaP in 2019\\n\\nConcentrations of Benzo[a]pyrene...   \n",
       "\n",
       "   gold_id_match  answer_match  gold_id_or_answer_match  rank  \\\n",
       "0            1.0           1.0                      1.0   1.0   \n",
       "1            0.0           0.0                      0.0   2.0   \n",
       "2            0.0           1.0                      1.0   3.0   \n",
       "3            0.0           1.0                      1.0   4.0   \n",
       "\n",
       "                          document_id                     gold_document_ids  \\\n",
       "0  d9040e49f7351542b59643ad80d4e4a3-0  [d9040e49f7351542b59643ad80d4e4a3-0]   \n",
       "1  d2c47d238287e6a293d711d32b5c4d6b-0  [d9040e49f7351542b59643ad80d4e4a3-0]   \n",
       "2  b489faf3b80bae84dc72fb977c4ad17a-0  [d9040e49f7351542b59643ad80d4e4a3-0]   \n",
       "3  393630a5645fb7c21d1300a1c97d3d9c-0  [d9040e49f7351542b59643ad80d4e4a3-0]   \n",
       "\n",
       "       type       node   eval_mode  index  \n",
       "0  document  Retriever  integrated      0  \n",
       "1  document  Retriever  integrated      1  \n",
       "2  document  Retriever  integrated      2  \n",
       "3  document  Retriever  integrated      3  "
      ]
     },
     "execution_count": 15,
     "metadata": {},
     "output_type": "execute_result"
    }
   ],
   "source": [
    "# The EvaluationResult contains a pandas dataframe for each pipeline node.\n",
    "# That's why there are two dataframes in the EvaluationResult of an ExtractiveQAPipeline.\n",
    "\n",
    "retriever_result = eval_result[\"Retriever\"]\n",
    "retriever_result.head()"
   ]
  },
  {
   "cell_type": "code",
   "execution_count": 16,
   "id": "403180ba-d67a-413a-a333-59faf7d6db90",
   "metadata": {
    "tags": []
   },
   "outputs": [
    {
     "data": {
      "text/html": [
       "<div>\n",
       "<style scoped>\n",
       "    .dataframe tbody tr th:only-of-type {\n",
       "        vertical-align: middle;\n",
       "    }\n",
       "\n",
       "    .dataframe tbody tr th {\n",
       "        vertical-align: top;\n",
       "    }\n",
       "\n",
       "    .dataframe thead th {\n",
       "        text-align: right;\n",
       "    }\n",
       "</style>\n",
       "<table border=\"1\" class=\"dataframe\">\n",
       "  <thead>\n",
       "    <tr style=\"text-align: right;\">\n",
       "      <th></th>\n",
       "      <th>multilabel_id</th>\n",
       "      <th>query</th>\n",
       "      <th>filters</th>\n",
       "      <th>gold_answers</th>\n",
       "      <th>answer</th>\n",
       "      <th>context</th>\n",
       "      <th>exact_match</th>\n",
       "      <th>f1</th>\n",
       "      <th>rank</th>\n",
       "      <th>document_id</th>\n",
       "      <th>gold_document_ids</th>\n",
       "      <th>offsets_in_document</th>\n",
       "      <th>gold_offsets_in_documents</th>\n",
       "      <th>type</th>\n",
       "      <th>node</th>\n",
       "      <th>eval_mode</th>\n",
       "      <th>index</th>\n",
       "    </tr>\n",
       "  </thead>\n",
       "  <tbody>\n",
       "    <tr>\n",
       "      <th>0</th>\n",
       "      <td>-5870905459667590399</td>\n",
       "      <td>How to transition to urban environmental sustainability?</td>\n",
       "      <td>b'null'</td>\n",
       "      <td>[the]</td>\n",
       "      <td></td>\n",
       "      <td>None</td>\n",
       "      <td>1.0</td>\n",
       "      <td>1.0</td>\n",
       "      <td>1.0</td>\n",
       "      <td>None</td>\n",
       "      <td>[d9040e49f7351542b59643ad80d4e4a3-0]</td>\n",
       "      <td>[{'start': 0, 'end': 0}]</td>\n",
       "      <td>[{'start': 1622, 'end': 1625}]</td>\n",
       "      <td>answer</td>\n",
       "      <td>Reader</td>\n",
       "      <td>integrated</td>\n",
       "      <td>0</td>\n",
       "    </tr>\n",
       "    <tr>\n",
       "      <th>1</th>\n",
       "      <td>-5870905459667590399</td>\n",
       "      <td>How to transition to urban environmental sustainability?</td>\n",
       "      <td>b'null'</td>\n",
       "      <td>[the]</td>\n",
       "      <td>94% were urban</td>\n",
       "      <td>ns above 1.0 ng/m3 were registered at 27% of the stations, of which 94% were...</td>\n",
       "      <td>0.0</td>\n",
       "      <td>0.0</td>\n",
       "      <td>2.0</td>\n",
       "      <td>393630a5645fb7c21d1300a1c97d3d9c-0</td>\n",
       "      <td>[d9040e49f7351542b59643ad80d4e4a3-0]</td>\n",
       "      <td>[{'start': 260, 'end': 274}]</td>\n",
       "      <td>[{'start': 1622, 'end': 1625}]</td>\n",
       "      <td>answer</td>\n",
       "      <td>Reader</td>\n",
       "      <td>integrated</td>\n",
       "      <td>1</td>\n",
       "    </tr>\n",
       "    <tr>\n",
       "      <th>2</th>\n",
       "      <td>-5870905459667590399</td>\n",
       "      <td>How to transition to urban environmental sustainability?</td>\n",
       "      <td>b'null'</td>\n",
       "      <td>[the]</td>\n",
       "      <td>interview questions</td>\n",
       "      <td>... 66\\n\\nAppendix B Urban environmental sustainability transitions intervie...</td>\n",
       "      <td>0.0</td>\n",
       "      <td>0.0</td>\n",
       "      <td>3.0</td>\n",
       "      <td>d9040e49f7351542b59643ad80d4e4a3-0</td>\n",
       "      <td>[d9040e49f7351542b59643ad80d4e4a3-0]</td>\n",
       "      <td>[{'start': 3958, 'end': 3977}]</td>\n",
       "      <td>[{'start': 1622, 'end': 1625}]</td>\n",
       "      <td>answer</td>\n",
       "      <td>Reader</td>\n",
       "      <td>integrated</td>\n",
       "      <td>2</td>\n",
       "    </tr>\n",
       "    <tr>\n",
       "      <th>3</th>\n",
       "      <td>-5870905459667590399</td>\n",
       "      <td>How to transition to urban environmental sustainability?</td>\n",
       "      <td>b'null'</td>\n",
       "      <td>[the]</td>\n",
       "      <td>Key drivers of and barriers</td>\n",
       "      <td>.......................................................53\\n4.2 Key drivers o...</td>\n",
       "      <td>0.0</td>\n",
       "      <td>0.0</td>\n",
       "      <td>4.0</td>\n",
       "      <td>d9040e49f7351542b59643ad80d4e4a3-0</td>\n",
       "      <td>[d9040e49f7351542b59643ad80d4e4a3-0]</td>\n",
       "      <td>[{'start': 3055, 'end': 3082}]</td>\n",
       "      <td>[{'start': 1622, 'end': 1625}]</td>\n",
       "      <td>answer</td>\n",
       "      <td>Reader</td>\n",
       "      <td>integrated</td>\n",
       "      <td>3</td>\n",
       "    </tr>\n",
       "  </tbody>\n",
       "</table>\n",
       "</div>"
      ],
      "text/plain": [
       "         multilabel_id  \\\n",
       "0 -5870905459667590399   \n",
       "1 -5870905459667590399   \n",
       "2 -5870905459667590399   \n",
       "3 -5870905459667590399   \n",
       "\n",
       "                                                      query  filters  \\\n",
       "0  How to transition to urban environmental sustainability?  b'null'   \n",
       "1  How to transition to urban environmental sustainability?  b'null'   \n",
       "2  How to transition to urban environmental sustainability?  b'null'   \n",
       "3  How to transition to urban environmental sustainability?  b'null'   \n",
       "\n",
       "  gold_answers                       answer  \\\n",
       "0        [the]                                \n",
       "1        [the]               94% were urban   \n",
       "2        [the]          interview questions   \n",
       "3        [the]  Key drivers of and barriers   \n",
       "\n",
       "                                                                           context  \\\n",
       "0                                                                             None   \n",
       "1  ns above 1.0 ng/m3 were registered at 27% of the stations, of which 94% were...   \n",
       "2  ... 66\\n\\nAppendix B Urban environmental sustainability transitions intervie...   \n",
       "3  .......................................................53\\n4.2 Key drivers o...   \n",
       "\n",
       "   exact_match   f1  rank                         document_id  \\\n",
       "0          1.0  1.0   1.0                                None   \n",
       "1          0.0  0.0   2.0  393630a5645fb7c21d1300a1c97d3d9c-0   \n",
       "2          0.0  0.0   3.0  d9040e49f7351542b59643ad80d4e4a3-0   \n",
       "3          0.0  0.0   4.0  d9040e49f7351542b59643ad80d4e4a3-0   \n",
       "\n",
       "                      gold_document_ids             offsets_in_document  \\\n",
       "0  [d9040e49f7351542b59643ad80d4e4a3-0]        [{'start': 0, 'end': 0}]   \n",
       "1  [d9040e49f7351542b59643ad80d4e4a3-0]    [{'start': 260, 'end': 274}]   \n",
       "2  [d9040e49f7351542b59643ad80d4e4a3-0]  [{'start': 3958, 'end': 3977}]   \n",
       "3  [d9040e49f7351542b59643ad80d4e4a3-0]  [{'start': 3055, 'end': 3082}]   \n",
       "\n",
       "        gold_offsets_in_documents    type    node   eval_mode  index  \n",
       "0  [{'start': 1622, 'end': 1625}]  answer  Reader  integrated      0  \n",
       "1  [{'start': 1622, 'end': 1625}]  answer  Reader  integrated      1  \n",
       "2  [{'start': 1622, 'end': 1625}]  answer  Reader  integrated      2  \n",
       "3  [{'start': 1622, 'end': 1625}]  answer  Reader  integrated      3  "
      ]
     },
     "execution_count": 16,
     "metadata": {},
     "output_type": "execute_result"
    }
   ],
   "source": [
    "reader_result = eval_result[\"Reader\"]\n",
    "reader_result.head()"
   ]
  },
  {
   "cell_type": "code",
   "execution_count": 17,
   "id": "cd327e8c-e2c2-4a81-b642-791d59512c54",
   "metadata": {
    "tags": []
   },
   "outputs": [],
   "source": [
    "# We can filter for all documents retrieved for a given query\n",
    "query = \"who is written in the book of life\"\n",
    "retriever_book_of_life = retriever_result[retriever_result[\"query\"] == query]"
   ]
  },
  {
   "cell_type": "code",
   "execution_count": 18,
   "id": "6d9c249d-ee0d-4b09-a83a-77e73d8f1998",
   "metadata": {
    "tags": []
   },
   "outputs": [],
   "source": [
    "# We can also filter for all answers predicted for a given query\n",
    "reader_book_of_life = reader_result[reader_result[\"query\"] == query]"
   ]
  },
  {
   "cell_type": "code",
   "execution_count": 19,
   "id": "4b8e57be-468d-4f9e-b0fa-c77192b7cf91",
   "metadata": {
    "tags": []
   },
   "outputs": [],
   "source": [
    "# Save the evaluation result so that we can reload it later and calculate evaluation metrics without running the pipeline again.\n",
    "results_path = \"./QAModelEvaluationResults/\"\n",
    "\n",
    "path_exists = os.path.exists(results_path)\n",
    "\n",
    "if not path_exists:\n",
    "    os.makedirs(results_path)\n",
    "\n",
    "eval_result.save(results_path)"
   ]
  },
  {
   "cell_type": "markdown",
   "id": "a3a21094-5ae6-4cfb-a90f-019bd141b7e1",
   "metadata": {
    "tags": []
   },
   "source": [
    "# Step5: Calculating Evaluation Metrics"
   ]
  },
  {
   "cell_type": "code",
   "execution_count": 20,
   "id": "85718c10-9d84-4f14-864b-3098a07ab7e4",
   "metadata": {
    "tags": []
   },
   "outputs": [],
   "source": [
    "#Load an EvaluationResult to quickly calculate standard evaluation metrics for all predictions, \n",
    "#such as F1-score of each individual prediction of the Reader node or recall of the retriever. \n",
    "#To learn more about the metrics, see Evaluation Metrics ( https://haystack.deepset.ai/guides/evaluation#metrics-retrieval )"
   ]
  },
  {
   "cell_type": "code",
   "execution_count": 21,
   "id": "2aab88c5-1bf7-43df-a91c-ea2b6746d4e1",
   "metadata": {
    "tags": []
   },
   "outputs": [
    {
     "name": "stdout",
     "output_type": "stream",
     "text": [
      "Retriever - Recall (single relevant document): 1.0\n",
      "Retriever - Recall (multiple relevant documents): 1.0\n",
      "Retriever - Mean Reciprocal Rank: 1.0\n",
      "Retriever - Precision: 0.75\n",
      "Retriever - Mean Average Precision: 0.8055555555555555\n",
      "Reader - F1-Score: 1.0\n",
      "Reader - Exact Match: 1.0\n"
     ]
    }
   ],
   "source": [
    "saved_eval_result = EvaluationResult.load(results_path)\n",
    "metrics = saved_eval_result.calculate_metrics()\n",
    "print(f'Retriever - Recall (single relevant document): {metrics[\"Retriever\"][\"recall_single_hit\"]}')\n",
    "print(f'Retriever - Recall (multiple relevant documents): {metrics[\"Retriever\"][\"recall_multi_hit\"]}')\n",
    "print(f'Retriever - Mean Reciprocal Rank: {metrics[\"Retriever\"][\"mrr\"]}')\n",
    "print(f'Retriever - Precision: {metrics[\"Retriever\"][\"precision\"]}')\n",
    "print(f'Retriever - Mean Average Precision: {metrics[\"Retriever\"][\"map\"]}')\n",
    "\n",
    "print(f'Reader - F1-Score: {metrics[\"Reader\"][\"f1\"]}')\n",
    "print(f'Reader - Exact Match: {metrics[\"Reader\"][\"exact_match\"]}')"
   ]
  },
  {
   "cell_type": "markdown",
   "id": "7cf7e06b-12a1-4d97-9195-0e5127776086",
   "metadata": {
    "tags": []
   },
   "source": [
    "# Step6: Generating an Evaluation Report"
   ]
  },
  {
   "cell_type": "code",
   "execution_count": 22,
   "id": "5876aef5-58db-4e9f-81d6-c3acdbaa6295",
   "metadata": {
    "tags": []
   },
   "outputs": [],
   "source": [
    "#A summary of the evaluation results can be printed to get a quick overview.\n",
    "#It includes some aggregated metrics and also shows a few wrongly predicted examples."
   ]
  },
  {
   "cell_type": "code",
   "execution_count": 23,
   "id": "e1efbbac-7642-48e1-adaf-70e756b04b36",
   "metadata": {
    "tags": []
   },
   "outputs": [
    {
     "name": "stdout",
     "output_type": "stream",
     "text": [
      "================== Evaluation Report ==================\n",
      "=======================================================\n",
      "                   Pipeline Overview\n",
      "=======================================================\n",
      "                      Query\n",
      "                        |\n",
      "                        |\n",
      "                      Retriever\n",
      "                        |\n",
      "                        | recall_single_hit:   1.0\n",
      "                        | recall_single_hit_top_1:   1.0\n",
      "                        |\n",
      "                      Reader\n",
      "                        |\n",
      "                        | exact_match:   1.0\n",
      "                        | exact_match_top_1:   1.0\n",
      "                        | f1:   1.0\n",
      "                        | f1_top_1:   1.0\n",
      "                        |\n",
      "                      Output\n",
      "=======================================================\n",
      "\n",
      "                Wrong Retriever Examples\n",
      "=======================================================\n",
      "Query: \n",
      " \tHow to transition to urban environmental sustainability?\n",
      "Gold Document Ids: \n",
      " \td9040e49f7351542b59643ad80d4e4a3-0\n",
      "Metrics: \n",
      " \trecall_multi_hit: 1.0\n",
      " \trecall_single_hit: 1.0\n",
      " \tprecision: 0.75\n",
      " \tmap: 0.8055555555555555\n",
      " \tmrr: 1.0\n",
      " \tndcg: 0.9060254355346823\n",
      "Documents: \n",
      " \tcontent: Contents\n",
      "\n",
      "Contents\n",
      "\n",
      "Acknowledgements .................................................................................................................... 4\n",
      "\n",
      "COVID-19 preamble ..................................................................................................................... 5\n",
      "\n",
      "Executive Summary .................................................................................................................... 7\n",
      "\n",
      "1 Introduction ......................................................................................................................... 10\n",
      "1.1 Background  ...........................................................................................................................10\n",
      "1.2 Methodological approach ....................................................................................................14\n",
      "1.3 Reflections on the research methodology .........................................................................17\n",
      "\n",
      "2 About the cities ................................................................................................................... 19\n",
      "2.1 Survey respondents ..............................................................................................................21\n",
      "2.2 Environmental challenges  ...................................................................................................22\n",
      "2.3 Emergence of environmental sustainability objectives ....................................................23\n",
      "2.4 Triggers for greater environmental sustainability ............................................................24\n",
      "\n",
      "3   Understanding the factors that shape urban environmental\n",
      "sustainability transitions ....................................................................................................25\n",
      "\n",
      "3.1 Context ...................................................................................................................................25\n",
      "3.2 Governance  ...........................................................................................................................29\n",
      "3.3 Knowledge  .............................................................................................................................37\n",
      "3.4 Culture  ...................................................................................................................................41\n",
      "3.5 Technology .............................................................................................................................44\n",
      "3.6 Data and information  ..........................................................................................................47\n",
      "3.7 Finance....................................................................................................................................49\n",
      "\n",
      "4 Summary of findings ........................................................................................................... 53\n",
      "4.1 About the cities that participated in the research .............................................................53\n",
      "4.2 Key drivers of and barriers to urban environmental sustainability transitions ............53\n",
      "4.3\t General\treflections\ton\tthe\tresearch approach ..................................................................57\n",
      "\n",
      "5 Lessons and next steps ....................................................................................................... 58\n",
      "5.1 Lessons emerging from this research ................................................................................58\n",
      "5.2 Future research opportunities.............................................................................................61\n",
      "\n",
      "References ................................................................................................................................. 64\n",
      "\n",
      "Appendix A Urban environmental sustainability transitions survey ................................ 66\n",
      "\n",
      "Appendix B Urban environmental sustainability transitions interview questions ......... 79\n",
      "\n",
      "Urban Sustainability in Europe — What is driving cities' environmental change?4\n",
      "\n",
      "Acknowledgements\n",
      "\n",
      "Acknowledgements\n",
      "\n",
      "Lead authors\n",
      "\n",
      "Catarina\tHeeckt\t(LSE\tCities)\tand\tŠpela\tKolarič\t(Collingwood\tEnvironmental\tPlanning)\n",
      "\n",
      "Contributors\n",
      "\n",
      "Bethany Mickleburgh (LSE Cities), Ric Eales (Collingwood Environmental Planning), Owen White (Collingwood\n",
      "Environmental Planning), Philipp Rode (LSE Cities)\n",
      "\n",
      "Others\n",
      "\n",
      "The EEA would like to acknowledge the essential contribution of the European Topic Centres (ETCs) as well as\n",
      "the wider urban stakeholder group that contributed to the study design and scrutinised the research findings\n",
      "via multiple in-person and\n",
      " \tgold_id_match: 1.0\n",
      " \tanswer_match: 1.0\n",
      " \tgold_id_or_answer_match: 1.0\n",
      " \trank: 1.0\n",
      " \tdocument_id: d9040e49f7351542b59643ad80d4e4a3-0\n",
      " \teval_mode: integrated\n",
      " \tindex: 0\n",
      "\n",
      " \tcontent: Transport. Total transport emissions in 2020 have fallen by 6% compared to 2019.\n",
      " \tgold_id_match: 0.0\n",
      " \tanswer_match: 0.0\n",
      " \tgold_id_or_answer_match: 0.0\n",
      " \trank: 2.0\n",
      " \tdocument_id: d2c47d238287e6a293d711d32b5c4d6b-0\n",
      " \teval_mode: integrated\n",
      " \tindex: 1\n",
      "\n",
      " \tcontent: Several PFAS are sufficiently volatile to be considered long-range transboundary air pollutants, implying that emissions outside Europe are transported into Europe where they may accumulate in cold areas such as the Arctic (EEA, 2017). The well-known and regularly monitored PFAS (mainly perfluorinated acids) account only for a fraction of the chemical burden from PFAS present in human blood, the environment and wildlife (Koch et al.,\n",
      " \tgold_id_match: 0.0\n",
      " \tanswer_match: 1.0\n",
      " \tgold_id_or_answer_match: 1.0\n",
      " \trank: 3.0\n",
      " \tdocument_id: b489faf3b80bae84dc72fb977c4ad17a-0\n",
      " \teval_mode: integrated\n",
      " \tindex: 2\n",
      "\n",
      " \tcontent: Figure 14: Concentrations of BaP in 2019\n",
      "\n",
      "Concentrations of Benzo[a]pyrene in 2019:\n",
      "\n",
      "14 reporting countries, all of which were EU Member States, registered values above 1.0 ng/m3\n",
      "\n",
      "Concentrations above 1.0 ng/m3 were registered at 27% of the stations, of which 94% were urban (77%) or suburban (17%). Figure 15: BaP concentrations in 2019 by country\n",
      "\n",
      "Concentrations of  sulphur dioxide (SO2) in 2019:\n",
      "\n",
      "6 reporting countries registered levels above the EU daily limit value\n",
      "\n",
      "17 reporting countries (at 7% of the reporting stations) registered values above the daily WHO AQG (4)\n",
      "\n",
      "In 2020 concentrations of SO2 above the EU daily limit value were registered in two countries.\n",
      " \tgold_id_match: 0.0\n",
      " \tanswer_match: 1.0\n",
      " \tgold_id_or_answer_match: 1.0\n",
      " \trank: 4.0\n",
      " \tdocument_id: 393630a5645fb7c21d1300a1c97d3d9c-0\n",
      " \teval_mode: integrated\n",
      " \tindex: 3\n",
      "_______________________________________________________\n",
      "=======================================================\n",
      "\n",
      "                Wrong Reader Examples\n",
      "=======================================================\n",
      "Query: \n",
      " \tHow to transition to urban environmental sustainability?\n",
      "Gold Answers: \n",
      " \tthe\n",
      "Gold Document Ids: \n",
      " \td9040e49f7351542b59643ad80d4e4a3-0\n",
      "Metrics: \n",
      " \tf1: 1.0\n",
      " \texact_match: 1.0\n",
      "Answers: \n",
      " \tmultilabel_id: -5870905459667590399\n",
      " \tfilters: b'null'\n",
      " \tanswer: nan\n",
      " \tcontext: nan\n",
      " \texact_match: 1.0\n",
      " \tf1: 1.0\n",
      " \trank: 1.0\n",
      " \tdocument_id: nan\n",
      " \toffsets_in_document: [{'start': 0, 'end': 0}]\n",
      " \teval_mode: integrated\n",
      " \tindex: 0\n",
      "\n",
      " \tmultilabel_id: -5870905459667590399\n",
      " \tfilters: b'null'\n",
      " \tanswer: 94% were urban\n",
      " \tcontext: ns above 1.0 ng/m3 were registered at 27% of the stations, of which 94% were urban (77%) or suburban (17%). Figure 15: BaP concentrations in 2019 by c\n",
      " \texact_match: 0.0\n",
      " \tf1: 0.0\n",
      " \trank: 2.0\n",
      " \tdocument_id: 393630a5645fb7c21d1300a1c97d3d9c-0\n",
      " \toffsets_in_document: [{'start': 260, 'end': 274}]\n",
      " \teval_mode: integrated\n",
      " \tindex: 1\n",
      "\n",
      " \tmultilabel_id: -5870905459667590399\n",
      " \tfilters: b'null'\n",
      " \tanswer: interview questions\n",
      " \tcontext: ... 66\n",
      "\n",
      "Appendix B Urban environmental sustainability transitions interview questions ......... 79\n",
      "\n",
      "Urban Sustainability in Europe — What is driving c\n",
      " \texact_match: 0.0\n",
      " \tf1: 0.0\n",
      " \trank: 3.0\n",
      " \tdocument_id: d9040e49f7351542b59643ad80d4e4a3-0\n",
      " \toffsets_in_document: [{'start': 3958, 'end': 3977}]\n",
      " \teval_mode: integrated\n",
      " \tindex: 2\n",
      "\n",
      " \tmultilabel_id: -5870905459667590399\n",
      " \tfilters: b'null'\n",
      " \tanswer: Key drivers of and barriers\n",
      " \tcontext: .......................................................53\n",
      "4.2 Key drivers of and barriers to urban environmental sustainability transitions ..........\n",
      " \texact_match: 0.0\n",
      " \tf1: 0.0\n",
      " \trank: 4.0\n",
      " \tdocument_id: d9040e49f7351542b59643ad80d4e4a3-0\n",
      " \toffsets_in_document: [{'start': 3055, 'end': 3082}]\n",
      " \teval_mode: integrated\n",
      " \tindex: 3\n",
      "_______________________________________________________\n",
      "=======================================================\n",
      "\n"
     ]
    }
   ],
   "source": [
    "pipeline.print_eval_report(saved_eval_result)"
   ]
  },
  {
   "cell_type": "markdown",
   "id": "999db4ea-f06e-401b-9b63-19d359c1852d",
   "metadata": {
    "tags": []
   },
   "source": [
    "# Step7: Advanced Evaluation Metrics"
   ]
  },
  {
   "cell_type": "code",
   "execution_count": 24,
   "id": "2651ff7c-3573-4f2c-9467-b4a7b6eb6e6b",
   "metadata": {
    "tags": []
   },
   "outputs": [],
   "source": [
    "#As an advanced evaluation metric, semantic answer similarity (SAS) can be calculated. \n",
    "#This metric takes into account whether the meaning of a predicted answer is similar to the annotated gold answer rather than just doing string comparison.\n",
    "#To this end SAS relies on pre-trained models. \n",
    "#For English, we recommend \"cross-encoder/stsb-roberta-large\", whereas for German we recommend \"deepset/gbert-large-sts\". \n",
    "#A good multilingual model is \"sentence-transformers/paraphrase-multilingual-mpnet-base-v2\". \n",
    "#More info on this metric can be found in our paper ( https://arxiv.org/abs/2108.06130 ) \n",
    "#or in our blog post ( https://www.deepset.ai/blog/semantic-answer-similarity-to-evaluate-qa )."
   ]
  },
  {
   "cell_type": "code",
   "execution_count": 25,
   "id": "8cf0cc24-e4c1-4874-9e90-461dc2153f6d",
   "metadata": {
    "tags": []
   },
   "outputs": [
    {
     "name": "stderr",
     "output_type": "stream",
     "text": [
      "Inferencing Samples:   0%|                          | 0/1 [00:00<?, ? Batches/s]/home/adi/anaconda3/envs/py384/lib/python3.8/site-packages/haystack/modeling/model/prediction_head.py:478: UserWarning: __floordiv__ is deprecated, and its behavior will change in a future version of pytorch. It currently rounds toward 0 (like the 'trunc' function NOT 'floor'). This results in incorrect rounding for negative values. To keep the current behavior, use torch.div(a, b, rounding_mode='trunc'), or for actual floor division, use torch.div(a, b, rounding_mode='floor').\n",
      "  start_indices = flat_sorted_indices // max_seq_len\n",
      "Inferencing Samples: 100%|██████████████████| 1/1 [00:00<00:00,  2.15 Batches/s]\n",
      "INFO - backoff -  Backing off send_request(...) for 1.3s (requests.exceptions.ConnectTimeout: HTTPSConnectionPool(host='tm.hs.deepset.ai', port=443): Max retries exceeded with url: /batch/ (Caused by ConnectTimeoutError(<urllib3.connection.HTTPSConnection object at 0x7f838b614880>, 'Connection to tm.hs.deepset.ai timed out. (connect timeout=15)')))\n"
     ]
    },
    {
     "name": "stdout",
     "output_type": "stream",
     "text": [
      "0.1291466\n"
     ]
    }
   ],
   "source": [
    "advanced_eval_result = pipeline.eval(\n",
    "    labels=eval_labels, params={\"Retriever\": {\"top_k\": 1}}, sas_model_name_or_path=\"cross-encoder/stsb-roberta-large\"\n",
    ")\n",
    "\n",
    "metrics = advanced_eval_result.calculate_metrics()\n",
    "print(metrics[\"Reader\"][\"sas\"])"
   ]
  },
  {
   "cell_type": "markdown",
   "id": "641e59d4-d72b-46ec-a533-f5022eb270d5",
   "metadata": {
    "tags": []
   },
   "source": [
    "# Step8: Isolated Evaluation Mode"
   ]
  },
  {
   "cell_type": "code",
   "execution_count": 26,
   "id": "3f8780b9-871a-4511-9e01-f34f301b70e0",
   "metadata": {
    "tags": []
   },
   "outputs": [],
   "source": [
    "#The isolated node evaluation uses labels as input to the Reader node instead of the output of the preceeding Retriever node. \n",
    "#Thereby, we can additionally calculate the upper bounds of the evaluation metrics of the Reader. \n",
    "#Note that even with isolated evaluation enabled, integrated evaluation will still be running."
   ]
  },
  {
   "cell_type": "code",
   "execution_count": 27,
   "id": "e67086f2-8187-433d-b548-431eade72054",
   "metadata": {
    "tags": []
   },
   "outputs": [
    {
     "name": "stderr",
     "output_type": "stream",
     "text": [
      "Inferencing Samples:   0%|                          | 0/1 [00:00<?, ? Batches/s]/home/adi/anaconda3/envs/py384/lib/python3.8/site-packages/haystack/modeling/model/prediction_head.py:478: UserWarning: __floordiv__ is deprecated, and its behavior will change in a future version of pytorch. It currently rounds toward 0 (like the 'trunc' function NOT 'floor'). This results in incorrect rounding for negative values. To keep the current behavior, use torch.div(a, b, rounding_mode='trunc'), or for actual floor division, use torch.div(a, b, rounding_mode='floor').\n",
      "  start_indices = flat_sorted_indices // max_seq_len\n",
      "Inferencing Samples: 100%|██████████████████| 1/1 [00:00<00:00,  2.06 Batches/s]\n",
      "Inferencing Samples: 100%|██████████████████| 1/1 [00:00<00:00,  7.31 Batches/s]\n",
      "Inferencing Samples: 100%|██████████████████| 1/1 [00:00<00:00,  6.25 Batches/s]\n",
      "Inferencing Samples: 100%|██████████████████| 1/1 [00:00<00:00,  8.37 Batches/s]\n",
      "Inferencing Samples: 100%|██████████████████| 1/1 [00:00<00:00,  2.01 Batches/s]\n"
     ]
    }
   ],
   "source": [
    "eval_result_with_upper_bounds = pipeline.eval(\n",
    "    labels=eval_labels, params={\"Retriever\": {\"top_k\": 5}, \"Reader\": {\"top_k\": 5}}, add_isolated_node_eval=True\n",
    ")"
   ]
  },
  {
   "cell_type": "code",
   "execution_count": 28,
   "id": "16f7e70f-12ea-438a-8692-02e634131238",
   "metadata": {
    "tags": []
   },
   "outputs": [
    {
     "name": "stdout",
     "output_type": "stream",
     "text": [
      "================== Evaluation Report ==================\n",
      "=======================================================\n",
      "                   Pipeline Overview\n",
      "=======================================================\n",
      "                      Query\n",
      "                        |\n",
      "                        |\n",
      "                      Retriever\n",
      "                        |\n",
      "                        | recall_single_hit:   1.0\n",
      "                        | recall_single_hit_top_1:   1.0\n",
      "                        |\n",
      "                      Reader\n",
      "                        |\n",
      "                        | exact_match upper bound:   1.0\n",
      "                        | exact_match:   1.0\n",
      "                        | exact_match_top_1:   1.0\n",
      "                        | f1 upper bound:   1.0\n",
      "                        | f1:   1.0\n",
      "                        | f1_top_1:   1.0\n",
      "                        |\n",
      "                      Output\n",
      "=======================================================\n",
      "\n",
      "                Wrong Retriever Examples\n",
      "=======================================================\n",
      "Query: \n",
      " \tHow to transition to urban environmental sustainability?\n",
      "Gold Document Ids: \n",
      " \td9040e49f7351542b59643ad80d4e4a3-0\n",
      "Metrics: \n",
      " \trecall_multi_hit: 1.0\n",
      " \trecall_single_hit: 1.0\n",
      " \tprecision: 0.75\n",
      " \tmap: 0.8055555555555555\n",
      " \tmrr: 1.0\n",
      " \tndcg: 0.9060254355346823\n",
      "Documents: \n",
      " \tcontent: Contents\n",
      "\n",
      "Contents\n",
      "\n",
      "Acknowledgements .................................................................................................................... 4\n",
      "\n",
      "COVID-19 preamble ..................................................................................................................... 5\n",
      "\n",
      "Executive Summary .................................................................................................................... 7\n",
      "\n",
      "1 Introduction ......................................................................................................................... 10\n",
      "1.1 Background  ...........................................................................................................................10\n",
      "1.2 Methodological approach ....................................................................................................14\n",
      "1.3 Reflections on the research methodology .........................................................................17\n",
      "\n",
      "2 About the cities ................................................................................................................... 19\n",
      "2.1 Survey respondents ..............................................................................................................21\n",
      "2.2 Environmental challenges  ...................................................................................................22\n",
      "2.3 Emergence of environmental sustainability objectives ....................................................23\n",
      "2.4 Triggers for greater environmental sustainability ............................................................24\n",
      "\n",
      "3   Understanding the factors that shape urban environmental\n",
      "sustainability transitions ....................................................................................................25\n",
      "\n",
      "3.1 Context ...................................................................................................................................25\n",
      "3.2 Governance  ...........................................................................................................................29\n",
      "3.3 Knowledge  .............................................................................................................................37\n",
      "3.4 Culture  ...................................................................................................................................41\n",
      "3.5 Technology .............................................................................................................................44\n",
      "3.6 Data and information  ..........................................................................................................47\n",
      "3.7 Finance....................................................................................................................................49\n",
      "\n",
      "4 Summary of findings ........................................................................................................... 53\n",
      "4.1 About the cities that participated in the research .............................................................53\n",
      "4.2 Key drivers of and barriers to urban environmental sustainability transitions ............53\n",
      "4.3\t General\treflections\ton\tthe\tresearch approach ..................................................................57\n",
      "\n",
      "5 Lessons and next steps ....................................................................................................... 58\n",
      "5.1 Lessons emerging from this research ................................................................................58\n",
      "5.2 Future research opportunities.............................................................................................61\n",
      "\n",
      "References ................................................................................................................................. 64\n",
      "\n",
      "Appendix A Urban environmental sustainability transitions survey ................................ 66\n",
      "\n",
      "Appendix B Urban environmental sustainability transitions interview questions ......... 79\n",
      "\n",
      "Urban Sustainability in Europe — What is driving cities' environmental change?4\n",
      "\n",
      "Acknowledgements\n",
      "\n",
      "Acknowledgements\n",
      "\n",
      "Lead authors\n",
      "\n",
      "Catarina\tHeeckt\t(LSE\tCities)\tand\tŠpela\tKolarič\t(Collingwood\tEnvironmental\tPlanning)\n",
      "\n",
      "Contributors\n",
      "\n",
      "Bethany Mickleburgh (LSE Cities), Ric Eales (Collingwood Environmental Planning), Owen White (Collingwood\n",
      "Environmental Planning), Philipp Rode (LSE Cities)\n",
      "\n",
      "Others\n",
      "\n",
      "The EEA would like to acknowledge the essential contribution of the European Topic Centres (ETCs) as well as\n",
      "the wider urban stakeholder group that contributed to the study design and scrutinised the research findings\n",
      "via multiple in-person and\n",
      " \tgold_id_match: 1.0\n",
      " \tanswer_match: 1.0\n",
      " \tgold_id_or_answer_match: 1.0\n",
      " \trank: 1.0\n",
      " \tdocument_id: d9040e49f7351542b59643ad80d4e4a3-0\n",
      " \teval_mode: integrated\n",
      " \tindex: 0\n",
      "\n",
      " \tcontent: Transport. Total transport emissions in 2020 have fallen by 6% compared to 2019.\n",
      " \tgold_id_match: 0.0\n",
      " \tanswer_match: 0.0\n",
      " \tgold_id_or_answer_match: 0.0\n",
      " \trank: 2.0\n",
      " \tdocument_id: d2c47d238287e6a293d711d32b5c4d6b-0\n",
      " \teval_mode: integrated\n",
      " \tindex: 1\n",
      "\n",
      " \tcontent: Several PFAS are sufficiently volatile to be considered long-range transboundary air pollutants, implying that emissions outside Europe are transported into Europe where they may accumulate in cold areas such as the Arctic (EEA, 2017). The well-known and regularly monitored PFAS (mainly perfluorinated acids) account only for a fraction of the chemical burden from PFAS present in human blood, the environment and wildlife (Koch et al.,\n",
      " \tgold_id_match: 0.0\n",
      " \tanswer_match: 1.0\n",
      " \tgold_id_or_answer_match: 1.0\n",
      " \trank: 3.0\n",
      " \tdocument_id: b489faf3b80bae84dc72fb977c4ad17a-0\n",
      " \teval_mode: integrated\n",
      " \tindex: 2\n",
      "\n",
      " \tcontent: Figure 14: Concentrations of BaP in 2019\n",
      "\n",
      "Concentrations of Benzo[a]pyrene in 2019:\n",
      "\n",
      "14 reporting countries, all of which were EU Member States, registered values above 1.0 ng/m3\n",
      "\n",
      "Concentrations above 1.0 ng/m3 were registered at 27% of the stations, of which 94% were urban (77%) or suburban (17%). Figure 15: BaP concentrations in 2019 by country\n",
      "\n",
      "Concentrations of  sulphur dioxide (SO2) in 2019:\n",
      "\n",
      "6 reporting countries registered levels above the EU daily limit value\n",
      "\n",
      "17 reporting countries (at 7% of the reporting stations) registered values above the daily WHO AQG (4)\n",
      "\n",
      "In 2020 concentrations of SO2 above the EU daily limit value were registered in two countries.\n",
      " \tgold_id_match: 0.0\n",
      " \tanswer_match: 1.0\n",
      " \tgold_id_or_answer_match: 1.0\n",
      " \trank: 4.0\n",
      " \tdocument_id: 393630a5645fb7c21d1300a1c97d3d9c-0\n",
      " \teval_mode: integrated\n",
      " \tindex: 3\n",
      "_______________________________________________________\n",
      "=======================================================\n",
      "\n",
      "                Wrong Reader Examples\n",
      "=======================================================\n",
      "Query: \n",
      " \tHow to transition to urban environmental sustainability?\n",
      "Gold Answers: \n",
      " \tthe\n",
      "Gold Document Ids: \n",
      " \td9040e49f7351542b59643ad80d4e4a3-0\n",
      "Metrics: \n",
      " \tf1: 1.0\n",
      " \texact_match: 1.0\n",
      "Answers: \n",
      " \tmultilabel_id: -5870905459667590399\n",
      " \tfilters: b'null'\n",
      " \tanswer: \n",
      " \tcontext: None\n",
      " \texact_match: 1.0\n",
      " \tf1: 1.0\n",
      " \trank: 1.0\n",
      " \tdocument_id: None\n",
      " \toffsets_in_document: [{'start': 0, 'end': 0}]\n",
      " \teval_mode: integrated\n",
      " \tindex: 0\n",
      "\n",
      " \tmultilabel_id: -5870905459667590399\n",
      " \tfilters: b'null'\n",
      " \tanswer: 94% were urban\n",
      " \tcontext: ns above 1.0 ng/m3 were registered at 27% of the stations, of which 94% were urban (77%) or suburban (17%). Figure 15: BaP concentrations in 2019 by c\n",
      " \texact_match: 0.0\n",
      " \tf1: 0.0\n",
      " \trank: 2.0\n",
      " \tdocument_id: 393630a5645fb7c21d1300a1c97d3d9c-0\n",
      " \toffsets_in_document: [{'start': 260, 'end': 274}]\n",
      " \teval_mode: integrated\n",
      " \tindex: 1\n",
      "\n",
      " \tmultilabel_id: -5870905459667590399\n",
      " \tfilters: b'null'\n",
      " \tanswer: interview questions\n",
      " \tcontext: ... 66\n",
      "\n",
      "Appendix B Urban environmental sustainability transitions interview questions ......... 79\n",
      "\n",
      "Urban Sustainability in Europe — What is driving c\n",
      " \texact_match: 0.0\n",
      " \tf1: 0.0\n",
      " \trank: 3.0\n",
      " \tdocument_id: d9040e49f7351542b59643ad80d4e4a3-0\n",
      " \toffsets_in_document: [{'start': 3958, 'end': 3977}]\n",
      " \teval_mode: integrated\n",
      " \tindex: 2\n",
      "\n",
      " \tmultilabel_id: -5870905459667590399\n",
      " \tfilters: b'null'\n",
      " \tanswer: Key drivers of and barriers\n",
      " \tcontext: .......................................................53\n",
      "4.2 Key drivers of and barriers to urban environmental sustainability transitions ..........\n",
      " \texact_match: 0.0\n",
      " \tf1: 0.0\n",
      " \trank: 4.0\n",
      " \tdocument_id: d9040e49f7351542b59643ad80d4e4a3-0\n",
      " \toffsets_in_document: [{'start': 3055, 'end': 3082}]\n",
      " \teval_mode: integrated\n",
      " \tindex: 3\n",
      "\n",
      " \tmultilabel_id: -5870905459667590399\n",
      " \tfilters: b'null'\n",
      " \tanswer: Understanding the factors that shape urban environmental\n",
      "sustainability\n",
      " \tcontext: ................................24\n",
      "\n",
      "3   Understanding the factors that shape urban environmental\n",
      "sustainability transitions ..........................\n",
      " \texact_match: 0.0\n",
      " \tf1: 0.0\n",
      " \trank: 5.0\n",
      " \tdocument_id: d9040e49f7351542b59643ad80d4e4a3-0\n",
      " \toffsets_in_document: [{'start': 1608, 'end': 1679}]\n",
      " \teval_mode: integrated\n",
      " \tindex: 4\n",
      "_______________________________________________________\n",
      "=======================================================\n",
      "\n"
     ]
    }
   ],
   "source": [
    "pipeline.print_eval_report(eval_result_with_upper_bounds)"
   ]
  },
  {
   "cell_type": "markdown",
   "id": "a8532a83-261a-463c-99f4-d2403e816481",
   "metadata": {
    "tags": []
   },
   "source": [
    "# Step9: Evaluation of Individual Components: Retriever"
   ]
  },
  {
   "cell_type": "code",
   "execution_count": 29,
   "id": "96a0f2d3-7b5a-480e-adcc-842850ae05a8",
   "metadata": {
    "tags": []
   },
   "outputs": [
    {
     "name": "stderr",
     "output_type": "stream",
     "text": [
      "INFO - haystack.nodes.retriever.base -  Performing eval queries...\n",
      "100%|█████████████████████████████████████████████| 1/1 [00:00<00:00,  2.01it/s]\n",
      "INFO - haystack.nodes.retriever.base -  For 1 out of 1 questions (100.00%), the answer was in the top-5 candidate passages selected by the retriever.\n"
     ]
    },
    {
     "name": "stdout",
     "output_type": "stream",
     "text": [
      "Retriever Recall: 1.0\n",
      "Retriever Mean Avg Precision: 1.0\n"
     ]
    }
   ],
   "source": [
    "## Evaluate Retriever on its own\n",
    "# Note that no_answer samples are omitted when evaluation is performed with this method\n",
    "retriever_eval_results = retriever.eval(top_k=5, label_index=label_index, doc_index=doc_index)\n",
    "# Retriever Recall is the proportion of questions for which the correct document containing the answer is\n",
    "# among the correct documents\n",
    "print(\"Retriever Recall:\", retriever_eval_results[\"recall\"])\n",
    "# Retriever Mean Avg Precision rewards retrievers that give relevant documents a higher rank\n",
    "print(\"Retriever Mean Avg Precision:\", retriever_eval_results[\"map\"])"
   ]
  },
  {
   "cell_type": "code",
   "execution_count": 30,
   "id": "e9395bc0-6c85-4408-add5-e12ce248a384",
   "metadata": {
    "tags": []
   },
   "outputs": [],
   "source": [
    "#Just as a sanity check, we can compare the recall from retriever.eval() with the multi hit recall from pipeline.eval(add_isolated_node_eval=True). \n",
    "#These two recall metrics are only comparable \n",
    "#since we chose to filter out no_answer samples when generating eval_labels and setting doc_relevance_col to \"gold_id_match\". \n",
    "#Per default calculate_metrics() has doc_relevance_col set to \"gold_id_or_answer_match\" \n",
    "#which interprets documents as relevant if they either match the gold_id or contain the answer."
   ]
  },
  {
   "cell_type": "code",
   "execution_count": 31,
   "id": "2d225bd4-e7cb-4079-8aa3-e125a6bf556b",
   "metadata": {
    "tags": []
   },
   "outputs": [
    {
     "name": "stdout",
     "output_type": "stream",
     "text": [
      "1.0\n"
     ]
    }
   ],
   "source": [
    "metrics = eval_result_with_upper_bounds.calculate_metrics(doc_relevance_col=\"gold_id_match\")\n",
    "print(metrics[\"Retriever\"][\"recall_multi_hit\"])"
   ]
  },
  {
   "cell_type": "markdown",
   "id": "a369f0e2-3f01-474e-9b94-1c99bb02ab37",
   "metadata": {
    "tags": []
   },
   "source": [
    "# Step10: Evaluation of Individual Components: Reader"
   ]
  },
  {
   "cell_type": "code",
   "execution_count": 35,
   "id": "a05b7fd3-0fb3-4fb6-994c-e25eb54352f3",
   "metadata": {
    "tags": []
   },
   "outputs": [],
   "source": [
    "#Here we evaluate only the reader in a closed domain fashion\n",
    "#i.e. the reader is given one query and its corresponding relevant document \n",
    "#and metrics are calculated on whether the right position in this text is selected by the model as the answer span (i.e. SQuAD style)"
   ]
  },
  {
   "cell_type": "code",
   "execution_count": 36,
   "id": "fe4f8276-02a4-4168-84a3-04c6357b6032",
   "metadata": {},
   "outputs": [
    {
     "name": "stderr",
     "output_type": "stream",
     "text": [
      "INFO - haystack.nodes.reader.farm -  Performing Evaluation using top_k_per_candidate = 3 \n",
      "and consequently, QuestionAnsweringPredictionHead.n_best = 4. \n",
      "This deviates from FARM's default where QuestionAnsweringPredictionHead.n_best = 5\n",
      "Evaluating: 100%|█████████████████████████████████| 1/1 [00:00<00:00,  2.00it/s]"
     ]
    },
    {
     "name": "stdout",
     "output_type": "stream",
     "text": [
      "Reader Top-4-Accuracy: 100.0\n",
      "Reader Top-1-Exact Match: 0.0\n",
      "Reader Top-1-F1-Score: 0.0\n",
      "Reader Top-4-Accuracy (without no_answers): 100.0\n",
      "Reader Top-4-Exact Match (without no_answers): 0.0\n",
      "Reader Top-4-F1-Score (without no_answers): 15.384615384615385\n"
     ]
    },
    {
     "name": "stderr",
     "output_type": "stream",
     "text": [
      "\n"
     ]
    }
   ],
   "source": [
    "# Evaluate Reader on its own\n",
    "reader_eval_results = reader.eval(document_store=document_store, label_index=label_index, doc_index=doc_index)\n",
    "top_n = reader_eval_results[\"top_n\"]\n",
    "# Evaluation of Reader can also be done directly on a SQuAD-formatted file without passing the data to Elasticsearch\n",
    "# reader_eval_results = reader.eval_on_file(\"../data/nq\", \"nq_dev_subset_v2.json\", device=device)\n",
    "\n",
    "# Reader Top-N-Accuracy is the proportion of predicted answers that match with their corresponding correct answer including no_answers\n",
    "print(f\"Reader Top-{top_n}-Accuracy:\", reader_eval_results[\"top_n_accuracy\"])\n",
    "# Reader Top-1-Exact Match is the proportion of questions where the first predicted answer is exactly the same as the correct answer including no_answers\n",
    "print(\"Reader Top-1-Exact Match:\", reader_eval_results[\"EM\"])\n",
    "# Reader Top-1-F1-Score is the average overlap between the first predicted answers and the correct answers including no_answers\n",
    "print(\"Reader Top-1-F1-Score:\", reader_eval_results[\"f1\"])\n",
    "# Reader Top-N-Accuracy is the proportion of predicted answers that match with their corresponding correct answer excluding no_answers\n",
    "print(f\"Reader Top-{top_n}-Accuracy (without no_answers):\", reader_eval_results[\"top_n_accuracy_text_answer\"])\n",
    "# Reader Top-N-Exact Match is the proportion of questions where the predicted answer within the first n results is exactly the same as the correct answer excluding no_answers (no_answers are always present within top n).\n",
    "print(f\"Reader Top-{top_n}-Exact Match (without no_answers):\", reader_eval_results[\"top_n_EM_text_answer\"])\n",
    "# Reader Top-N-F1-Score is the average overlap between the top n predicted answers and the correct answers excluding no_answers (no_answers are always present within top n).\n",
    "print(f\"Reader Top-{top_n}-F1-Score (without no_answers):\", reader_eval_results[\"top_n_f1_text_answer\"])"
   ]
  },
  {
   "cell_type": "code",
   "execution_count": 37,
   "id": "404ebb7c-73d9-4d57-801c-20cc2cf82219",
   "metadata": {
    "tags": []
   },
   "outputs": [],
   "source": [
    "#Just as a sanity check, we can compare the top-n exact_match \n",
    "#and f1 metrics from reader.eval() with the exact_match and f1 from pipeline.eval(add_isolated_node_eval=True). \n",
    "#These two approaches return the same values because pipeline.eval() calculates top-n metrics per default. \n",
    "#Small discrepancies might occur due to string normalization in pipeline.eval()'s answer-to-label comparison. reader.eval() does not use string normalization."
   ]
  },
  {
   "cell_type": "code",
   "execution_count": 38,
   "id": "d0ce5f17-e422-4064-8dc9-2d588b7f9749",
   "metadata": {},
   "outputs": [
    {
     "name": "stdout",
     "output_type": "stream",
     "text": [
      "1.0\n",
      "1.0\n"
     ]
    },
    {
     "name": "stderr",
     "output_type": "stream",
     "text": [
      "INFO - backoff -  Backing off send_request(...) for 0.1s (requests.exceptions.ConnectTimeout: HTTPSConnectionPool(host='tm.hs.deepset.ai', port=443): Max retries exceeded with url: /batch/ (Caused by ConnectTimeoutError(<urllib3.connection.HTTPSConnection object at 0x7f838b8af5b0>, 'Connection to tm.hs.deepset.ai timed out. (connect timeout=15)')))\n",
      "ERROR - backoff -  Giving up send_request(...) after 4 tries (requests.exceptions.ConnectTimeout: HTTPSConnectionPool(host='tm.hs.deepset.ai', port=443): Max retries exceeded with url: /batch/ (Caused by ConnectTimeoutError(<urllib3.connection.HTTPSConnection object at 0x7f828c1dff70>, 'Connection to tm.hs.deepset.ai timed out. (connect timeout=15)')))\n",
      "ERROR - posthog -  error uploading: HTTPSConnectionPool(host='tm.hs.deepset.ai', port=443): Max retries exceeded with url: /batch/ (Caused by ConnectTimeoutError(<urllib3.connection.HTTPSConnection object at 0x7f828c1dff70>, 'Connection to tm.hs.deepset.ai timed out. (connect timeout=15)'))\n",
      "INFO - backoff -  Backing off send_request(...) for 0.3s (requests.exceptions.ConnectTimeout: HTTPSConnectionPool(host='tm.hs.deepset.ai', port=443): Max retries exceeded with url: /batch/ (Caused by ConnectTimeoutError(<urllib3.connection.HTTPSConnection object at 0x7f838bee8400>, 'Connection to tm.hs.deepset.ai timed out. (connect timeout=15)')))\n"
     ]
    }
   ],
   "source": [
    "metrics = eval_result_with_upper_bounds.calculate_metrics(eval_mode=\"isolated\")\n",
    "print(metrics[\"Reader\"][\"exact_match\"])\n",
    "print(metrics[\"Reader\"][\"f1\"])"
   ]
  },
  {
   "cell_type": "code",
   "execution_count": null,
   "id": "37361844-aeae-4afe-9c89-119a2399338f",
   "metadata": {},
   "outputs": [],
   "source": []
  }
 ],
 "metadata": {
  "kernelspec": {
   "display_name": "py384",
   "language": "python",
   "name": "py384"
  },
  "language_info": {
   "codemirror_mode": {
    "name": "ipython",
    "version": 3
   },
   "file_extension": ".py",
   "mimetype": "text/x-python",
   "name": "python",
   "nbconvert_exporter": "python",
   "pygments_lexer": "ipython3",
   "version": "3.8.13"
  }
 },
 "nbformat": 4,
 "nbformat_minor": 5
}
