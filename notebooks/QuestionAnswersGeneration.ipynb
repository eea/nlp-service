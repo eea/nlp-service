{
 "cells": [
  {
   "cell_type": "code",
   "execution_count": 1,
   "id": "6f145160-04f5-4a52-872f-308ab105406b",
   "metadata": {},
   "outputs": [],
   "source": [
    "#start from a .json file from the \"data\" folder\n",
    "#first create a \"processed\" .json file that will contain multiple \"elementary documents\"\n",
    "#an \"elementary document\" will have an unique id, formed from the name of the source .json file and an internal id\n",
    "#basically, the input file will be the .json file from the \"data\" folder and the output file will be a .json containing \"elementary documents\"\n",
    "#we will use split to 250 and to 500 words\n",
    "\n",
    "#will then use a function that takes as input a .json file containing \"elementary documents\" and returns a json containing the id of the \"elementary document\" and a list of pairs (q,a)"
   ]
  },
  {
   "cell_type": "code",
   "execution_count": 2,
   "id": "4e9cf36e-75b2-4241-9015-587e3a96d0d3",
   "metadata": {
    "tags": []
   },
   "outputs": [],
   "source": [
    "# define the tests parameters - here is the only cell where we need to give our input\n",
    "\n",
    "input_file_names = [\"10.json\", \"24.json\"]\n",
    "\n",
    "num_questions = 3\n",
    "split_length = 250\n",
    "tokenizer_model = None\n",
    "use_gpu = False\n",
    "split_by=\"word\""
   ]
  },
  {
   "cell_type": "code",
   "execution_count": 3,
   "id": "01bc3f3f-effc-48f6-b01e-2042b4987b02",
   "metadata": {},
   "outputs": [
    {
     "name": "stderr",
     "output_type": "stream",
     "text": [
      "INFO - haystack.document_stores.base -  Numba not found, replacing njit() with no-op implementation. Enable it with 'pip install numba'.\n",
      "2022-05-16 10:35:59.225010: W tensorflow/stream_executor/platform/default/dso_loader.cc:64] Could not load dynamic library 'libcudart.so.11.0'; dlerror: libcudart.so.11.0: cannot open shared object file: No such file or directory\n",
      "2022-05-16 10:35:59.225027: I tensorflow/stream_executor/cuda/cudart_stub.cc:29] Ignore above cudart dlerror if you do not have a GPU set up on your machine.\n",
      "INFO - haystack.modeling.model.optimization -  apex not found, won't use it. See https://nvidia.github.io/apex/\n"
     ]
    }
   ],
   "source": [
    "import os\n",
    "import json\n",
    "import time\n",
    "\n",
    "from app.api.questiongeneration.service import QuestionGenerationModelB\n",
    "\n",
    "from transformers import AutoTokenizer\n",
    "\n",
    "from haystack.schema import Document\n",
    "from haystack.nodes import PreProcessor"
   ]
  },
  {
   "cell_type": "code",
   "execution_count": 4,
   "id": "cafa0a77-0e65-465b-bd63-9b0d18e17cb6",
   "metadata": {},
   "outputs": [],
   "source": [
    "#initialize tokenizer\n",
    "QG_PRETRAINED = \"iarfmoose/t5-base-question-generator\"\n",
    "qg_tokenizer = AutoTokenizer.from_pretrained(QG_PRETRAINED, use_fast=False)"
   ]
  },
  {
   "cell_type": "code",
   "execution_count": 5,
   "id": "7e8ed4f6-fcd7-461d-81f4-8c53220cba10",
   "metadata": {},
   "outputs": [],
   "source": [
    "preprocessor = PreProcessor(\n",
    "    clean_empty_lines=True,\n",
    "    clean_whitespace=True,\n",
    "    clean_header_footer=False,\n",
    "    split_by=split_by,\n",
    "    split_length=split_length,\n",
    "    split_respect_sentence_boundary=True,\n",
    ")"
   ]
  },
  {
   "cell_type": "code",
   "execution_count": 6,
   "id": "f24a759a-f6fd-4c15-95ee-c745141c18f9",
   "metadata": {},
   "outputs": [],
   "source": [
    "def get_full_path(filename):\n",
    "    fpath = f\"./data/{filename}\"\n",
    "    \n",
    "    return fpath"
   ]
  },
  {
   "cell_type": "code",
   "execution_count": 7,
   "id": "b929da95-139b-46aa-b377-1f1bbab06888",
   "metadata": {
    "tags": []
   },
   "outputs": [],
   "source": [
    "def read_file(path):\n",
    "    with open(path) as f:\n",
    "        j = json.load(f)\n",
    "        return j"
   ]
  },
  {
   "cell_type": "code",
   "execution_count": 8,
   "id": "e9dd3d38-7c4a-4289-b892-cd0e4e047552",
   "metadata": {},
   "outputs": [],
   "source": [
    "def file_to_doc(path, preprocessor):\n",
    "    data = read_file(path)\n",
    "    docs = [Document(content=t).to_dict() for t in data[\"texts\"]]\n",
    "\n",
    "    return preprocessor.process(docs)"
   ]
  },
  {
   "cell_type": "code",
   "execution_count": 9,
   "id": "ca5aa797-b528-464a-86af-382ed8912b8c",
   "metadata": {},
   "outputs": [],
   "source": [
    "def file_to_elementary_docs_json(filename, preprocessor):\n",
    "    path = get_full_path(filename)\n",
    "\n",
    "    json_data = {}\n",
    "    \n",
    "    counter = 1\n",
    "    \n",
    "    for d in file_to_doc(path, preprocessor):\n",
    "        elem_doc_id = input_file_name + \"_\"  + str(counter)\n",
    "        json_data[elem_doc_id] = d.content\n",
    "        \n",
    "        counter = counter + 1\n",
    "\n",
    "    elementary_docs_json = json.dumps(json_data)\n",
    "    \n",
    "    return elementary_docs_json"
   ]
  },
  {
   "cell_type": "code",
   "execution_count": 10,
   "id": "881eedb4-06a6-43c0-9d07-e530b9926a08",
   "metadata": {},
   "outputs": [],
   "source": [
    "def file_list_to_elementary_docs_json(input_file_names, preprocessor):\n",
    "    \n",
    "    json_data = {}\n",
    "    \n",
    "    for filename in input_file_names:\n",
    "        path = get_full_path(filename)\n",
    "\n",
    "        current_json = {}\n",
    "    \n",
    "        counter = 1\n",
    "    \n",
    "        for d in file_to_doc(path, preprocessor):\n",
    "            elem_doc_id = filename + \"_\"  + str(counter)\n",
    "            current_json[elem_doc_id] = d.content\n",
    "                        \n",
    "            counter = counter + 1\n",
    "\n",
    "        json_data = {**json_data, **current_json}\n",
    "        \n",
    "    return json_data"
   ]
  },
  {
   "cell_type": "code",
   "execution_count": 11,
   "id": "3b479ee0-b34c-4956-a213-08090d154380",
   "metadata": {
    "tags": []
   },
   "outputs": [],
   "source": [
    "class Payload:\n",
    "    def __init__(self, text, num_questions, answer_style=None):\n",
    "        self.text = text\n",
    "        self.num_questions = num_questions\n",
    "        self.answer_style = answer_style"
   ]
  },
  {
   "cell_type": "code",
   "execution_count": 12,
   "id": "61d6d49b-fce0-4d68-82d6-3de34fc4cf86",
   "metadata": {
    "tags": []
   },
   "outputs": [],
   "source": [
    "def generate_questions(input_file_names, preprocessor):\n",
    "    \n",
    "    start = time.time()\n",
    "  \n",
    "    \n",
    "    json_data = file_list_to_elementary_docs_json(input_file_names, preprocessor)\n",
    "    \n",
    "    results_data = {}\n",
    "    \n",
    "    for key in json_data:\n",
    "        doc = json_data[key]\n",
    "        \n",
    "        payload = Payload(doc, num_questions=num_questions, answer_style=\"sentences\")\n",
    "\n",
    "        qg = QuestionGenerationModelB()\n",
    "        result = qg.predict(payload)\n",
    "        \n",
    "        results_data[key] = result\n",
    "    \n",
    "    end = time.time()\n",
    "    \n",
    "    duration_seconds = end - start\n",
    "    duration_minutes = int(duration_seconds / 60)\n",
    "    \n",
    "    print(\"Done the questions generation in \" + str(duration_seconds) + \" seconds, which is \" + str(duration_minutes) + \" minutes.\")\n",
    "    \n",
    "    return results_data"
   ]
  },
  {
   "cell_type": "code",
   "execution_count": 13,
   "id": "0defcba2-a08a-40d6-8009-853f2578e136",
   "metadata": {
    "tags": []
   },
   "outputs": [
    {
     "name": "stderr",
     "output_type": "stream",
     "text": [
      "100%|█████████████████████████████████████████| 10/10 [00:00<00:00, 84.49docs/s]\n",
      "100%|████████████████████████████████████████| 10/10 [00:00<00:00, 957.84docs/s]\n"
     ]
    },
    {
     "name": "stdout",
     "output_type": "stream",
     "text": [
      "Generating questions...\n",
      "\n",
      "Evaluating QA pairs...\n",
      "\n"
     ]
    },
    {
     "name": "stderr",
     "output_type": "stream",
     "text": [
      "INFO - backoff -  Backing off send_request(...) for 0.3s (requests.exceptions.ConnectTimeout: HTTPSConnectionPool(host='tm.hs.deepset.ai', port=443): Max retries exceeded with url: /batch/ (Caused by ConnectTimeoutError(<urllib3.connection.HTTPSConnection object at 0x7fd3611fc8b0>, 'Connection to tm.hs.deepset.ai timed out. (connect timeout=15)')))\n"
     ]
    },
    {
     "name": "stdout",
     "output_type": "stream",
     "text": [
      "Generating questions...\n",
      "\n",
      "Evaluating QA pairs...\n",
      "\n"
     ]
    },
    {
     "name": "stderr",
     "output_type": "stream",
     "text": [
      "INFO - backoff -  Backing off send_request(...) for 1.6s (requests.exceptions.ConnectTimeout: HTTPSConnectionPool(host='tm.hs.deepset.ai', port=443): Max retries exceeded with url: /batch/ (Caused by ConnectTimeoutError(<urllib3.connection.HTTPSConnection object at 0x7fd359424130>, 'Connection to tm.hs.deepset.ai timed out. (connect timeout=15)')))\n"
     ]
    },
    {
     "name": "stdout",
     "output_type": "stream",
     "text": [
      "Generating questions...\n",
      "\n",
      "Evaluating QA pairs...\n",
      "\n",
      "Generating questions...\n",
      "\n",
      "Evaluating QA pairs...\n",
      "\n",
      "\n",
      "Was only able to generate 2 questions. For more questions, please input a longer text.\n"
     ]
    },
    {
     "name": "stderr",
     "output_type": "stream",
     "text": [
      "INFO - backoff -  Backing off send_request(...) for 0.5s (requests.exceptions.ConnectTimeout: HTTPSConnectionPool(host='tm.hs.deepset.ai', port=443): Max retries exceeded with url: /batch/ (Caused by ConnectTimeoutError(<urllib3.connection.HTTPSConnection object at 0x7fd35be3e3d0>, 'Connection to tm.hs.deepset.ai timed out. (connect timeout=15)')))\n"
     ]
    },
    {
     "name": "stdout",
     "output_type": "stream",
     "text": [
      "Generating questions...\n",
      "\n",
      "Evaluating QA pairs...\n",
      "\n"
     ]
    },
    {
     "name": "stderr",
     "output_type": "stream",
     "text": [
      "ERROR - backoff -  Giving up send_request(...) after 4 tries (requests.exceptions.ConnectTimeout: HTTPSConnectionPool(host='tm.hs.deepset.ai', port=443): Max retries exceeded with url: /batch/ (Caused by ConnectTimeoutError(<urllib3.connection.HTTPSConnection object at 0x7fd3600357c0>, 'Connection to tm.hs.deepset.ai timed out. (connect timeout=15)')))\n",
      "ERROR - posthog -  error uploading: HTTPSConnectionPool(host='tm.hs.deepset.ai', port=443): Max retries exceeded with url: /batch/ (Caused by ConnectTimeoutError(<urllib3.connection.HTTPSConnection object at 0x7fd3600357c0>, 'Connection to tm.hs.deepset.ai timed out. (connect timeout=15)'))\n"
     ]
    },
    {
     "name": "stdout",
     "output_type": "stream",
     "text": [
      "Generating questions...\n",
      "\n",
      "Evaluating QA pairs...\n",
      "\n",
      "\n",
      "Was only able to generate 0 questions. For more questions, please input a longer text.\n",
      "Generating questions...\n",
      "\n",
      "Evaluating QA pairs...\n",
      "\n",
      "Generating questions...\n",
      "\n",
      "Evaluating QA pairs...\n",
      "\n",
      "Generating questions...\n",
      "\n",
      "Evaluating QA pairs...\n",
      "\n",
      "Generating questions...\n",
      "\n"
     ]
    },
    {
     "name": "stderr",
     "output_type": "stream",
     "text": [
      "/home/adi/anaconda3/envs/py384/lib/python3.8/site-packages/transformers/models/t5/tokenization_t5.py:190: UserWarning: This sequence already has </s>. In future versions this behavior may lead to duplicated eos tokens being added.\n",
      "  warnings.warn(\n"
     ]
    },
    {
     "name": "stdout",
     "output_type": "stream",
     "text": [
      "Evaluating QA pairs...\n",
      "\n",
      "Generating questions...\n",
      "\n",
      "Evaluating QA pairs...\n",
      "\n",
      "Generating questions...\n",
      "\n",
      "Evaluating QA pairs...\n",
      "\n",
      "Generating questions...\n",
      "\n",
      "Evaluating QA pairs...\n",
      "\n",
      "Generating questions...\n",
      "\n",
      "Evaluating QA pairs...\n",
      "\n",
      "Generating questions...\n",
      "\n",
      "Evaluating QA pairs...\n",
      "\n",
      "Generating questions...\n",
      "\n",
      "Evaluating QA pairs...\n",
      "\n",
      "Generating questions...\n",
      "\n",
      "Evaluating QA pairs...\n",
      "\n",
      "Generating questions...\n",
      "\n",
      "Evaluating QA pairs...\n",
      "\n",
      "Generating questions...\n",
      "\n",
      "Evaluating QA pairs...\n",
      "\n",
      "Generating questions...\n",
      "\n",
      "Evaluating QA pairs...\n",
      "\n",
      "\n",
      "Was only able to generate 1 questions. For more questions, please input a longer text.\n",
      "Generating questions...\n",
      "\n",
      "Evaluating QA pairs...\n",
      "\n",
      "Generating questions...\n",
      "\n",
      "Evaluating QA pairs...\n",
      "\n",
      "Generating questions...\n",
      "\n",
      "Evaluating QA pairs...\n",
      "\n",
      "Generating questions...\n",
      "\n",
      "Evaluating QA pairs...\n",
      "\n",
      "Generating questions...\n",
      "\n",
      "Evaluating QA pairs...\n",
      "\n",
      "Done the questions generation in 757.1004436016083 seconds, which is 12 minutes.\n"
     ]
    }
   ],
   "source": [
    "res = generate_questions(input_file_names, preprocessor)"
   ]
  },
  {
   "cell_type": "code",
   "execution_count": 14,
   "id": "8855f59c-323a-4d43-a771-95b472a62601",
   "metadata": {
    "tags": []
   },
   "outputs": [],
   "source": [
    "#save the results into a json file\n",
    "#the file name is qa_pairs.json\n",
    "#the path where it is saved is \"data/qa/\"\n",
    "#if \"qa\" folder does not exist, it will be created\n",
    "\n",
    "output_path = \"data/qa\"\n",
    "\n",
    "path_exists = os.path.exists(output_path)\n",
    "\n",
    "if not path_exists:\n",
    "    os.makedirs(output_path)\n",
    "\n",
    "output_full_path = output_path + \"/qa_pairs.json\"\n",
    "\n",
    "with open(output_full_path, \"w\") as f:\n",
    "    f.write(json.dumps(res))"
   ]
  },
  {
   "cell_type": "code",
   "execution_count": 15,
   "id": "fe4f8276-02a4-4168-84a3-04c6357b6032",
   "metadata": {},
   "outputs": [
    {
     "data": {
      "text/plain": [
       "{'10.json_1': {'text': 'BISE Specific Privacy Statement\\nIntroduction\\nBISE, The Biodiversity Information System for Europe is a joint initiative of the European Commission- DG Environment, and the European Environment Agency (EEA), to offer a single entry point for information and data to support the implementation of the EU biodiversity policy in support of the implementation of its actions and track progress towards both the EU and global biodiversity targets. An introduction about BISE is provided here: https://biodiversity.europa.eu/info\\nPersonal data collected by the European BISE portal are processed in accordance with Regulation (EU) 2018/1725 of the European Parliament and of the Council of 23 October 2018 on the protection of natural persons with regard to the processing of personal data by the Union institutions, bodies, offices and agencies and on the free movement of such data. Collection and processing of data are under the responsibility of the European Environment Agency (EEA), NCE1 - Biodiversity and Nature (NCE - Natural Capital and Ecosystems Programme), acting as Data Controller. The BISE Data processor is the external contractor, in charge of the development of the BISE portal. What personal information we collect and for what purpose\\nIn the context of the BISE portal, we are not collecting and publishing personal data. We collect personal information only when we create an account in the Eionet User Directory (Eionet account) to authorise experts that might directly contribute to the BISE web content. Please see the privacy statement of the Eionet website for details on the Eionet User Directory.',\n",
       "  'questions': [{'question': 'What is the purpose of the Biodiversity Information System for Europe?',\n",
       "    'answer': 'BISE Specific Privacy Statement</s> Introduction</s> BISE, The Biodiversity Information System for Europe is a joint initiative of the European Commission- DG Environment, and the European Environment Agency (EEA), to offer a single entry point for information and data to support the implementation of the EU biodiversity policy in support of the implementation of its actions and track progress towards both the EU and global biodiversity targets.'},\n",
       "   {'question': 'What is the BISE User Directory?',\n",
       "    'answer': 'Please see the privacy statement of the Eionet website for details on the Eionet User Directory.'},\n",
       "   {'question': 'What is the purpose of the BISE portal?',\n",
       "    'answer': 'What personal information we collect and for what purpose</s> In the context of the BISE portal, we are not collecting and publishing personal data.'}]},\n",
       " '10.json_2': {'text': 'For generic BISE users, as personal data we only process: IP-addresses, browser versions and other devices information (i.e. transactional data) that are necessary to securely deliver web pages to the internet client. These transactional data are also processed by the personnel at CERT-EU which provides security services for EEA and available to the EEA’s Internet Service Provider (tdc.dk) and cloud provider Amazon in EU, therefore for them, their privacy policy applies. BISE users can request information about BISE, providing feedback and reporting bugs by sending an email at: BISE@eea.europa.eu; this email is accessible and managed by authorised staff composed by the EEA Eionet helpdesk staff and the BISE administrators via the Eionet Help Desk system (OTRS). Authorised staff can directly reply and solve a request, close the ticket of a request, forward it to the EEA or the European Topic Centre on Biological Diversity (ETC/BD) experts that can also reply. Finally authorised staff prepare the annual anonymised statistics about the type of request. We do not store personal data in cookies. By default, the browsing experience of BISE users is tracked by the EEA Matomo software in order to produce anonymised statistics. For example, EEA staff may collect some data on browsing experience such as masked IP address (anonymized by removing the last two bytes), the web pages visited by a user, the website page an user were redirected from. The statistics aims at improving BISE portal and the browsing experience.',\n",
       "  'questions': [{'question': 'Who is responsible for the processing of transactional data?',\n",
       "    'answer': 'These transactional data are also processed by the personnel at CERT-EU which provides security services for EEA and available to the EEA’s Internet Service Provider (tdc.'},\n",
       "   {'question': 'What is the purpose of the statistics?',\n",
       "    'answer': 'The statistics aims at improving BISE portal and the browsing experience.'},\n",
       "   {'question': 'Do we store personal data in cookies?',\n",
       "    'answer': 'We do not store personal data in cookies.'}]},\n",
       " '10.json_3': {'text': 'The analytical reports generated by the EEA Matomo can only be accessed through the Eionet Directory authentication system by EEA staff, other relevant EU institutions’ staff or by duly authorised external contractors, who may be required to analyse, develop and/or regularly maintain BISE. By default, EEA software Matomo installation respects users’ preferences and do not track visitors which have specified \"I do not want to be tracked\" in their web browsers (aka \"Do not track\"). How long personal data are stored\\nTransactional data (security logs) are stored for a maximum of 1 year for security audit purposes unless there is an individual reason to keep information for a longer period of time (e.g. when individual IP addresses are blocked if part of a DoS-attack). How to contact EEA and right to appeal\\nBISE users may contact the EEA’s Data Protection Officer (DPO) in case of any enquiry relating to the processing of personal data at the following email address: dpo@eea.europa.eu. BISE users are entitled to have recourse at any time to the European Data Protection Supervisor (https://edps.europa.eu; edps@edps.europa.eu) if they consider that the rights under Regulation (EU) 2018/1725 have been infringed as a result of the processing of personal data by the EEA. Footnotes\\n- OJ L 295/39 of 21.11.2018↵\\n- https://www.eionet.europa.eu/about/privacy-statement/index↵\\n- Matomo is an open-source and privacy-oriented web analytics software. The term \"EEA Matomo\" refers to our installation, managed directly by EEA Staff and installed within EEA/EU.↵\\n- Masking of IP addresses.',\n",
       "  'questions': [{'question': 'how long are transactional data stored?',\n",
       "    'answer': 'How long personal data are stored</s> Transactional data (security logs) are stored for a maximum of 1 year for security audit purposes unless there is an individual reason to keep information for a longer period of time (e.'},\n",
       "   {'question': 'What is the purpose of Matomo?',\n",
       "    'answer': 'eu/about/privacy-statement/index<unk> </s> - Matomo is an open-source and privacy-oriented web analytics software.'},\n",
       "   {'question': 'how can a EEA Matomo be accessed?',\n",
       "    'answer': 'The analytical reports generated by the EEA Matomo can only be accessed through the Eionet Directory authentication system by EEA staff, other relevant EU institutions’ staff or by duly authorised external contractors, who may be required to analyse, develop and/or regularly maintain BISE.'}]},\n",
       " '10.json_4': {'text': \"Institution, city and country origin are determined from the full IP, then stored and aggregated before a mask is applied. EEA Matomo uses an IP de-identification mechanism that automatically masks a portion of each user's IP (Internet Protocol), effectively making it impossible to identify a particular website visitor via the sole IP address.↵\",\n",
       "  'questions': [{'question': 'how is the IP of a website determined?',\n",
       "    'answer': 'Institution, city and country origin are determined from the full IP, then stored and aggregated before a mask is applied.'},\n",
       "   {'question': 'what is a mask?',\n",
       "    'answer': \"EEA Matomo uses an IP de-identification mechanism that automatically masks a portion of each user's IP (Internet Protocol), effectively making it impossible to identify a particular website visitor via the sole IP address.\"}]},\n",
       " '10.json_5': {'text': 'Case Study Hub\\nWelcome to the BISE Case Study Hub. Here, you can explore a selection of case studies that have successfully improved the status of a protected species or habitat due to targeted measures. Get inspired! Welcome to the BISE Case Study Hub. Here, you can explore a selection of case studies that have successfully improved the status of a protected species or habitat due to targeted measures. Explore how brown bears in Italy had almost died out before the LIFE project URSUS translocated bears from Slovenia to reinforce the local population. Discover the LIFE project HUNDIDI, which raised the population size of the extremely rare lilac flower species Dianthus diutinus from 20 000 to 100 000 individuals! Some case studies even went above and beyond their initial target and improved the population of other species in the process or strengthened the local economy. The good practice examples presented here offer insights on how successful biodiversity management has been implemented across the EU. Detailed are the main challenges, planned and implemented conservation measures, stakeholders involved, cost and financing of specific actions and the key impacts achieved through protective measures. The hub currently contains results for 12 case studies and is continuously being expanded to include further inspiring narratives. Use the country search list to find out more successful nature protection in Europe.',\n",
       "  'questions': [{'question': 'How many case studies have improved the status of a protected species?',\n",
       "    'answer': 'Some case studies even went above and beyond their initial target and improved the population of other species in the process or strengthened the local economy.'},\n",
       "   {'question': 'How did the project help improve the status of brown bears in Italy?',\n",
       "    'answer': 'Explore how brown bears in Italy had almost died out before the LIFE project URSUS translocated bears from Slovenia to reinforce the local population.'},\n",
       "   {'question': 'How many case studies have been published?',\n",
       "    'answer': 'The hub currently contains results for 12 case studies and is continuously being expanded to include further inspiring narratives.'}]},\n",
       " '10.json_6': {'text': 'Black stork (Ciconia nigra)\\nin Hungary\\nBoreal baltic coastal meadows in Finland\\nBrown bears in Italy\\nSemi-natural dry grasslands and scrubland facies on calcareous substrates (Festuco-Brometalia) in Poland\\nDianthus diutinus – Hungary\\nHumid dune slacks in the Netherlands\\nMediterranean Killifish (Aphanius fasciatus)\\nEuropean Pond Turtle (Emys orbicularis)\\nTaxus baccata woods of the British Isles\\nViolet Copper (Lycaena helle)\\nSpanish Imperial Eagle (Aquila adalberti)\\nWater courses of plain to montane levels with the Ranunculion flui-tantis and Callitricho-Batrachion vegetation (3260) and species Rhodeus amarus, Barbus barbus, Lutra lutra, Lampetra fluviatilis, Salmo salar',\n",
       "  'questions': []},\n",
       " '10.json_7': {'text': 'MAES\\nMAES-related developments in Portugal\\nFollowing the Millennium sub global assessment for Portugal, a contract was signed in August 2014 between ICNF (Institute for Nature Conservations and Forests - national authority for nature conservation and forests) and Instituto Superior Técnico (IST), to put in place a short term pilot MAES at Alentejo region (south Portugal) which has already been concluded and the main products will soon be made available at BISE. The work carried out focused on test, at a regional level, methodologies and indicators for mapping ecosystems (EUNIS based classification) assess their condition (Organic Matter Content, Ecological Value of Plant Communities, Phytodiversity, and Zoodiversity used as selected indicators for ecosystem condition) and ecosystem services (soil protection, climate regulation through carbon sequestration, fiber production, crops, and extensive animal production) in a spatial based framework. This short term project also comprised an approach to TEEB study in a protected area/Natura 2000 (Natural Park of Serra de São Mamede – also a Natura 2000 site) with a strong focus on mapping economic values of selected and restrict number of ecosystem services. Economic value estimates were based on available information and relied mainly on the use of avoided costs (carbon sequestration and soil protection (avoided erosion), willingness to pay (biodiversity), and market prices (crop, extensive animal, and fiber production) methods.',\n",
       "  'questions': [{'question': 'What is the main project in Portugal?',\n",
       "    'answer': 'MAES</s> MAES-related developments in Portugal</s> Following the Millennium sub global assessment for Portugal, a contract was signed in August 2014 between ICNF (Institute for Nature Conservations and Forests - national authority for nature conservation and forests) and Instituto Superior Técnico (IST), to put in place a short term pilot MAES at Alentejo region (south Portugal) which has already been concluded and the main products will soon be made available at BISE.'},\n",
       "   {'question': 'In August 2014, a contract was signed between TEEB and the Portuguese government for?',\n",
       "    'answer': 'This short term project also comprised an approach to TEEB study in a protected area/Natura 2000 (Natural Park of Serra de S<unk> o Mamede – also a Natura 2000 site) with a strong focus on mapping economic values of selected and restrict number of ecosystem services.'},\n",
       "   {'question': 'What is the purpose of this work?',\n",
       "    'answer': 'The work carried out focused on test, at a regional level, methodologies and indicators for mapping ecosystems (EUNIS based classification) assess their condition (Organic Matter Content, Ecological Value of Plant Communities, Phytodiversity, and Zoodiversity used as selected indicators for ecosystem condition) and ecosystem services (soil protection, climate regulation through carbon sequestration, fiber production, crops, and extensive animal production) in a spatial based framework.'}]},\n",
       " '10.json_8': {'text': 'Besides the need of a more comprehensive approach (not possible in a very short term study), results shows that future TEEB approaches in protected areas should highlight the added value of the protection status/regime of the area within the broader economy of the widescape region, taking into account the indicators used in the study. During the course of this pilot MAES study ICNF is preparing a long term process, to be launched in 2016, and aimed at covering the mainland Portugal territory. As part of this effort it is foreseen the development of a MAES-related platform networking the most relevant scientific projects in course and data and information sources, and engaging other relevant stakeholders and public authorities. In Portugal there is a lot of fragmented experience and interest from local level, stakeholders, NGOs and universities. The government launched several initiatives taking on board the importance of ecosystem services and natural capital for growth and jobs, such as green economy initiative, green tax reforms, TEEB approaches and ecosystem services assessment. The issue has been taking into account on partnership agreement and on the ongoing programming of ESIF 2014-2020.',\n",
       "  'questions': [{'question': 'what is the need of a more comprehensive approach in protected areas?',\n",
       "    'answer': 'Besides the need of a more comprehensive approach (not possible in a very short term study), results shows that future TEEB approaches in protected areas should highlight the added value of the protection status/regime of the area within the broader economy of the widescape region, taking into account the indicators used in the study.'},\n",
       "   {'question': 'What is the purpose of the pilot study?',\n",
       "    'answer': 'During the course of this pilot MAES study ICNF is preparing a long term process, to be launched in 2016, and aimed at covering the mainland Portugal territory.'},\n",
       "   {'question': 'What is the main difference between the two countries?',\n",
       "    'answer': 'In Portugal there is a lot of fragmented experience and interest from local level, stakeholders, NGOs and universities.'}]},\n",
       " '10.json_9': {'text': 'Following an exploratory MAES PT workshop in January 2015, a kick-off MAES PT conference will be held in December 11, 2015, with the presentation of MAES Alentejo pilot and other national case projects and studies, the participation of the Commission/DG ENV-Directorate of Natural Capital, JRC and EEA to frame the EU approach, and a debate with scientific community, decision-makers, and private stakeholders on the views and perspectives of a national MAES PT and the foreseen outcomes for policy making up to 2020. Reference should also be made to the close participation of Portuguese authorities in EU MAES pilot study on urban ecosystem services, promoted by DGT (General Directorate for Territory Development) together with three municipalities including Lisbon which will host an expert workshop in February 2016. Previously in 2014, portuguese researchers also co-leaded the MAES EU pilot study on forest ecosystems and participate in the MAES EU pilot study on marine ecosystems. Several projects headed by, or with the involvement of, Portuguese research teams are in course, including the involvement in other EU MAES activities, at national level, european level (e.g. OpenNESS, OPERA, ESMERALDA) and within IPBES global and regional assessments. Date: 25/11/2015\\n- For additional information see the ESMERALDA country fact sheet',\n",
       "  'questions': [{'question': 'What is the main objective of the MAES Alentejo project?',\n",
       "    'answer': 'Following an exploratory MAES PT workshop in January 2015, a kick-off MAES PT conference will be held in December 11, 2015, with the presentation of MAES Alentejo pilot and other national case projects and studies, the participation of the Commission/DG ENV-Directorate of Natural Capital, JRC and EEA to frame the EU approach, and a debate with scientific community, decision-makers, and private stakeholders on the views and perspectives of a national MAES PT and the foreseen outcomes for policy making up to 2020.'},\n",
       "   {'question': 'What is the main purpose of the MAES EU pilot study?',\n",
       "    'answer': 'Previously in 2014, portuguese researchers also co-leaded the MAES EU pilot study on forest ecosystems and participate in the MAES EU pilot study on marine ecosystems.'},\n",
       "   {'question': 'What is the role of the EU?',\n",
       "    'answer': 'Several projects headed by, or with the involvement of, Portuguese research teams are in course, including the involvement in other EU MAES activities, at national level, european level (e.'}]},\n",
       " '10.json_10': {'text': \"Do something for our planet, print this page only if needed. Even a small action can make an enormous difference when millions of people do it! Figure\\nFigure Created 21 Dec 2018 Published 27 Feb 2019 Last modified 20 Mar 2019\\n1 min read\\n97177_Map01-Map-Report-Ecosystem-map_11_cs4.eps\\n97177_Map01-Map-Report-Ecosystem-map_12_cs4.eps\\nLink to the 'Mapping and Assessment of Ecosystems and their Services (MAES)'\\nhttp://biodiversity.europa.eu/maes/maes-digital-atlas\\n2015\\nFor references, please go to https://www.eea.europa.eu/data-and-maps/figures/ecosystem-map-and-european-regional-seas or scan the QR code. PDF generated on 29 Jan 2022, 08:59 PM\\nFiled under: land cover ecosystem eunis habitats bise corine land cover vegetation\\nFiled under: land cover, ecosystem, eunis, habitats, bise, corine land cover, vegetation\\nThe EEA is an agency of the European Union\\nEngineered by: EEA Web Team\\nSoftware updated on 21 January 2022 18:26 from version 21.12.30\\nSoftware version: EEA Plone KGS 22.1.20\\nCode for developers\\nSystems Status\\nLegal notice\\nCreative commons license\\nCMS login\\nDocument Actions\\nShare with others\",\n",
       "  'questions': [{'question': 'What can you do to help the planet?',\n",
       "    'answer': 'Do something for our planet, print this page only if needed.'},\n",
       "   {'question': \"What is the eu's map of the sea?\",\n",
       "    'answer': 'eu/data-and-maps/figures/ecosystem-map-and-european-regional-seas or scan the QR code.'},\n",
       "   {'question': 'how many people do something for our planet?',\n",
       "    'answer': 'Even a small action can make an enormous difference when millions of people do it!'}]},\n",
       " '10.json_11': {'text': 'Do something for our planet, print this page only if needed. Even a small action can make an enormous difference when millions of people do it! Data Visualization\\nData Visualization Created 01 Sep 2021 Published 07 Sep 2021 Last modified 03 Dec 2021\\n1 min read\\nbetween 2012 and 2018\\nNote:\\nMAES ecosystem types are delineated from relevant Corine Land Cover classes. Internal conversions within the aggregated MAES classes are excluded from the calculation of changes. HTML CSV TSV\\nJSON Exhibit JSON XML XML with Schema\\n06 Dec 2018 - Area change for MAES ecosystems between 2006 and 2012\\n17 Feb 2015 - Land cover change: Area change for major ecosystems\\n2012-2018\\nFor references, please go to https://www.eea.europa.eu/data-and-maps/daviz/land-cover-change-area-change-3 or scan the QR code. PDF generated on 30 Jan 2022, 01:27 PM\\nFiled under: land cover ecosystem bise land cover changes\\nFiled under: land cover, ecosystem, bise, land cover changes\\nThe EEA is an agency of the European Union\\nEngineered by: EEA Web Team\\nSoftware updated on 21 January 2022 18:26 from version 21.12.30\\nSoftware version: EEA Plone KGS 22.1.20\\nCode for developers\\nSystems Status\\nLegal notice\\nCreative commons license\\nCMS login\\nDocument Actions\\nShare with others',\n",
       "  'questions': [{'question': 'What is the difference between the MAES classes?',\n",
       "    'answer': 'Internal conversions within the aggregated MAES classes are excluded from the calculation of changes.'},\n",
       "   {'question': 'What is the difference between a small action and a large one?',\n",
       "    'answer': 'Even a small action can make an enormous difference when millions of people do it!'},\n",
       "   {'question': 'What is the average value of the data?', 'answer': '1.'}]},\n",
       " '10.json_12': {'text': 'Do something for our planet, print this page only if needed. Even a small action can make an enormous difference when millions of people do it! HelpCenter FAQ\\nHelpCenter FAQ\\nYou can see the how much of your country is covered by protected areas and compare with other European countries here. National reports related to biodiversity and EU Member State information related to indicators are available in the interactive country map under the BISE platform. For references, please go to https://www.eea.europa.eu/help/faq/what-is-the-status-of or scan the QR code. PDF generated on 30 Jan 2022, 05:29 PM\\nFiled under: Biodiversity and ecosystems\\nFiled under: Biodiversity and ecosystems\\nThe EEA is an agency of the European Union\\nEngineered by: EEA Web Team\\nSoftware updated on 21 January 2022 18:26 from version 21.12.30\\nSoftware version: EEA Plone KGS 22.1.20\\nCode for developers\\nSystems Status\\nLegal notice\\nCreative commons license\\nCMS login\\nDocument Actions\\nShare with others',\n",
       "  'questions': [{'question': 'What can you do to help the planet?',\n",
       "    'answer': 'Do something for our planet, print this page only if needed.'},\n",
       "   {'question': 'Where can you find the information on what is the status of a protected area?',\n",
       "    'answer': 'eu/help/faq/what-is-the-status-of or scan the QR code.'},\n",
       "   {'question': \"What is the EEA's mission?\",\n",
       "    'answer': 'PDF generated on 30 Jan 2022, 05:29 PM</s> Filed under: Biodiversity and ecosystems</s> Filed under: Biodiversity and ecosystems</s> The EEA is an agency of the European Union</s> Engineered by: EEA Web Team</s> Software updated on 21 January 2022 18:26 from version 21.'}]},\n",
       " '10.json_13': {'text': 'Do something for our planet, print this page only if needed. Even a small action can make an enormous difference when millions of people do it! Data Visualization\\nData Visualization Created 01 Sep 2021 Published 07 Sep 2021 Last modified 07 Sep 2021\\n1 min read\\nland\\nNote:\\nMAES: Mapping and assessment of ecosystem services. MAES ecosystem types are delineated from relevant Corine Land Cover classes. Internal conversions within the aggregated MAES classes are excluded from the calculation of changes. HTML CSV TSV\\nJSON Exhibit JSON XML XML with Schema\\n06 Dec 2018 - Changes in MAES ecosystems between 2006 and 2012: previous status of newly urban areas\\n17 Feb 2015 - Changes in land cover between 2000 and 2006: Previous status of newly urban areas\\n2012-2018\\nFor references, please go to https://www.eea.europa.eu/data-and-maps/daviz/changes-in-land-cover-between-6 or scan the QR code. PDF generated on 30 Jan 2022, 01:27 PM\\nFiled under: urban urbanisation land cover ecosystem land cover changes bise\\nFiled under: urban, urbanisation, land cover, ecosystem, land cover changes, bise\\nThe EEA is an agency of the European Union\\nEngineered by: EEA Web Team\\nSoftware updated on 21 January 2022 18:26 from version 21.12.30\\nSoftware version: EEA Plone KGS 22.1.20\\nCode for developers\\nSystems Status\\nLegal notice\\nCreative commons license\\nCMS login\\nDocument Actions\\nShare with others',\n",
       "  'questions': [{'question': 'What are the types of land cover?',\n",
       "    'answer': 'MAES ecosystem types are delineated from relevant Corine Land Cover classes.'},\n",
       "   {'question': '- Changes in land cover between 2000 and 2012: if you need to do something?',\n",
       "    'answer': 'HTML CSV TSV</s> JSON Exhibit JSON XML XML with Schema</s> 06 Dec 2018 - Changes in MAES ecosystems between 2006 and 2012: previous status of newly urban areas</s> 17 Feb 2015 - Changes in land cover between 2000 and 2006: Previous status of newly urban areas</s> 2012-2018</s> For references, please go to https://www.'},\n",
       "   {'question': 'What is the difference between a small action and a large one?',\n",
       "    'answer': 'Even a small action can make an enormous difference when millions of people do it!'}]},\n",
       " '10.json_14': {'text': 'Key documents and links\\nManagement effectiveness in the EU’s Natura 2000 network of protected areas:\\nBriefing: https://www.eea.europa.eu/themes/biodiversity/natura-2000/management-effectiveness-in-the-eu\\nReport: https://cmshare.eea.europa.eu/s/fPAH9bHrrkY6pc9#pdfviewer\\nBuilding a coherent Trans-EuropeanNature Network:\\nBriefing: https://www.eea.europa.eu/publications/building-a-coherent-trans-european\\nReport: https://www.eea.europa.eu/themes/biodiversity/green-infrastructure/building-a-coherent-trans-european/contributions-to-building-a-coherent\\nTools to support green infrastructure planning and ecosystem restoration:\\n- Strategic Green Infrastructure and Ecosystem Restoration (The Joint Research Centre (JRC), the EEA and the Directorate-General for Environment of the European Commission 2019). - Exploring nature-based solutions — The role of green infrastructure in mitigating the impacts of weather- and climate change-related natural hazards (EEA report 2015)\\nFurther reading\\nEuropean Commission’s central page on green infrastructure, including a lot of background studies\\nWealth of information on Green Infrastructure is available in the BISE Catalogue\\nLinkedIn group: European Green Infrastructure Practitioners’ Network\\nCEEweb for Biodiversity and ECNC: Green Infrastructure Knowledge Hub',\n",
       "  'questions': [{'question': 'What is the role of the European Commission in the restoration of green infrastructure?',\n",
       "    'answer': 'eu/themes/biodiversity/green-infrastructure/building-a-coherent-trans-european/contributions-to-building-a-coherent</s> Tools to support green infrastructure planning and ecosystem restoration:</s> - Strategic Green Infrastructure and Ecosystem Restoration (The Joint Research Centre (JRC), the EEA and the Directorate-General for Environment of the European Commission 2019).'},\n",
       "   {'question': 'What is the EU’s biodiversity network?',\n",
       "    'answer': 'eu/s/fPAH9bHrrkY6pc9#pdfviewer</s> Building a coherent Trans-EuropeanNature Network:</s> Briefing: https://www.'},\n",
       "   {'question': 'where can i find the eea website?',\n",
       "    'answer': 'eu/themes/biodiversity/natura-2000/management-effectiveness-in-the-eu</s> Report: https://cmshare.'}]},\n",
       " '24.json_1': {'text': 'Do something for our planet, print this page only if needed. Even a small action can make an enormous difference when millions of people do it! HelpCenter FAQ\\nHelpCenter FAQ\\nData on greenhouse gas (GHG) emissions and removals reported by EEA member countries to the United Nations Framework Convention on Climate Change (UNFCCC) and to the EU/EEA under the EU Greenhouse Gas Monitoring Mechanism (EU Member States) are accessible on the EEA greenhouse gas data viewer. This viewer shows the latest emissions reported in annual GHG inventories and enables users to filter the data by country, sector, year and GHG. The complete GHG inventory submission of the European Union to the UNFCCC— which underpins the emissions shown in this viewer — is accessible from the EEA Greenhouse gas inventory page. For references, please go to https://www.eea.europa.eu/help/faq/where-can-i-access-greenhouse or scan the QR code. PDF generated on 29 Jan 2022, 05:02 PM\\nFiled under: Climate change mitigation\\nFiled under: Climate change mitigation\\nThe EEA is an agency of the European Union\\nEngineered by: EEA Web Team\\nSoftware updated on 21 January 2022 18:26 from version 21.12.30\\nSoftware version: EEA Plone KGS 22.1.20\\nCode for developers\\nSystems Status\\nLegal notice\\nCreative commons license\\nCMS login\\nDocument Actions\\nShare with others',\n",
       "  'questions': [{'question': \"What is the EEA's GHG inventory?\",\n",
       "    'answer': 'The complete GHG inventory submission of the European Union to the UNFCCC— which underpins the emissions shown in this viewer — is accessible from the EEA Greenhouse gas inventory page.'},\n",
       "   {'question': 'Where can I find the information on greenhouse gas emissions and emissions?',\n",
       "    'answer': 'eu/help/faq/where-can-i-access-greenhouse or scan the QR code.'},\n",
       "   {'question': 'What can we do to help the environment?',\n",
       "    'answer': 'Do something for our planet, print this page only if needed.'}]},\n",
       " '24.json_2': {'text': 'Do something for our planet, print this page only if needed. Even a small action can make an enormous difference when millions of people do it! HelpCenter FAQ\\nHelpCenter FAQ\\nThe Industrial emissions portal (formerly E-PRTR) is the Europe-wide register that provides easily accessible key environmental data from industrial facilities in European Union Member States and in Iceland, Liechtenstein, Norway, Serbia and Switzerland. It contains data reported annually by more than 30.000 industrial facilities covering 65 economic activities across Europe. For references, please go to https://www.eea.europa.eu/help/faq/where-can-i-access-data or scan the QR code. PDF generated on 29 Jan 2022, 05:00 PM\\nFiled under: Industry\\nFiled under: Industry\\nThe EEA is an agency of the European Union\\nEngineered by: EEA Web Team\\nSoftware updated on 21 January 2022 18:26 from version 21.12.30\\nSoftware version: EEA Plone KGS 22.1.20\\nCode for developers\\nSystems Status\\nLegal notice\\nCreative commons license\\nCMS login\\nDocument Actions\\nShare with others',\n",
       "  'questions': [{'question': 'What is the e-PRTR?',\n",
       "    'answer': 'HelpCenter FAQ</s> HelpCenter FAQ</s> The Industrial emissions portal (formerly E-PRTR) is the Europe-wide register that provides easily accessible key environmental data from industrial facilities in European Union Member States and in Iceland, Liechtenstein, Norway, Serbia and Switzerland.'},\n",
       "   {'question': 'What is the e-PRTR?',\n",
       "    'answer': 'eu/help/faq/where-can-i-access-data or scan the QR code.'},\n",
       "   {'question': \"What is the EEA's environmental data portal?\",\n",
       "    'answer': '30</s> Software version: EEA Plone KGS 22.'}]},\n",
       " '24.json_3': {'text': \"Do something for our planet, print this page only if needed. Even a small action can make an enormous difference when millions of people do it! HelpCenter FAQ\\nHelpCenter FAQ\\nData and information on Europe's air quality, collected by the EEA, can be accessed under our Air pollution data centre. Air quality viewers are also available if you wish to check the quality of the air in your region and city. Please see:\\n- European air quality index\\n- Up-to-date air quality data viewer\\n- Air quality statistics data viewer\\n- Air pollution and COVID-19\\nInside the air pollution data centre, you have the possibility to download the historical and current data behind the above-mentioned viewers, and to access air pollution country factsheets. Last but not least, we publish Air quality in Europe reports on an annual basis. For references, please go to https://www.eea.europa.eu/help/faq/where-can-i-access-the or scan the QR code. PDF generated on 30 Jan 2022, 05:30 PM\\nFiled under: Air pollution\\nFiled under: Air pollution\\nThe EEA is an agency of the European Union\\nEngineered by: EEA Web Team\\nSoftware updated on 21 January 2022 18:26 from version 21.12.30\\nSoftware version: EEA Plone KGS 22.1.20\\nCode for developers\\nSystems Status\\nLegal notice\\nCreative commons license\\nCMS login\\nDocument Actions\\nShare with others\",\n",
       "  'questions': [{'question': 'What is the best way to check air quality?',\n",
       "    'answer': 'Air quality viewers are also available if you wish to check the quality of the air in your region and city.'},\n",
       "   {'question': 'How can you check the air quality in Europe?',\n",
       "    'answer': 'Last but not least, we publish Air quality in Europe reports on an annual basis.'},\n",
       "   {'question': 'Where can i find the air quality data?',\n",
       "    'answer': 'eu/help/faq/where-can-i-access-the or scan the QR code.'}]},\n",
       " '24.json_4': {'text': 'Do something for our planet, print this page only if needed. Even a small action can make an enormous difference when millions of people do it! HelpCenter FAQ\\nHelpCenter FAQ\\nThe parties to the United Nations Framework Convention on Climate Change (UNFCCC) report annually on greenhouse gas (GHG) inventories for the years between 1990 and the current calendar year (t) minus two (t-2), for emissions and removals within the area covered (i.e. emissions taking place within their territories). The latest data are available on the EEA greenhouse gas data viewer. Proxy greenhouse gas emission estimates for the year (t-1) and greenhouse gas emission projections also exist. In addition, emissions from the European Trading System are also available with a lag of 1 year. For references, please go to https://www.eea.europa.eu/help/faq/why-are-greenhouse-gas-emissions or scan the QR code. PDF generated on 29 Jan 2022, 05:01 PM\\nFiled under: Climate change mitigation\\nFiled under: Climate change mitigation\\nThe EEA is an agency of the European Union\\nEngineered by: EEA Web Team\\nSoftware updated on 21 January 2022 18:26 from version 21.12.30\\nSoftware version: EEA Plone KGS 22.1.20\\nCode for developers\\nSystems Status\\nLegal notice\\nCreative commons license\\nCMS login\\nDocument Actions\\nShare with others',\n",
       "  'questions': [{'question': 'What is the latest data available on the UNFCCC?',\n",
       "    'answer': 'The latest data are available on the EEA greenhouse gas data viewer.'},\n",
       "   {'question': 'How to do a climate change mitigation?',\n",
       "    'answer': 'PDF generated on 29 Jan 2022, 05:01 PM</s> Filed under: Climate change mitigation</s> Filed under: Climate change mitigation</s> The EEA is an agency of the European Union</s> Engineered by: EEA Web Team</s> Software updated on 21 January 2022 18:26 from version 21.'},\n",
       "   {'question': 'What is the most important thing to do?',\n",
       "    'answer': 'Do something for our planet, print this page only if needed.'}]},\n",
       " '24.json_5': {'text': 'Do something for our planet, print this page only if needed. Even a small action can make an enormous difference when millions of people do it! Data Visualization\\nData Visualization Created 06 Sep 2021 Published 13 Oct 2021 Last modified 21 Oct 2021\\n1 min read\\n2020 target\\nNotes:\\nILUC: indirect land use change. GHG: greenhouse gas emissions. The reduction target applies to values that exclude ILUC emissions only. HTML CSV TSV\\nJSON Exhibit JSON XML XML with Schema\\n2017-2019\\nFor references, please go to https://www.eea.europa.eu/data-and-maps/daviz/average-greenhouse-gas-intensity-of or scan the QR code. PDF generated on 30 Jan 2022, 01:27 PM\\nFiled under: fuels road transport greenhouse gas intensity\\nFiled under: fuels, road transport, greenhouse gas intensity\\nThe EEA is an agency of the European Union\\nEngineered by: EEA Web Team\\nSoftware updated on 21 January 2022 18:26 from version 21.12.30\\nSoftware version: EEA Plone KGS 22.1.20\\nCode for developers\\nSystems Status\\nLegal notice\\nCreative commons license\\nCMS login\\nDocument Actions\\nShare with others',\n",
       "  'questions': [{'question': 'What is the average greenhouse gas intensity of a city?',\n",
       "    'answer': 'eu/data-and-maps/daviz/average-greenhouse-gas-intensity-of or scan the QR code.'},\n",
       "   {'question': \"How to use the EEA's web site?\",\n",
       "    'answer': 'PDF generated on 30 Jan 2022, 01:27 PM</s> Filed under: fuels road transport greenhouse gas intensity</s> Filed under: fuels, road transport, greenhouse gas intensity</s> The EEA is an agency of the European Union</s> Engineered by: EEA Web Team</s> Software updated on 21 January 2022 18:26 from version 21.'},\n",
       "   {'question': 'What is the ILUC?',\n",
       "    'answer': 'The reduction target applies to values that exclude ILUC emissions only.'}]},\n",
       " '24.json_6': {'text': 'Greenhouse gas emissions inventory\\nThe data contained in the EU GHG inventory, as submitted to the UNFCCC, can be found in:\\nA description of the information contained in the GHG data viewer and GHG database is available here.',\n",
       "  'questions': [{'question': 'The EU GHG data viewer and GHG database is available here.?',\n",
       "    'answer': 'Greenhouse gas emissions inventory</s> The data contained in the EU GHG inventory, as submitted to the UNFCCC, can be found in:</s> A description of the information contained in the GHG data viewer and GHG database is available here.'}]},\n",
       " '24.json_7': {'text': 'Do something for our planet, print this page only if needed. Even a small action can make an enormous difference when millions of people do it! Data Visualization\\nData Visualization Created 25 Oct 2021 Published 25 Oct 2021 Last modified 27 Oct 2021\\n1 min read\\nchange and forestry\\nNotes:\\nThe figure shows the historic trend in LULUCF sector emissions and removals by main land use category. Data for emissions of each land use category are taken from the greenhouse gas inventory. Projections with existing and with additional measures are taken from the greenhouse gas projections data set. HTML CSV TSV\\nJSON Exhibit JSON XML XML with Schema\\n1990-2040\\nFor references, please go to https://www.eea.europa.eu/data-and-maps/daviz/eu-emissions-and-removals-of or scan the QR code. PDF generated on 30 Jan 2022, 01:25 PM\\nFiled under: lulucf land use projections\\nFiled under: lulucf, land use, projections\\nThe EEA is an agency of the European Union\\nEngineered by: EEA Web Team\\nSoftware updated on 21 January 2022 18:26 from version 21.12.30\\nSoftware version: EEA Plone KGS 22.1.20\\nCode for developers\\nSystems Status\\nLegal notice\\nCreative commons license\\nCMS login\\nDocument Actions\\nShare with others',\n",
       "  'questions': [{'question': 'lulucf is a web-based agency of the European Union. It is?',\n",
       "    'answer': 'PDF generated on 30 Jan 2022, 01:25 PM</s> Filed under: lulucf land use projections</s> Filed under: lulucf, land use, projections</s> The EEA is an agency of the European Union</s> Engineered by: EEA Web Team</s> Software updated on 21 January 2022 18:26 from version 21.'},\n",
       "   {'question': 'What is the average amount of land use in the United States?',\n",
       "    'answer': 'Data for emissions of each land use category are taken from the greenhouse gas inventory.'},\n",
       "   {'question': 'What is the newest version of this page?',\n",
       "    'answer': '30</s> Software version: EEA Plone KGS 22.'}]},\n",
       " '24.json_8': {'text': 'The Effort Sharing Decision (ESD) No 406/2009/EC establishes annual greenhouse gas emission targets for Member States for the period 2013–2020. These targets concern emissions from most sectors not included in the EU Emissions Trading System (ETS), such as transport, buildings, agriculture and waste. Emissions from land use, land use change and forestry (LULUCF) and international shipping are not included. Every year, the EEA coordinates the ESD review of Member States’ greenhouse gas inventories, so that the European Commission can determine compliance with the annual ESD targets on the basis of accurate, reliable and verified emission data. Review reports and final ESD emissions are published by the European Commission. ESD emissions for the period 2005–2012 and for the latest year (\"Y-1\") are estimated by EEA on the basis of national GHG inventory data and ETS emissions. EEA standard re-use policy: unless otherwise indicated, re-use of content on the EEA website for commercial or non-commercial purposes is permitted free of charge, provided that the source is acknowledged (https://www.eea.europa.eu/legal/copyright). Copyright holder: European Commission, European Environment Agency (EEA). Methodology:\\nIn all cases, the formula used to calculate ESD emissions was:\\n“Total GHG emissions – ETS emissions (including EEA estimates for 2005-2012 to reflect current scope of the ETS) – CO2 emissions from domestic aviation (source category 1A3a) – NF3 emissions”\\nIn the case of 2017 ESD emissions, CO2 emissions from domestic aviation and NF3 emissions, which were not specifically reported by Member States, were gap filled by 2016 values from GHG inventories.',\n",
       "  'questions': [{'question': \"What are the EU's annual greenhouse gas emission targets?\",\n",
       "    'answer': 'These targets concern emissions from most sectors not included in the EU Emissions Trading System (ETS), such as transport, buildings, agriculture and waste.'},\n",
       "   {'question': 'What is the formula used to calculate ETS emissions?',\n",
       "    'answer': 'Methodology:</s> In all cases, the formula used to calculate ESD emissions was:</s> “Total GHG emissions – ETS emissions (including EEA estimates for 2005-2012 to reflect current scope of the ETS) – CO2 emissions from domestic aviation (source category 1A3a) – NF3 emissions”</s> In the case of 2017 ESD emissions, CO2 emissions from domestic aviation and NF3 emissions, which were not specifically reported by Member States, were gap filled by 2016 values from GHG inventories.'},\n",
       "   {'question': 'What is the role of the EEA in the ESD review?',\n",
       "    'answer': 'Every year, the EEA coordinates the ESD review of Member States’ greenhouse gas inventories, so that the European Commission can determine compliance with the annual ESD targets on the basis of accurate, reliable and verified emission data.'}]},\n",
       " '24.json_9': {'text': 'Data sources\\nThe data set is based on several information sources, depending on the period/year considered. For 2013 and 2014 ESD emissions, the data set is based on the 28 final review reports of the comprehensive review of GHG inventories. The 2015 and 2016 ESD emissions are based on the 28 final review reports of the annual ESD review 2017 and 2018. These data correspond to the values which will be used by the Commission to determine Member States’ compliance under the ESD. For 2017 ESD emissions, the data set is based on Member States’ submissions of “approximated inventories” of GHG emissions, together with the ETS verified emissions mentioned above. Document Actions\\nShare with others',\n",
       "  'questions': [{'question': 'What is the data set based on?',\n",
       "    'answer': 'Data sources</s> The data set is based on several information sources, depending on the period/year considered.'},\n",
       "   {'question': 'What is the data set based on?',\n",
       "    'answer': 'For 2013 and 2014 ESD emissions, the data set is based on the 28 final review reports of the comprehensive review of GHG inventories.'},\n",
       "   {'question': 'What is the data set based on?',\n",
       "    'answer': 'For 2017 ESD emissions, the data set is based on Member States’ submissions of “approximated inventories” of GHG emissions, together with the ETS verified emissions mentioned above.'}]},\n",
       " '24.json_10': {'text': 'Do something for our planet, print this page only if needed. Even a small action can make an enormous difference when millions of people do it! Data Visualization\\nData Visualization Created 29 Jul 2021 Published 25 Oct 2021 Last modified 25 Oct 2021\\n1 min read\\nIndicative level - low\\nNotes:\\nThe 2020-2030 trajectories represent indicative intensity levels that would allow the EU to achieve a net 55% reduction in greenhouse gases by 2030, compared with 1990. They are consistent with scenario ranges in the staff working document accompanying the ‘Fit for 55’ policy package. Greenhouse gas emission intensity (g CO2e/kWh) is calculated as the ratio of CO2e emissions from public electricity production (as a share of CO2 equivalent emissions from public electricity and heat production related to electricity production), and gross electricity production. EEA early estimate for 2020. HTML CSV TSV\\nJSON Exhibit JSON XML XML with Schema\\n11 Jun 2021 - Greenhouse gas emission intensity of electricity generation\\n08 Dec 2020 - Greenhouse gas emission intensity of electricity generation\\n18 Dec 2018 - CO2 emission intensity\\n15 Dec 2016 - CO2 emission intensity\\n10 Dec 2015 - CO2 emission intensity\\n19 Dec 2014 - CO2 - emission intensity\\n1990-2020\\nFor references, please go to https://www.eea.europa.eu/data-and-maps/daviz/co2-emission-intensity-9 or scan the QR code. PDF generated on 30 Jan 2022, 01:25 PM\\nFiled under: electricity generation\\nFiled under: electricity generation\\nThe EEA is an agency of the European Union\\nEngineered by: EEA Web Team\\nSoftware updated on 21 January 2022 18:26 from version 21.12.30\\nSoftware version: EEA Plone KGS 22.1.20\\nCode for developers\\nSystems Status\\nLegal notice\\nCreative commons license\\nCMS login\\nDocument Actions\\nShare with others',\n",
       "  'questions': [{'question': '- Greenhouse gas emission intensity of electricity generation - XML with Schema?',\n",
       "    'answer': 'HTML CSV TSV</s> JSON Exhibit JSON XML XML with Schema</s> 11 Jun 2021 - Greenhouse gas emission intensity of electricity generation</s> 08 Dec 2020 - Greenhouse gas emission intensity of electricity generation</s> 18 Dec 2018 - CO2 emission intensity</s> 15 Dec 2016 - CO2 emission intensity</s> 10 Dec 2015 - CO2 emission intensity</s> 19 Dec 2014 - CO2 - emission intensity</s> 1990-2020</s> For references, please go to https://www.'},\n",
       "   {'question': 'What is the shortest time to print this page?',\n",
       "    'answer': 'Do something for our planet, print this page only if needed.'},\n",
       "   {'question': 'How much carbon dioxide is produced by public electricity?',\n",
       "    'answer': 'Greenhouse gas emission intensity (g CO2e/kWh) is calculated as the ratio of CO2e emissions from public electricity production (as a share of CO2 equivalent emissions from public electricity and heat production related to electricity production), and gross electricity production.'}]},\n",
       " '24.json_11': {'text': 'Do something for our planet, print this page only if needed. Even a small action can make an enormous difference when millions of people do it! Data Visualization\\nData Visualization Created 29 Aug 2019 Published 17 Dec 2019 Last modified 17 Dec 2019\\n1 min read\\nChange 1990-2017 — Change in total greenhouse gas emissions from transport\\nNote: The change in overall greenhouse gas emissions from transport includes aviation but not international maritime emissions. HTML CSV TSV\\nJSON Exhibit JSON XML XML with Schema\\n22 Nov 2018 - Change in total greenhouse gas emissions from transport\\n11 Jul 2017 - Change in total greenhouse gas emissions from transport\\n01 Dec 2016 - Change in total greenhouse gas emissions from transport\\n17 Dec 2015 - Change in total greenhouse gas emissions from transport\\n12 Dec 2014 - Change in total GHG emissions from transport\\n12 Dec 2013 - Change in total GHG emissions from transport\\n12 Jan 2011 - Change in total GHG emissions from transport\\n12 Nov 2009 - Change in total GHG emissions from transport\\n12 Nov 2009 - TERM02 Change in total GHG emissions from transport\\n12 Nov 2009 - TERM02 Change in total GHG emissions from transport\\n1990 2017\\nFor references, please go to https://www.eea.europa.eu/data-and-maps/daviz/change-in-total-ghg-emissions-7 or scan the QR code. PDF generated on 30 Jan 2022, 10:19 PM\\nFiled under: transport emissions ghg emissions\\nFiled under: transport emissions, ghg emissions\\nThe EEA is an agency of the European Union\\nEngineered by: EEA Web Team\\nSoftware updated on 21 January 2022 18:26 from version 21.12.30\\nSoftware version: EEA Plone KGS 22.1.20\\nCode for developers\\nSystems Status\\nLegal notice\\nCreative commons license\\nCMS login\\nDocument Actions\\nShare with others',\n",
       "  'questions': [{'question': 'Change in total greenhouse gas emissions from transport - Change in total GHG emissions from transport?',\n",
       "    'answer': 'HTML CSV TSV</s> JSON Exhibit JSON XML XML with Schema</s> 22 Nov 2018 - Change in total greenhouse gas emissions from transport</s> 11 Jul 2017 - Change in total greenhouse gas emissions from transport</s> 01 Dec 2016 - Change in total greenhouse gas emissions from transport</s> 17 Dec 2015 - Change in total greenhouse gas emissions from transport</s> 12 Dec 2014 - Change in total GHG emissions from transport</s> 12 Dec 2013 - Change in total GHG emissions from transport</s> 12 Jan 2011 - Change in total GHG emissions from transport</s> 12 Nov 2009 - Change in total GHG emissions from transport</s> 12 Nov 2009 - TERM02 Change in total GHG emissions from transport</s> 12 Nov 2009 - TERM02 Change in total GHG emissions from transport</s> 1990 2017</s> For references, please go to https://www.'},\n",
       "   {'question': 'What is the difference in global greenhouse gas emissions from transport?',\n",
       "    'answer': 'Data Visualization</s> Data Visualization Created 29 Aug 2019 Published 17 Dec 2019 Last modified 17 Dec 2019</s> 1 min read</s> Change 1990-2017 — Change in total greenhouse gas emissions from transport</s> Note: The change in overall greenhouse gas emissions from transport includes aviation but not international maritime emissions.'},\n",
       "   {'question': 'ghg emissions - ea.eu. - -?',\n",
       "    'answer': 'PDF generated on 30 Jan 2022, 10:19 PM</s> Filed under: transport emissions ghg emissions</s> Filed under: transport emissions, ghg emissions</s> The EEA is an agency of the European Union</s> Engineered by: EEA Web Team</s> Software updated on 21 January 2022 18:26 from version 21.'}]}}"
      ]
     },
     "execution_count": 15,
     "metadata": {},
     "output_type": "execute_result"
    }
   ],
   "source": [
    "res"
   ]
  },
  {
   "cell_type": "code",
   "execution_count": 16,
   "id": "3bec7c10-04ab-44ef-a316-ec5db1094279",
   "metadata": {},
   "outputs": [],
   "source": [
    "def convert_to_squad(input_path, output_path):\n",
    "    \n",
    "    with open(input_path) as f:\n",
    "        dataset = json.load(f)\n",
    "    \n",
    "    doc_counter = 1\n",
    "    \n",
    "    json_squad = {}\n",
    "    json_squad[\"data\"] = []\n",
    "    \n",
    "    with open(output_path, \"w\") as f:\n",
    "                    \n",
    "        for key in dataset:\n",
    "            \n",
    "            curr_json_squad_elem = {}\n",
    "            \n",
    "            question_counter = 1\n",
    "            \n",
    "            curr_json = dataset[key]\n",
    "            \n",
    "            title = \"title_\" + str(doc_counter)\n",
    "            paragraphs = []\n",
    "\n",
    "            curr_paragraph = {}\n",
    "            \n",
    "            context = curr_json[\"text\"]\n",
    "            tokenized_context = qg_tokenizer(context)\n",
    "            transformed_context = qg_tokenizer.decode(tokenized_context.input_ids)\n",
    "            \n",
    "            transformed_context = transformed_context.replace(\"</s>\",\"\")\n",
    "            \n",
    "            curr_paragraph[\"context\"] = transformed_context\n",
    "            \n",
    "            qas = []\n",
    "            \n",
    "            questions_and_answers = curr_json[\"questions\"]\n",
    "            \n",
    "            for qa_pair in questions_and_answers:\n",
    "                curr_qa = {}\n",
    "                curr_qa[\"answers\"] = []\n",
    "                \n",
    "                curr_qa_curr_ans = {}\n",
    "            \n",
    "                answer = qa_pair[\"answer\"].replace(\"</s>\",\"\")\n",
    "                curr_qa_curr_ans[\"text\"] = answer\n",
    "                \n",
    "                curr_qa_curr_ans[\"answer_start\"] = curr_paragraph[\"context\"].find(answer)\n",
    "                \n",
    "\n",
    "                curr_qa[\"answers\"].append(curr_qa_curr_ans)\n",
    "                \n",
    "                #double the answer when an answer is found\n",
    "                #if (curr_qa_curr_ans[\"answer_start\"] != -1):\n",
    "                #    curr_qa[\"answers\"].append(curr_qa_curr_ans) \n",
    "                \n",
    "                curr_qa[\"id\"] = key + \"_\" + str(question_counter)\n",
    "                question = qa_pair[\"question\"].replace(\"</s>\",\"\")\n",
    "                curr_qa[\"question\"] = question\n",
    "                \n",
    "                if (curr_qa_curr_ans[\"answer_start\"] == -1): \n",
    "                    curr_qa[\"is_impossible\"] = True\n",
    "                else:\n",
    "                    curr_qa[\"is_impossible\"] = False\n",
    "\n",
    "                qas.append(curr_qa)\n",
    "                \n",
    "                question_counter += 1\n",
    "\n",
    "            curr_paragraph[\"qas\"] = qas\n",
    "\n",
    "            paragraphs.append(curr_paragraph)\n",
    "\n",
    "            curr_json_squad_elem[\"title\"] = key\n",
    "            curr_json_squad_elem[\"paragraphs\"] = paragraphs\n",
    "            \n",
    "            json_squad[\"data\"].append(curr_json_squad_elem)\n",
    "            \n",
    "            doc_counter += 1\n",
    "    \n",
    "        json.dump(json_squad, f, indent=4)"
   ]
  },
  {
   "cell_type": "code",
   "execution_count": 17,
   "id": "e74a7e67-ce35-470e-b7da-864da2f39c5f",
   "metadata": {},
   "outputs": [],
   "source": [
    "input_full_path = \"data/qa/qa_pairs.json\"\n",
    "converted_output_full_path =\"data/qa/qa_pairs_squad.json\" #this file contains the qa pairs in SQuAD format\n",
    "convert_to_squad(input_full_path, converted_output_full_path)"
   ]
  },
  {
   "cell_type": "code",
   "execution_count": null,
   "id": "584d50c2-76c4-4450-893c-2ed00355f083",
   "metadata": {},
   "outputs": [],
   "source": []
  },
  {
   "cell_type": "code",
   "execution_count": null,
   "id": "6eff870a-1899-4a6f-9af6-ec0b26d1060c",
   "metadata": {},
   "outputs": [],
   "source": []
  }
 ],
 "metadata": {
  "kernelspec": {
   "display_name": "py384",
   "language": "python",
   "name": "py384"
  },
  "language_info": {
   "codemirror_mode": {
    "name": "ipython",
    "version": 3
   },
   "file_extension": ".py",
   "mimetype": "text/x-python",
   "name": "python",
   "nbconvert_exporter": "python",
   "pygments_lexer": "ipython3",
   "version": "3.8.13"
  }
 },
 "nbformat": 4,
 "nbformat_minor": 5
}
