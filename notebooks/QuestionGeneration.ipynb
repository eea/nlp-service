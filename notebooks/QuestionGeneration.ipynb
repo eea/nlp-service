{
 "cells": [
  {
   "cell_type": "code",
   "execution_count": 2,
   "id": "01bc3f3f-effc-48f6-b01e-2042b4987b02",
   "metadata": {},
   "outputs": [],
   "source": [
    "import sys\n",
    "sys.path.append('../')"
   ]
  },
  {
   "cell_type": "code",
   "execution_count": 3,
   "id": "4e9cf36e-75b2-4241-9015-587e3a96d0d3",
   "metadata": {},
   "outputs": [],
   "source": [
    "from app.services.lib.questiongeneration_pipeline import pipeline"
   ]
  },
  {
   "cell_type": "code",
   "execution_count": 4,
   "id": "c31713be-8222-497b-9781-93d2fbfe4003",
   "metadata": {},
   "outputs": [],
   "source": [
    "nlp = pipeline(\"question-generation\")"
   ]
  },
  {
   "cell_type": "code",
   "execution_count": 5,
   "id": "3465844a-ceb9-4780-a5c3-599cd784ccd6",
   "metadata": {},
   "outputs": [
    {
     "name": "stderr",
     "output_type": "stream",
     "text": [
      "/home/tibi/mambaforge/envs/py38/lib/python3.8/site-packages/torch/_tensor.py:575: UserWarning: floor_divide is deprecated, and will be removed in a future version of pytorch. It currently rounds toward 0 (like the 'trunc' function NOT 'floor'). This results in incorrect rounding for negative values.\n",
      "To keep the current behavior, use torch.div(a, b, rounding_mode='trunc'), or for actual floor division, use torch.div(a, b, rounding_mode='floor'). (Triggered internally at  /opt/conda/conda-bld/pytorch_1623448278899/work/aten/src/ATen/native/BinaryOps.cpp:467.)\n",
      "  return torch.floor_divide(self, other)\n"
     ]
    },
    {
     "data": {
      "text/plain": [
       "[{'answer': '42',\n",
       "  'question': 'What is the answer to life, the universe and everything?'}]"
      ]
     },
     "execution_count": 5,
     "metadata": {},
     "output_type": "execute_result"
    }
   ],
   "source": [
    "nlp(\"42 is the answer to life, the universe and everything.\")"
   ]
  },
  {
   "cell_type": "code",
   "execution_count": null,
   "id": "834b46a9-500a-4b18-9da5-e006399cc9b8",
   "metadata": {},
   "outputs": [],
   "source": []
  }
 ],
 "metadata": {
  "kernelspec": {
   "display_name": "Python 3 (ipykernel)",
   "language": "python",
   "name": "python3"
  },
  "language_info": {
   "codemirror_mode": {
    "name": "ipython",
    "version": 3
   },
   "file_extension": ".py",
   "mimetype": "text/x-python",
   "name": "python",
   "nbconvert_exporter": "python",
   "pygments_lexer": "ipython3",
   "version": "3.8.10"
  }
 },
 "nbformat": 4,
 "nbformat_minor": 5
}
